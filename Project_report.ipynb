{
 "cells": [
  {
   "cell_type": "markdown",
   "id": "4c501a0e-d3b0-462f-a26f-62d53281ca43",
   "metadata": {},
   "source": [
    "# Methods and Results "
   ]
  },
  {
   "cell_type": "code",
   "execution_count": 2,
   "id": "5e4291a8-f4da-4ebe-9022-7acc2a45a7f2",
   "metadata": {
    "tags": []
   },
   "outputs": [],
   "source": [
    "# Required packages and versions\n",
    "# install.packages(\"janitor\")\n",
    "# install.packages(\"cowplot\")"
   ]
  },
  {
   "cell_type": "code",
   "execution_count": 3,
   "id": "64873bd0-d0b1-42c8-8b87-29f258f619a4",
   "metadata": {
    "tags": []
   },
   "outputs": [
    {
     "name": "stderr",
     "output_type": "stream",
     "text": [
      "── \u001b[1mAttaching packages\u001b[22m ─────────────────────────────────────── tidyverse 1.3.2 ──\n",
      "\u001b[32m✔\u001b[39m \u001b[34mggplot2\u001b[39m 3.4.2     \u001b[32m✔\u001b[39m \u001b[34mpurrr  \u001b[39m 1.0.1\n",
      "\u001b[32m✔\u001b[39m \u001b[34mtibble \u001b[39m 3.2.1     \u001b[32m✔\u001b[39m \u001b[34mdplyr  \u001b[39m 1.1.1\n",
      "\u001b[32m✔\u001b[39m \u001b[34mtidyr  \u001b[39m 1.3.0     \u001b[32m✔\u001b[39m \u001b[34mstringr\u001b[39m 1.5.0\n",
      "\u001b[32m✔\u001b[39m \u001b[34mreadr  \u001b[39m 2.1.3     \u001b[32m✔\u001b[39m \u001b[34mforcats\u001b[39m 0.5.2\n",
      "── \u001b[1mConflicts\u001b[22m ────────────────────────────────────────── tidyverse_conflicts() ──\n",
      "\u001b[31m✖\u001b[39m \u001b[34mdplyr\u001b[39m::\u001b[32mfilter()\u001b[39m masks \u001b[34mstats\u001b[39m::filter()\n",
      "\u001b[31m✖\u001b[39m \u001b[34mdplyr\u001b[39m::\u001b[32mlag()\u001b[39m    masks \u001b[34mstats\u001b[39m::lag()\n"
     ]
    },
    {
     "ename": "ERROR",
     "evalue": "Error in library(janitor): there is no package called ‘janitor’\n",
     "output_type": "error",
     "traceback": [
      "Error in library(janitor): there is no package called ‘janitor’\nTraceback:\n",
      "1. library(janitor)"
     ]
    }
   ],
   "source": [
    "library(tidyverse)\n",
    "library(janitor)\n",
    "library(repr)\n",
    "library(tidymodels)\n",
    "library(cowplot)"
   ]
  },
  {
   "cell_type": "markdown",
   "id": "cb9152bb-b46e-42c0-bc64-f37cd5064e0a",
   "metadata": {
    "tags": []
   },
   "source": [
    "## Preliminary Exploratory Data Analysis"
   ]
  },
  {
   "cell_type": "markdown",
   "id": "08062249-4f23-4e5d-86d6-dcc242683544",
   "metadata": {},
   "source": [
    "#### 1. load the dataset \n",
    "Source: https://www.kaggle.com/datasets/risakashiwabara/jpmean-and-standard-deviation-of-height-and-weight/\n",
    "\n",
    "To answer this question we will analyze a data set of japanese boys' heights and weights. This data, `man.csv` was downloaded from [Kaggle](https://www.kaggle.com/datasets/risakashiwabara/jpmean-and-standard-deviation-of-height-and-weight/)(same as source). Each row in the data set represents an observation (i.e. a japanese boy). \n",
    "The columns in the data set `man.csv` represents: \n",
    "- `year` - The age of the individual (yrs)\n",
    "- `category` - The region the individual is from\n",
    "- `height_average` - The average height of the boys with the same age in this region (cm)\n",
    "- `height_standard deviation` - The standard deviation of the height of the boys with the same age in this region (cm)\n",
    "- `body weight _average` - The average weight of the boys with the same age in this region (kg)\n",
    "- `body weight _standard deviation` - The standard deviation of the weight of the boys with the same age in this region (kg)"
   ]
  },
  {
   "cell_type": "code",
   "execution_count": 5,
   "id": "59313d65-a7d0-413d-99a2-e50ce6d9d38b",
   "metadata": {
    "tags": []
   },
   "outputs": [
    {
     "name": "stderr",
     "output_type": "stream",
     "text": [
      "\u001b[1mRows: \u001b[22m\u001b[34m624\u001b[39m \u001b[1mColumns: \u001b[22m\u001b[34m6\u001b[39m\n",
      "\u001b[36m──\u001b[39m \u001b[1mColumn specification\u001b[22m \u001b[36m────────────────────────────────────────────────────────\u001b[39m\n",
      "\u001b[1mDelimiter:\u001b[22m \",\"\n",
      "\u001b[31mchr\u001b[39m (1): category\n",
      "\u001b[32mdbl\u001b[39m (5): year, height_average, height_standard deviation, body weight _avera...\n",
      "\n",
      "\u001b[36mℹ\u001b[39m Use `spec()` to retrieve the full column specification for this data.\n",
      "\u001b[36mℹ\u001b[39m Specify the column types or set `show_col_types = FALSE` to quiet this message.\n"
     ]
    }
   ],
   "source": [
    "man_data <- read_csv(\"https://raw.githubusercontent.com/Ekenny02/dsci-100-project/main/man.csv\")"
   ]
  },
  {
   "cell_type": "markdown",
   "id": "d2553718-1544-4707-9fdf-262b0e7bc79b",
   "metadata": {},
   "source": [
    "### Table 1:  *man_data - untidy*\n",
    "Here we take a look at the original data set `man_data`, because there are too many observation, we use head and tail to get a sens of what the data set looks like"
   ]
  },
  {
   "cell_type": "code",
   "execution_count": 9,
   "id": "df68bf50-576a-44f1-a08c-5cf9d0ad8200",
   "metadata": {
    "tags": []
   },
   "outputs": [
    {
     "data": {
      "text/html": [
       "<table class=\"dataframe\">\n",
       "<caption>A tibble: 6 × 6</caption>\n",
       "<thead>\n",
       "\t<tr><th scope=col>year</th><th scope=col>category</th><th scope=col>height_average</th><th scope=col>height_standard deviation</th><th scope=col>body weight _average</th><th scope=col>body weight _standard deviation</th></tr>\n",
       "\t<tr><th scope=col>&lt;dbl&gt;</th><th scope=col>&lt;chr&gt;</th><th scope=col>&lt;dbl&gt;</th><th scope=col>&lt;dbl&gt;</th><th scope=col>&lt;dbl&gt;</th><th scope=col>&lt;dbl&gt;</th></tr>\n",
       "</thead>\n",
       "<tbody>\n",
       "\t<tr><td>5</td><td>national</td><td>111.0</td><td>4.87</td><td>19.3</td><td>2.79</td></tr>\n",
       "\t<tr><td>5</td><td>Hokkaido</td><td>111.3</td><td>4.81</td><td>19.3</td><td>2.83</td></tr>\n",
       "\t<tr><td>5</td><td>Aomori  </td><td>111.8</td><td>4.87</td><td>19.9</td><td>2.78</td></tr>\n",
       "\t<tr><td>5</td><td>Iwate   </td><td>111.0</td><td>5.08</td><td>19.6</td><td>3.02</td></tr>\n",
       "\t<tr><td>5</td><td>Miyagi  </td><td>111.3</td><td>4.90</td><td>19.7</td><td>3.04</td></tr>\n",
       "\t<tr><td>5</td><td>Akita   </td><td>112.3</td><td>5.08</td><td>19.9</td><td>3.16</td></tr>\n",
       "</tbody>\n",
       "</table>\n"
      ],
      "text/latex": [
       "A tibble: 6 × 6\n",
       "\\begin{tabular}{llllll}\n",
       " year & category & height\\_average & height\\_standard deviation & body weight \\_average & body weight \\_standard deviation\\\\\n",
       " <dbl> & <chr> & <dbl> & <dbl> & <dbl> & <dbl>\\\\\n",
       "\\hline\n",
       "\t 5 & national & 111.0 & 4.87 & 19.3 & 2.79\\\\\n",
       "\t 5 & Hokkaido & 111.3 & 4.81 & 19.3 & 2.83\\\\\n",
       "\t 5 & Aomori   & 111.8 & 4.87 & 19.9 & 2.78\\\\\n",
       "\t 5 & Iwate    & 111.0 & 5.08 & 19.6 & 3.02\\\\\n",
       "\t 5 & Miyagi   & 111.3 & 4.90 & 19.7 & 3.04\\\\\n",
       "\t 5 & Akita    & 112.3 & 5.08 & 19.9 & 3.16\\\\\n",
       "\\end{tabular}\n"
      ],
      "text/markdown": [
       "\n",
       "A tibble: 6 × 6\n",
       "\n",
       "| year &lt;dbl&gt; | category &lt;chr&gt; | height_average &lt;dbl&gt; | height_standard deviation &lt;dbl&gt; | body weight _average &lt;dbl&gt; | body weight _standard deviation &lt;dbl&gt; |\n",
       "|---|---|---|---|---|---|\n",
       "| 5 | national | 111.0 | 4.87 | 19.3 | 2.79 |\n",
       "| 5 | Hokkaido | 111.3 | 4.81 | 19.3 | 2.83 |\n",
       "| 5 | Aomori   | 111.8 | 4.87 | 19.9 | 2.78 |\n",
       "| 5 | Iwate    | 111.0 | 5.08 | 19.6 | 3.02 |\n",
       "| 5 | Miyagi   | 111.3 | 4.90 | 19.7 | 3.04 |\n",
       "| 5 | Akita    | 112.3 | 5.08 | 19.9 | 3.16 |\n",
       "\n"
      ],
      "text/plain": [
       "  year category height_average height_standard deviation body weight _average\n",
       "1 5    national 111.0          4.87                      19.3                \n",
       "2 5    Hokkaido 111.3          4.81                      19.3                \n",
       "3 5    Aomori   111.8          4.87                      19.9                \n",
       "4 5    Iwate    111.0          5.08                      19.6                \n",
       "5 5    Miyagi   111.3          4.90                      19.7                \n",
       "6 5    Akita    112.3          5.08                      19.9                \n",
       "  body weight _standard deviation\n",
       "1 2.79                           \n",
       "2 2.83                           \n",
       "3 2.78                           \n",
       "4 3.02                           \n",
       "5 3.04                           \n",
       "6 3.16                           "
      ]
     },
     "metadata": {},
     "output_type": "display_data"
    },
    {
     "data": {
      "text/html": [
       "<table class=\"dataframe\">\n",
       "<caption>A tibble: 6 × 6</caption>\n",
       "<thead>\n",
       "\t<tr><th scope=col>year</th><th scope=col>category</th><th scope=col>height_average</th><th scope=col>height_standard deviation</th><th scope=col>body weight _average</th><th scope=col>body weight _standard deviation</th></tr>\n",
       "\t<tr><th scope=col>&lt;dbl&gt;</th><th scope=col>&lt;chr&gt;</th><th scope=col>&lt;dbl&gt;</th><th scope=col>&lt;dbl&gt;</th><th scope=col>&lt;dbl&gt;</th><th scope=col>&lt;dbl&gt;</th></tr>\n",
       "</thead>\n",
       "<tbody>\n",
       "\t<tr><td>17</td><td>Nagasaki </td><td>170.7</td><td>5.51</td><td>63.6</td><td>10.78</td></tr>\n",
       "\t<tr><td>17</td><td>Kumamoto </td><td>170.6</td><td>5.89</td><td>62.5</td><td> 9.30</td></tr>\n",
       "\t<tr><td>17</td><td>Oita     </td><td>170.1</td><td>5.91</td><td>63.3</td><td>10.63</td></tr>\n",
       "\t<tr><td>17</td><td>Miyazaki </td><td>170.1</td><td>6.13</td><td>63.5</td><td>11.23</td></tr>\n",
       "\t<tr><td>17</td><td>Kagoshima</td><td>170.4</td><td>5.60</td><td>62.2</td><td> 9.88</td></tr>\n",
       "\t<tr><td>17</td><td>Okinawa  </td><td>169.5</td><td>6.08</td><td>62.8</td><td>10.65</td></tr>\n",
       "</tbody>\n",
       "</table>\n"
      ],
      "text/latex": [
       "A tibble: 6 × 6\n",
       "\\begin{tabular}{llllll}\n",
       " year & category & height\\_average & height\\_standard deviation & body weight \\_average & body weight \\_standard deviation\\\\\n",
       " <dbl> & <chr> & <dbl> & <dbl> & <dbl> & <dbl>\\\\\n",
       "\\hline\n",
       "\t 17 & Nagasaki  & 170.7 & 5.51 & 63.6 & 10.78\\\\\n",
       "\t 17 & Kumamoto  & 170.6 & 5.89 & 62.5 &  9.30\\\\\n",
       "\t 17 & Oita      & 170.1 & 5.91 & 63.3 & 10.63\\\\\n",
       "\t 17 & Miyazaki  & 170.1 & 6.13 & 63.5 & 11.23\\\\\n",
       "\t 17 & Kagoshima & 170.4 & 5.60 & 62.2 &  9.88\\\\\n",
       "\t 17 & Okinawa   & 169.5 & 6.08 & 62.8 & 10.65\\\\\n",
       "\\end{tabular}\n"
      ],
      "text/markdown": [
       "\n",
       "A tibble: 6 × 6\n",
       "\n",
       "| year &lt;dbl&gt; | category &lt;chr&gt; | height_average &lt;dbl&gt; | height_standard deviation &lt;dbl&gt; | body weight _average &lt;dbl&gt; | body weight _standard deviation &lt;dbl&gt; |\n",
       "|---|---|---|---|---|---|\n",
       "| 17 | Nagasaki  | 170.7 | 5.51 | 63.6 | 10.78 |\n",
       "| 17 | Kumamoto  | 170.6 | 5.89 | 62.5 |  9.30 |\n",
       "| 17 | Oita      | 170.1 | 5.91 | 63.3 | 10.63 |\n",
       "| 17 | Miyazaki  | 170.1 | 6.13 | 63.5 | 11.23 |\n",
       "| 17 | Kagoshima | 170.4 | 5.60 | 62.2 |  9.88 |\n",
       "| 17 | Okinawa   | 169.5 | 6.08 | 62.8 | 10.65 |\n",
       "\n"
      ],
      "text/plain": [
       "  year category  height_average height_standard deviation body weight _average\n",
       "1 17   Nagasaki  170.7          5.51                      63.6                \n",
       "2 17   Kumamoto  170.6          5.89                      62.5                \n",
       "3 17   Oita      170.1          5.91                      63.3                \n",
       "4 17   Miyazaki  170.1          6.13                      63.5                \n",
       "5 17   Kagoshima 170.4          5.60                      62.2                \n",
       "6 17   Okinawa   169.5          6.08                      62.8                \n",
       "  body weight _standard deviation\n",
       "1 10.78                          \n",
       "2  9.30                          \n",
       "3 10.63                          \n",
       "4 11.23                          \n",
       "5  9.88                          \n",
       "6 10.65                          "
      ]
     },
     "metadata": {},
     "output_type": "display_data"
    }
   ],
   "source": [
    "head(man_data)\n",
    "tail(man_data)"
   ]
  },
  {
   "cell_type": "markdown",
   "id": "0e8d345f-5710-4760-b643-8d83f08c20ab",
   "metadata": {
    "tags": []
   },
   "source": [
    "From the original data set table above, we noticed a few **problems**, which we will address in the data cleaning process: \n",
    "1. We notice that some of the column names contain spaces between words. We will clean the column names using `clean_names` to make them consist of only lowercase letters and underscores.\n",
    "2. In the `category` column, representing the region of each observation, we have identified a category/region labeled \"national.\" This category is the average of the values for all regions in the `category` column."
   ]
  }
 ],
 "metadata": {
  "kernelspec": {
   "display_name": "R",
   "language": "R",
   "name": "ir"
  },
  "language_info": {
   "codemirror_mode": "r",
   "file_extension": ".r",
   "mimetype": "text/x-r-source",
   "name": "R",
   "pygments_lexer": "r",
   "version": "4.2.2"
  }
 },
 "nbformat": 4,
 "nbformat_minor": 5
}
