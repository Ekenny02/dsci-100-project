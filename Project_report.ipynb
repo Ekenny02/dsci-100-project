{
 "cells": [
  {
   "cell_type": "markdown",
   "id": "4c501a0e-d3b0-462f-a26f-62d53281ca43",
   "metadata": {},
   "source": [
    "# Methods and Results "
   ]
  },
  {
   "cell_type": "code",
   "execution_count": 3,
   "id": "5e4291a8-f4da-4ebe-9022-7acc2a45a7f2",
   "metadata": {
    "tags": []
   },
   "outputs": [
    {
     "name": "stderr",
     "output_type": "stream",
     "text": [
      "also installing the dependency ‘snakecase’\n",
      "\n",
      "\n",
      "Updating HTML index of packages in '.Library'\n",
      "\n",
      "Making 'packages.html' ...\n",
      " done\n",
      "\n",
      "Updating HTML index of packages in '.Library'\n",
      "\n",
      "Making 'packages.html' ...\n",
      " done\n",
      "\n",
      "also installing the dependencies ‘labelled’, ‘broom.helpers’, ‘ggplot2’, ‘ggstats’\n",
      "\n",
      "\n",
      "Updating HTML index of packages in '.Library'\n",
      "\n",
      "Making 'packages.html' ...\n",
      " done\n",
      "\n"
     ]
    }
   ],
   "source": [
    "## Required packages and versions\n",
    "install.packages(\"janitor\")\n",
    "install.packages(\"cowplot\")\n",
    "install.packages(\"GGally\")"
   ]
  },
  {
   "cell_type": "code",
   "execution_count": 4,
   "id": "64873bd0-d0b1-42c8-8b87-29f258f619a4",
   "metadata": {
    "tags": []
   },
   "outputs": [
    {
     "name": "stderr",
     "output_type": "stream",
     "text": [
      "\n",
      "Attaching package: ‘janitor’\n",
      "\n",
      "\n",
      "The following objects are masked from ‘package:stats’:\n",
      "\n",
      "    chisq.test, fisher.test\n",
      "\n",
      "\n",
      "── \u001b[1mAttaching packages\u001b[22m ────────────────────────────────────── tidymodels 1.0.0 ──\n",
      "\n",
      "\u001b[32m✔\u001b[39m \u001b[34mbroom       \u001b[39m 1.0.2     \u001b[32m✔\u001b[39m \u001b[34mrsample     \u001b[39m 1.1.1\n",
      "\u001b[32m✔\u001b[39m \u001b[34mdials       \u001b[39m 1.1.0     \u001b[32m✔\u001b[39m \u001b[34mtune        \u001b[39m 1.0.1\n",
      "\u001b[32m✔\u001b[39m \u001b[34minfer       \u001b[39m 1.0.4     \u001b[32m✔\u001b[39m \u001b[34mworkflows   \u001b[39m 1.1.2\n",
      "\u001b[32m✔\u001b[39m \u001b[34mmodeldata   \u001b[39m 1.0.1     \u001b[32m✔\u001b[39m \u001b[34mworkflowsets\u001b[39m 1.0.0\n",
      "\u001b[32m✔\u001b[39m \u001b[34mparsnip     \u001b[39m 1.0.3     \u001b[32m✔\u001b[39m \u001b[34myardstick   \u001b[39m 1.1.0\n",
      "\u001b[32m✔\u001b[39m \u001b[34mrecipes     \u001b[39m 1.0.4     \n",
      "\n",
      "── \u001b[1mConflicts\u001b[22m ───────────────────────────────────────── tidymodels_conflicts() ──\n",
      "\u001b[31m✖\u001b[39m \u001b[34mscales\u001b[39m::\u001b[32mdiscard()\u001b[39m masks \u001b[34mpurrr\u001b[39m::discard()\n",
      "\u001b[31m✖\u001b[39m \u001b[34mdplyr\u001b[39m::\u001b[32mfilter()\u001b[39m   masks \u001b[34mstats\u001b[39m::filter()\n",
      "\u001b[31m✖\u001b[39m \u001b[34mrecipes\u001b[39m::\u001b[32mfixed()\u001b[39m  masks \u001b[34mstringr\u001b[39m::fixed()\n",
      "\u001b[31m✖\u001b[39m \u001b[34mdplyr\u001b[39m::\u001b[32mlag()\u001b[39m      masks \u001b[34mstats\u001b[39m::lag()\n",
      "\u001b[31m✖\u001b[39m \u001b[34myardstick\u001b[39m::\u001b[32mspec()\u001b[39m masks \u001b[34mreadr\u001b[39m::spec()\n",
      "\u001b[31m✖\u001b[39m \u001b[34mrecipes\u001b[39m::\u001b[32mstep()\u001b[39m   masks \u001b[34mstats\u001b[39m::step()\n",
      "\u001b[34m•\u001b[39m Use \u001b[32mtidymodels_prefer()\u001b[39m to resolve common conflicts.\n",
      "\n",
      "Registered S3 method overwritten by 'GGally':\n",
      "  method from   \n",
      "  +.gg   ggplot2\n",
      "\n"
     ]
    }
   ],
   "source": [
    "library(tidyverse)\n",
    "library(janitor)\n",
    "library(repr)\n",
    "library(tidymodels)\n",
    "library(cowplot)\n",
    "library(GGally)"
   ]
  },
  {
   "cell_type": "markdown",
   "id": "cb9152bb-b46e-42c0-bc64-f37cd5064e0a",
   "metadata": {
    "tags": []
   },
   "source": [
    "## Preliminary Exploratory Data Analysis"
   ]
  },
  {
   "cell_type": "markdown",
   "id": "08062249-4f23-4e5d-86d6-dcc242683544",
   "metadata": {
    "tags": []
   },
   "source": [
    "### 1. Load the Original Dataset \n"
   ]
  },
  {
   "cell_type": "markdown",
   "id": "16723c9b-8d34-4785-bb87-3c621c70a0e5",
   "metadata": {},
   "source": [
    "Source: https://www.kaggle.com/datasets/risakashiwabara/jpmean-and-standard-deviation-of-height-and-weight/\n",
    "\n",
    "To answer this question we will analyze a data set of Japanese boys' heights and weights. This data, `man.csv` was downloaded from [Kaggle](https://www.kaggle.com/datasets/risakashiwabara/jpmean-and-standard-deviation-of-height-and-weight/)(same as source). Each row in the data set represents an observation (i.e. a Japanese boy). \n",
    "The columns in the data set `man.csv` represents: \n",
    "- `year` - The age of the individual (yrs), which we chose as the **response variable** that is continuous.\n",
    "- `category` - The region the individual is from\n",
    "- `height_average` - The average height of the boys with the same age in this region (cm)\n",
    "- `height_standard deviation` - The standard deviation of the height of the boys with the same age in this region (cm)\n",
    "- `body weight _average` - The average weight of the boys with the same age in this region (kg)\n",
    "- `body weight _standard deviation` - The standard deviation of the weight of the boys with the same age in this region (kg)"
   ]
  },
  {
   "cell_type": "code",
   "execution_count": 5,
   "id": "59313d65-a7d0-413d-99a2-e50ce6d9d38b",
   "metadata": {
    "tags": []
   },
   "outputs": [
    {
     "name": "stderr",
     "output_type": "stream",
     "text": [
      "\u001b[1mRows: \u001b[22m\u001b[34m624\u001b[39m \u001b[1mColumns: \u001b[22m\u001b[34m6\u001b[39m\n",
      "\u001b[36m──\u001b[39m \u001b[1mColumn specification\u001b[22m \u001b[36m────────────────────────────────────────────────────────\u001b[39m\n",
      "\u001b[1mDelimiter:\u001b[22m \",\"\n",
      "\u001b[31mchr\u001b[39m (1): category\n",
      "\u001b[32mdbl\u001b[39m (5): year, height_average, height_standard deviation, body weight _avera...\n",
      "\n",
      "\u001b[36mℹ\u001b[39m Use `spec()` to retrieve the full column specification for this data.\n",
      "\u001b[36mℹ\u001b[39m Specify the column types or set `show_col_types = FALSE` to quiet this message.\n"
     ]
    }
   ],
   "source": [
    "man_data <- read_csv(\"https://raw.githubusercontent.com/Ekenny02/dsci-100-project/main/man.csv\")"
   ]
  },
  {
   "cell_type": "markdown",
   "id": "d2553718-1544-4707-9fdf-262b0e7bc79b",
   "metadata": {},
   "source": [
    "#### Table 1:  *Untidy Man Dataset*\n",
    "Here we take a look at the original data set `man_data` (**Table 1**), because there are too many observations, we use `head(man_data)` to get a sense of what the data set looks like. The first 6 rows of the original data set `man_data` is shown below."
   ]
  },
  {
   "cell_type": "code",
   "execution_count": 6,
   "id": "df68bf50-576a-44f1-a08c-5cf9d0ad8200",
   "metadata": {
    "tags": []
   },
   "outputs": [
    {
     "data": {
      "text/html": [
       "<table class=\"dataframe\">\n",
       "<caption>A tibble: 6 × 6</caption>\n",
       "<thead>\n",
       "\t<tr><th scope=col>year</th><th scope=col>category</th><th scope=col>height_average</th><th scope=col>height_standard deviation</th><th scope=col>body weight _average</th><th scope=col>body weight _standard deviation</th></tr>\n",
       "\t<tr><th scope=col>&lt;dbl&gt;</th><th scope=col>&lt;chr&gt;</th><th scope=col>&lt;dbl&gt;</th><th scope=col>&lt;dbl&gt;</th><th scope=col>&lt;dbl&gt;</th><th scope=col>&lt;dbl&gt;</th></tr>\n",
       "</thead>\n",
       "<tbody>\n",
       "\t<tr><td>5</td><td>national</td><td>111.0</td><td>4.87</td><td>19.3</td><td>2.79</td></tr>\n",
       "\t<tr><td>5</td><td>Hokkaido</td><td>111.3</td><td>4.81</td><td>19.3</td><td>2.83</td></tr>\n",
       "\t<tr><td>5</td><td>Aomori  </td><td>111.8</td><td>4.87</td><td>19.9</td><td>2.78</td></tr>\n",
       "\t<tr><td>5</td><td>Iwate   </td><td>111.0</td><td>5.08</td><td>19.6</td><td>3.02</td></tr>\n",
       "\t<tr><td>5</td><td>Miyagi  </td><td>111.3</td><td>4.90</td><td>19.7</td><td>3.04</td></tr>\n",
       "\t<tr><td>5</td><td>Akita   </td><td>112.3</td><td>5.08</td><td>19.9</td><td>3.16</td></tr>\n",
       "</tbody>\n",
       "</table>\n"
      ],
      "text/latex": [
       "A tibble: 6 × 6\n",
       "\\begin{tabular}{llllll}\n",
       " year & category & height\\_average & height\\_standard deviation & body weight \\_average & body weight \\_standard deviation\\\\\n",
       " <dbl> & <chr> & <dbl> & <dbl> & <dbl> & <dbl>\\\\\n",
       "\\hline\n",
       "\t 5 & national & 111.0 & 4.87 & 19.3 & 2.79\\\\\n",
       "\t 5 & Hokkaido & 111.3 & 4.81 & 19.3 & 2.83\\\\\n",
       "\t 5 & Aomori   & 111.8 & 4.87 & 19.9 & 2.78\\\\\n",
       "\t 5 & Iwate    & 111.0 & 5.08 & 19.6 & 3.02\\\\\n",
       "\t 5 & Miyagi   & 111.3 & 4.90 & 19.7 & 3.04\\\\\n",
       "\t 5 & Akita    & 112.3 & 5.08 & 19.9 & 3.16\\\\\n",
       "\\end{tabular}\n"
      ],
      "text/markdown": [
       "\n",
       "A tibble: 6 × 6\n",
       "\n",
       "| year &lt;dbl&gt; | category &lt;chr&gt; | height_average &lt;dbl&gt; | height_standard deviation &lt;dbl&gt; | body weight _average &lt;dbl&gt; | body weight _standard deviation &lt;dbl&gt; |\n",
       "|---|---|---|---|---|---|\n",
       "| 5 | national | 111.0 | 4.87 | 19.3 | 2.79 |\n",
       "| 5 | Hokkaido | 111.3 | 4.81 | 19.3 | 2.83 |\n",
       "| 5 | Aomori   | 111.8 | 4.87 | 19.9 | 2.78 |\n",
       "| 5 | Iwate    | 111.0 | 5.08 | 19.6 | 3.02 |\n",
       "| 5 | Miyagi   | 111.3 | 4.90 | 19.7 | 3.04 |\n",
       "| 5 | Akita    | 112.3 | 5.08 | 19.9 | 3.16 |\n",
       "\n"
      ],
      "text/plain": [
       "  year category height_average height_standard deviation body weight _average\n",
       "1 5    national 111.0          4.87                      19.3                \n",
       "2 5    Hokkaido 111.3          4.81                      19.3                \n",
       "3 5    Aomori   111.8          4.87                      19.9                \n",
       "4 5    Iwate    111.0          5.08                      19.6                \n",
       "5 5    Miyagi   111.3          4.90                      19.7                \n",
       "6 5    Akita    112.3          5.08                      19.9                \n",
       "  body weight _standard deviation\n",
       "1 2.79                           \n",
       "2 2.83                           \n",
       "3 2.78                           \n",
       "4 3.02                           \n",
       "5 3.04                           \n",
       "6 3.16                           "
      ]
     },
     "metadata": {},
     "output_type": "display_data"
    }
   ],
   "source": [
    "head(man_data)"
   ]
  },
  {
   "cell_type": "markdown",
   "id": "0e8d345f-5710-4760-b643-8d83f08c20ab",
   "metadata": {
    "tags": []
   },
   "source": [
    "From the original data set table above, we noticed a few **problems**, which we will address in the **data cleaning process**: \n",
    "-  We notice that some of the column names are not very tidy because some contain spaces between words. \n",
    "-  In the `category` column, representing the region of each observation, we have identified a region labeled **\"national\"**. This category is the average of the values for all other regions in the `category` column.\n",
    "-  The variable name is not informative, for example, `category` actually means region, and `year` actually means age."
   ]
  },
  {
   "cell_type": "markdown",
   "id": "02956c89-3dd4-4121-93fa-696f51a861c2",
   "metadata": {
    "tags": []
   },
   "source": [
    "### 2. Data wrangling and cleaning \n"
   ]
  },
  {
   "cell_type": "markdown",
   "id": "e9fcdf7e-d874-4f92-be2d-7c5d8c45e482",
   "metadata": {},
   "source": [
    "1. To clean the name, we will clean the column names using `clean_names` to make them consist of only lowercase letters and underscores.\n",
    "2. Because **\"national\"** is the average of the values(e.g., average heights, average weights) for all regions in the `category` column. We will remove all observations with \"national\" in the `category` column. \n",
    "3. To make the variable names informative, we will rename the columns (variables) `year` to `age` and `category` to `region` to align with our analysis and ensure consistency.\n",
    "\n",
    "The above steps have made sure the `clean_man_data` is currently in a tidy format, as represented by **Table 2**."
   ]
  },
  {
   "cell_type": "code",
   "execution_count": 7,
   "id": "035998d8-fbeb-4ab4-bec2-d9fcec5098ec",
   "metadata": {
    "tags": []
   },
   "outputs": [],
   "source": [
    "# clean the dataset accordingly\n",
    "clean_man_data <- man_data |>\n",
    "        clean_names() |>\n",
    "        filter(category != \"national\") |>\n",
    "        rename(\"age\" = \"year\",\n",
    "               \"region\" = \"category\")"
   ]
  },
  {
   "cell_type": "markdown",
   "id": "ecf0903a-a8ad-4928-9ef6-d231cd008794",
   "metadata": {},
   "source": [
    "#### Table 2: *Tidy Man Datset*\n",
    "Here we take a look at the cleaned data set `clean_man_data`, because there are too many observation, we use `head(clean_man_data)` to get a sens of what the data set looks like\n",
    "The first 6 rows of the original data set `clean_man_data` is shown below."
   ]
  },
  {
   "cell_type": "code",
   "execution_count": null,
   "id": "a0c03aaf-e0b8-4b5c-b451-ede7d9de550f",
   "metadata": {
    "tags": []
   },
   "outputs": [],
   "source": [
    "head(clean_man_data)"
   ]
  },
  {
   "cell_type": "markdown",
   "id": "1692ede1-d23f-4183-b4c2-2d4b2775dc91",
   "metadata": {
    "tags": []
   },
   "source": [
    "### 3. Initial Split and Training Data Summary Tables\n"
   ]
  },
  {
   "cell_type": "markdown",
   "id": "0a5577c8-7092-476f-babc-6b5fea64aaa8",
   "metadata": {},
   "source": [
    "1. We first create a initial split of the data `man_split` and split it to training data `man_train` and testing data `man_test`. Because we want to predict the age of the given boys, we set the `strata` to be our target variable `age`, and the proportion of training data is `0.75`."
   ]
  },
  {
   "cell_type": "code",
   "execution_count": 8,
   "id": "0cc4abf0-a813-490a-88ed-6c910fbcd2ee",
   "metadata": {
    "tags": []
   },
   "outputs": [
    {
     "data": {
      "text/html": [
       "458"
      ],
      "text/latex": [
       "458"
      ],
      "text/markdown": [
       "458"
      ],
      "text/plain": [
       "[1] 458"
      ]
     },
     "metadata": {},
     "output_type": "display_data"
    },
    {
     "data": {
      "text/html": [
       "153"
      ],
      "text/latex": [
       "153"
      ],
      "text/markdown": [
       "153"
      ],
      "text/plain": [
       "[1] 153"
      ]
     },
     "metadata": {},
     "output_type": "display_data"
    }
   ],
   "source": [
    "set.seed(9999) # set.seed to make sure it is reproducible \n",
    "# split the data into training and testing.\n",
    "man_split <- initial_split(clean_man_data, prop = 0.75, starta = age)\n",
    "man_train <- training(man_split)\n",
    "man_test <- testing(man_split)\n",
    "\n",
    "# count number of rows of both training and testing dataset\n",
    "nrow(man_train)\n",
    "nrow(man_test)"
   ]
  },
  {
   "cell_type": "markdown",
   "id": "51bdd8da-f761-45a4-808d-cb0141086c63",
   "metadata": {},
   "source": [
    "#### Table 3: *Training Datset*\n",
    "Here we take a look at the training data `man_train` (**Table 3**). \n",
    "The first 6 rows of the training data set is shown below using `head(man_train)`."
   ]
  },
  {
   "cell_type": "code",
   "execution_count": null,
   "id": "0999d94e-2da8-4117-be47-3ffc65b2d78d",
   "metadata": {
    "tags": []
   },
   "outputs": [],
   "source": [
    "head(man_train)"
   ]
  },
  {
   "cell_type": "markdown",
   "id": "dcc4de7c-a747-4cde-8ee7-28ce2327adce",
   "metadata": {},
   "source": [
    "2. Then we look at if there is any rows with missing data and to remove those rows if applicable."
   ]
  },
  {
   "cell_type": "code",
   "execution_count": 9,
   "id": "ba3ddf54-bfb6-45b0-a54c-d2acc1abeedc",
   "metadata": {
    "tags": []
   },
   "outputs": [
    {
     "data": {
      "text/html": [
       "0"
      ],
      "text/latex": [
       "0"
      ],
      "text/markdown": [
       "0"
      ],
      "text/plain": [
       "[1] 0"
      ]
     },
     "metadata": {},
     "output_type": "display_data"
    }
   ],
   "source": [
    "missing_rows <- man_train |>\n",
    "                    filter(complete.cases(man_train) == FALSE) |>\n",
    "                    nrow() \n",
    "missing_rows"
   ]
  },
  {
   "cell_type": "markdown",
   "id": "07f2e591-6f31-48e6-92e2-f35cbd9f8791",
   "metadata": {},
   "source": [
    "looks like there is no missing data so no need to remove any row. "
   ]
  },
  {
   "cell_type": "markdown",
   "id": "42fb4b8e-8c3e-4bfb-b422-98f063b675bb",
   "metadata": {},
   "source": [
    "3. Because each row of our dataset **does not represent one individual**, instead, it represents summary statistics of individuals with certain age, region, which is more of a product of `group_by(age, region)` and `summarize(mean,sd)` from a more broader dataset that we don't have access to. As a result, we are worried that our data may suffer from **not having enough data points** and thus less accuracy, we want to take a look at the sample size and mean of the rest columns for the whole dataset, and also for each age group and region, as represented by **Table 4-6**.\n",
    "\n"
   ]
  },
  {
   "cell_type": "code",
   "execution_count": 10,
   "id": "1928a4eb-a306-4799-a07d-0f9f1077b9d8",
   "metadata": {
    "tags": []
   },
   "outputs": [],
   "source": [
    "# to get the whole sample size and summary statistics \n",
    "training_summary <- man_train |>\n",
    "    summarize(count = n())\n",
    "# to get the sample size and summary statistics by age \n",
    "training_summary_age <- man_train |>\n",
    "    group_by(age) |>\n",
    "    summarize(count = n())\n",
    "# to get the sample size and summary statistics by region \n",
    "training_summary_region <- man_train |>\n",
    "    group_by(region) |>\n",
    "    summarize(count = n())"
   ]
  },
  {
   "cell_type": "markdown",
   "id": "3b36ba54-261c-4ca2-b1c5-ea759f320ae9",
   "metadata": {},
   "source": [
    "#### Table 4: *Training Dataset Summary - Full*"
   ]
  },
  {
   "cell_type": "code",
   "execution_count": null,
   "id": "1f9ba758-b5a8-49c7-bf61-0838bed1a847",
   "metadata": {
    "tags": []
   },
   "outputs": [],
   "source": [
    "training_summary"
   ]
  },
  {
   "cell_type": "markdown",
   "id": "a4df3f75-de06-4dd2-8bc2-820d0d6b982d",
   "metadata": {},
   "source": [
    "#### Table 5: *Training Dataset Summary - Age*"
   ]
  },
  {
   "cell_type": "code",
   "execution_count": null,
   "id": "790d5386-8e43-4423-a1dd-d8828a9219d4",
   "metadata": {
    "tags": []
   },
   "outputs": [],
   "source": [
    "training_summary_age"
   ]
  },
  {
   "cell_type": "markdown",
   "id": "7f01548e-dee7-4461-9eaa-5b7225ada3a7",
   "metadata": {},
   "source": [
    "#### Table 6: *Training Dataset Summary - Region*"
   ]
  },
  {
   "cell_type": "code",
   "execution_count": null,
   "id": "b2668b87-53b6-4222-a141-6636fdb74bd3",
   "metadata": {
    "tags": []
   },
   "outputs": [],
   "source": [
    "training_summary_region"
   ]
  },
  {
   "cell_type": "markdown",
   "id": "44fea429-4e38-4924-86c2-790b3475ed17",
   "metadata": {},
   "source": [
    "Looking at the summary tables above of the training dataset, we better understand our dataset: \n",
    "- Like expected, our data set is **more of a summary data set** that have 12 age groups (from 5-17) and for each age we have around 35 data points that represent around 35 regions' height and weight summary statistics (i.e. mean and sd)\n",
    "- we can see that the number of individuals for each age group is comparative/balanced (around 35) and the number of individual for each region is also comparative/balanced (around 10) with a large sample size of 458 in total. \n",
    "- we are convinced now the data is balanced and have enough sample size using `age` as the response variable. We now can have some ideas of what to better phrase the research question according to our dataset: \n",
    "**given a data point with its region summary statistics (region/mean/sd), what is the predicted age of this data point?** we will discuss which summary statistics to choose as the predictors in the next section."
   ]
  },
  {
   "cell_type": "markdown",
   "id": "ec87bf42-8884-4834-9452-23209f0736f7",
   "metadata": {
    "tags": []
   },
   "source": [
    "### 4. The Data Type of `age` \n"
   ]
  },
  {
   "cell_type": "markdown",
   "id": "806b7400-f38e-45a5-a5f4-04a304106530",
   "metadata": {},
   "source": [
    "From the dataset structure we've explained above, we noticed a few things \n",
    "1. `age` is not nessarily a continuous variable statistically speaking because all age groups are integers in our data. However, it is clearly not categorical data type with just classes, because an age of a higher number is for sure larger than an age of a lower number (there is **order**)\n",
    "2. There is around 12 age groups that run from 5 to 17. \n",
    "\n",
    "Based on the data type of `age`, we can either treating `age` as a continuous variable and do a regression-related analysis or treating `age` as a categorical variable and do a classification analysis. However, although we have balanced samples for each age group (about 35), there are too many categories (12 categories) to predict. **As a result, we decided to treat `age` as a continuous variable and do a regression-typed analysis ($k$-nn regression or linear regression).**"
   ]
  },
  {
   "cell_type": "markdown",
   "id": "41d11a50-798d-4e2b-bc78-4cc48e8dd67c",
   "metadata": {
    "tags": []
   },
   "source": [
    "### 5. Predictors Selection and Training Data Summary Figures"
   ]
  },
  {
   "cell_type": "markdown",
   "id": "c810e6b8-8f82-412d-b90c-5c1fec9b7ea2",
   "metadata": {},
   "source": [
    "1. We noticed that `region` is the only categorical data in the rest of the column. Because we consider doing a regression analysis to predict ages based on some predictors, due to the limited class knowledge and TA's advice, we first decided not to include the **categorical data column** `region` since we have not yet learned how to predict based on categorical predictors or mixed types of predictors $\\rightarrow$ so we remove the column `region` for now."
   ]
  },
  {
   "cell_type": "code",
   "execution_count": 11,
   "id": "297b1d6e-d11f-443a-aa8b-e7e2bfef50fa",
   "metadata": {
    "tags": []
   },
   "outputs": [],
   "source": [
    "# remove region column \n",
    "predictor_selection_1 <- man_train  |>\n",
    "            select(-region)"
   ]
  },
  {
   "cell_type": "code",
   "execution_count": null,
   "id": "2309654a-2e0b-424e-8773-a1ca5d5d0bb2",
   "metadata": {
    "tags": []
   },
   "outputs": [],
   "source": [
    "head(predictor_selection_1)"
   ]
  },
  {
   "cell_type": "markdown",
   "id": "60ec8b01-d29e-4e32-8e0a-7f9c3bb247dd",
   "metadata": {},
   "source": [
    "2. - After the first step, we are left with 4 potential variables: `height_average`, `height_standard_deviation`, `body_weight_average`, `body_weight_standard_deviation`, which are all **quantitative variables**. \n",
    "    - To choose from these 4 variables, because we would like to perform a regression analysis, so we want to look at the relationships between each potential variables and the target variables. We use the`ggpairs` function `GGally` library to create a pairplot of all the columns in the dataset that can be potentially included in our model $\\rightarrow$ `man_pairplot`. \n",
    "       - Specifically, the pairplot contains a scatter plot of each pair of columns in this data set (both target and potential predictors) that we are plotting in the lower left corner, the diagonal contains smoothened histogram of each individual column, and the upper right corner contains the correlation coefficient (which measures the linear relationship between two variables)."
   ]
  },
  {
   "cell_type": "code",
   "execution_count": 12,
   "id": "8d3b1f20-71f0-46b9-a4f6-9d137ccbc883",
   "metadata": {
    "tags": []
   },
   "outputs": [],
   "source": [
    "options(repr.plot.width = 15, repr.plot.height = 15)\n",
    "man_pairplot <- predictor_selection_1 |>\n",
    "    ggpairs(\n",
    "        lower = list(continuous = wrap('points', alpha = 0.4)),\n",
    "        diag = list(continuous = \"barDiag\")\n",
    "    ) +\n",
    "    theme(text = element_text(size = 20))"
   ]
  },
  {
   "cell_type": "markdown",
   "id": "a3472095-0d96-439f-b8b1-44019270ef91",
   "metadata": {
    "tags": []
   },
   "source": [
    "#### Figure 1: *Pair Plot of Variables*\n",
    "Pairplot of preliminary visualization in order to select the predictors and analysis method."
   ]
  },
  {
   "cell_type": "code",
   "execution_count": null,
   "id": "75f17738-e496-4899-8246-a2bc337ce27c",
   "metadata": {
    "tags": []
   },
   "outputs": [],
   "source": [
    "man_pairplot"
   ]
  },
  {
   "cell_type": "markdown",
   "id": "a0044b9b-3c79-49f9-828b-3eb87b8cd608",
   "metadata": {
    "tags": []
   },
   "source": [
    "#### **Decision on predictors selection and anlaysis method selection from the preliminary visualization**\n"
   ]
  },
  {
   "cell_type": "markdown",
   "id": "8a3a2f25-27ab-422d-b80d-42e9660a22ef",
   "metadata": {},
   "source": [
    "From the pairplot above, we made our decision of **predictors selection and analysis method** based on the observation below:\n",
    "1. There appear to be **strong positive linear relationships** between the target variable `age` and potential predictors `height_average`($corr = 0.989$), `body_weight_average`($corr = 0.993$), and `body_weight_standard_deviation`($corr = 0.929$) and a **weak to moderate linear relationship** between `age` and `height_standard_deviation`($corr = 0.479$). Moreover, the scatter plots between `age` and these 3 potential predictors also shows a strong evidence for **strong linear relationship** you can see that from the first column, all scatter plots demonstrated clear linear relationship except the 2nd row which is between `age` and the variable with lower correlation `height_standard_deviation` . \n",
    "    \n",
    "    - **Decision on variable selection and analysis method selection**: The high **linear** relationships between some of the potential predictors and the target variables demonstrated that **linear regression** would be a suitable model to use for predicting `age` and the variables that have high linear relationship with the target variable `age` should be considered predictors (i.e. `height_average`, `body_weight_average`, and `body_weight_standard_deviation`).\n",
    "\n",
    "\n",
    "2. **Multicolinearity issue**: according the textbook and class materials, we generally want to **avoid having predicted that are very linearly related** because this will result in very sensitive coefficients and overfitting issues. \n",
    "\n",
    "    - **Decision on variable selection and method selection**: As a result, we would like too look at if there is any strongly linear relationship between the potential variable. From the pairplot above, we that the correlations between the potential predictors (from 1)are: \n",
    "        - Between `height_average` and `body_weight_average`: $corr = 0.991$\n",
    "        - Between `height_average` and `body_weight_standard_deviation`: $corr = 0.956$\n",
    "        - Between `body_weight_average` and `body_weight_standard_deviation`: $corr = 0.475$\n",
    "        - Looking at the **corresponding scatter plots** for each pair, we further confirmed the linear relationships between potential predictors `height_average`, `body_weight_average`, and `body_weight_standard_deviation`.\n",
    "        \n",
    "        Due to the Multicolinearity issue, we want to select predictors that correlate less with each other or have weak linear relationship with each other. We found that among the 3 potential predictors, only the pair of `body_weight_average` and `body_weight_standard_deviation` has a low correlation of $0.475$. **As a results, we finally decide to choose `body_weight_average` and `body_weight_standard_deviation` as the predictors to perform the linear regression analysis.**"
   ]
  },
  {
   "cell_type": "code",
   "execution_count": 13,
   "id": "d18dc431-7127-46db-9ebf-40e4216c8d03",
   "metadata": {},
   "outputs": [],
   "source": [
    "# remove the columns height_standard_deviation and weight_standard_deviation \n",
    "final_training <- predictor_selection_1  |>\n",
    "            select(age, body_weight_average, body_weight_standard_deviation)"
   ]
  },
  {
   "cell_type": "markdown",
   "id": "b382ba11-777a-43fe-9943-bd225667f07e",
   "metadata": {},
   "source": [
    "#### Table 7 *Final Dataset For Prediction*\n",
    "Here we show the first 20 rows of the final dataset which contains the target variable `age` and two predictor variables `body_weight_average` and `body_weight_standard_deviation`"
   ]
  },
  {
   "cell_type": "code",
   "execution_count": null,
   "id": "de31a75b-f7c0-4051-b97a-09d33b0a345e",
   "metadata": {
    "tags": []
   },
   "outputs": [],
   "source": [
    "head(final_training, 20)"
   ]
  },
  {
   "cell_type": "markdown",
   "id": "d404d396-aa29-41b3-a9b2-a1ea1226014a",
   "metadata": {
    "tags": []
   },
   "source": [
    "## Data Analysis with Linear Regression"
   ]
  },
  {
   "cell_type": "markdown",
   "id": "3dc7c476-f29f-4fcd-b55b-d42b61eb89a0",
   "metadata": {
    "jp-MarkdownHeadingCollapsed": true,
    "tags": []
   },
   "source": [
    "### 1. Method Summary"
   ]
  },
  {
   "cell_type": "markdown",
   "id": "6e2bc04e-e2f2-4bf1-bee6-44b2b14dc7d1",
   "metadata": {
    "tags": []
   },
   "source": [
    "According to the preliminary data analysis, we have clearified data anlysis goal: \n",
    "\n",
    "**We would like to perform a linear regression that use the predictors `body_weight_average` and `body_weight_standard_deviation` to predict the target variable `age`.**\n",
    "\n",
    "Put the cleaned train data down below here: "
   ]
  },
  {
   "cell_type": "code",
   "execution_count": null,
   "id": "e10d9cae-2860-4d57-bd06-5f6ee41afdf4",
   "metadata": {
    "tags": []
   },
   "outputs": [],
   "source": [
    "head(final_training)"
   ]
  },
  {
   "cell_type": "markdown",
   "id": "b4719465-53c5-485f-8105-3eeabca1519d",
   "metadata": {
    "tags": []
   },
   "source": [
    "### 2. Linear Regression Model Creation"
   ]
  },
  {
   "cell_type": "markdown",
   "id": "cb8b0a74-c495-4a97-ad6b-768c37efa6dd",
   "metadata": {},
   "source": [
    "1. Fit a linear regression model using `tidymodels` with `` using **all** the variables in the data set. \n",
    "    - create a model specification called `lm_spec`\n",
    "    - create a recipe called `man_recipe`\n",
    "    - create a workflow with the model spec and recipe, and then create the model fit and name it `man_fit`"
   ]
  },
  {
   "cell_type": "code",
   "execution_count": 14,
   "id": "53915ca4-ba71-402a-a3cf-6d95a60f3a23",
   "metadata": {
    "tags": []
   },
   "outputs": [
    {
     "data": {
      "text/plain": [
       "══ Workflow [trained] ══════════════════════════════════════════════════════════\n",
       "\u001b[3mPreprocessor:\u001b[23m Recipe\n",
       "\u001b[3mModel:\u001b[23m linear_reg()\n",
       "\n",
       "── Preprocessor ────────────────────────────────────────────────────────────────\n",
       "0 Recipe Steps\n",
       "\n",
       "── Model ───────────────────────────────────────────────────────────────────────\n",
       "\n",
       "Call:\n",
       "stats::lm(formula = ..y ~ ., data = data)\n",
       "\n",
       "Coefficients:\n",
       "                   (Intercept)             body_weight_average  \n",
       "                      0.831054                        0.246378  \n",
       "body_weight_standard_deviation  \n",
       "                      0.009912  \n"
      ]
     },
     "metadata": {},
     "output_type": "display_data"
    }
   ],
   "source": [
    "set.seed(9999)\n",
    "\n",
    "lm_spec <- linear_reg() |>\n",
    "        set_engine(\"lm\") |>\n",
    "        set_mode(\"regression\") \n",
    "\n",
    "man_recipe <- recipe(age ~., data = final_training) \n",
    "\n",
    "man_fit <- workflow() |>\n",
    "    add_recipe(man_recipe) |>\n",
    "    add_model(lm_spec) |>\n",
    "    fit(data = final_training)\n",
    "\n",
    "man_fit"
   ]
  },
  {
   "cell_type": "markdown",
   "id": "6d6da144-3190-498f-adf4-e12f35cafb65",
   "metadata": {},
   "source": [
    "2. Extract all the intercept and coefficients: we find out that the regression coefficients for both `body_weight_average` and `body_weight-standard_deviation` is positive, which are in the same direction as their relationship with `age` in the preliminary analysis."
   ]
  },
  {
   "cell_type": "code",
   "execution_count": 15,
   "id": "c4f8f66c-7e86-444d-a3de-8c692b94ee16",
   "metadata": {
    "tags": []
   },
   "outputs": [
    {
     "data": {
      "text/html": [
       "<style>\n",
       ".dl-inline {width: auto; margin:0; padding: 0}\n",
       ".dl-inline>dt, .dl-inline>dd {float: none; width: auto; display: inline-block}\n",
       ".dl-inline>dt::after {content: \":\\0020\"; padding-right: .5ex}\n",
       ".dl-inline>dt:not(:first-of-type) {padding-left: .5ex}\n",
       "</style><dl class=dl-inline><dt>(Intercept)</dt><dd>0.831054388755168</dd><dt>body_weight_average</dt><dd>0.24637829422345</dd><dt>body_weight_standard_deviation</dt><dd>0.00991244007250936</dd></dl>\n"
      ],
      "text/latex": [
       "\\begin{description*}\n",
       "\\item[(Intercept)] 0.831054388755168\n",
       "\\item[body\\textbackslash{}\\_weight\\textbackslash{}\\_average] 0.24637829422345\n",
       "\\item[body\\textbackslash{}\\_weight\\textbackslash{}\\_standard\\textbackslash{}\\_deviation] 0.00991244007250936\n",
       "\\end{description*}\n"
      ],
      "text/markdown": [
       "(Intercept)\n",
       ":   0.831054388755168body_weight_average\n",
       ":   0.24637829422345body_weight_standard_deviation\n",
       ":   0.00991244007250936\n",
       "\n"
      ],
      "text/plain": [
       "                   (Intercept)            body_weight_average \n",
       "                    0.83105439                     0.24637829 \n",
       "body_weight_standard_deviation \n",
       "                    0.00991244 "
      ]
     },
     "metadata": {},
     "output_type": "display_data"
    }
   ],
   "source": [
    "man_fit$fit$fit$fit$coefficients"
   ]
  },
  {
   "cell_type": "markdown",
   "id": "6dae237e-76c0-443f-b8ad-ab4549d86438",
   "metadata": {},
   "source": [
    "3. Looking at the coefficients and intercepts, we can write down the **equation for the linear model**. "
   ]
  },
  {
   "cell_type": "markdown",
   "id": "76c6c742-cc56-49e1-a80f-b5b41983371c",
   "metadata": {
    "tags": []
   },
   "source": [
    "$Age = 0.83 + 0.2464* body\\: weight\\: average + 0.0099 * body\\: weight\\: standard \\: deviation$"
   ]
  },
  {
   "cell_type": "markdown",
   "id": "7e5b3235-992c-4ed0-a1f0-c9341682a758",
   "metadata": {
    "tags": []
   },
   "source": [
    "### 3. Goodness of Fit on Training Data"
   ]
  },
  {
   "cell_type": "markdown",
   "id": "d785c75e-ed81-48a0-aa88-351043d68638",
   "metadata": {},
   "source": [
    "1. We calculate the $RMSE$ to assess the goodness of fit of our linear regression model on the training data \n",
    "     - use the `predict` and `bind_cols` functions on `man_fit` to create predictions for the `final_training` data. Name the resulting data frame `man_preds`.\n",
    "     - caculate the $RMSE$"
   ]
  },
  {
   "cell_type": "code",
   "execution_count": 22,
   "id": "93f87d58-5dc1-4773-bbdf-3bd0660224b6",
   "metadata": {
    "tags": []
   },
   "outputs": [
    {
     "data": {
      "text/html": [
       "0.423953132783492"
      ],
      "text/latex": [
       "0.423953132783492"
      ],
      "text/markdown": [
       "0.423953132783492"
      ],
      "text/plain": [
       "[1] 0.4239531"
      ]
     },
     "metadata": {},
     "output_type": "display_data"
    }
   ],
   "source": [
    "set.seed(9999)\n",
    "\n",
    "# creating the predictions\n",
    "man_preds <- man_fit |>\n",
    "        predict(final_training)|>\n",
    "        bind_cols(final_training) \n",
    "\n",
    "# get the RMSE\n",
    "man_rmse <- man_preds |>\n",
    "    metrics(truth = age, estimate = .pred) |>\n",
    "    filter(.metric == \"rmse\") |>\n",
    "    select(.estimate) |>\n",
    "    pull()\n",
    "man_rmse"
   ]
  },
  {
   "cell_type": "markdown",
   "id": "8c8e6b98-8c71-4ada-ad51-9bf1b340c806",
   "metadata": {},
   "source": [
    "From above, we see that our $RMSE$ is 0.42, meaning that we have a quite accurate prediction on the **training data** (the difference between our prediction and the true age is on average 0.42, which is less than half a year!)"
   ]
  },
  {
   "cell_type": "markdown",
   "id": "1d733c5c-0b8b-4b48-8f2f-237886aca94a",
   "metadata": {},
   "source": [
    "2. Next, we would like to visualize our predictions to further assess the distance between our prediction and the true value\n",
    "     - We first create a side-by-side plots with `age` on the y-axis and `body_weight_average` and `body_weight-standard_deviation` on the x-axis respectively for each plot. \n",
    "     - We then create a 3-dimensional plot to further assess the performance of our model on training data."
   ]
  },
  {
   "cell_type": "code",
   "execution_count": null,
   "id": "760a3c12-f994-4a50-bbfb-7a204fd62695",
   "metadata": {},
   "outputs": [],
   "source": [
    "man_prediction_weight_average <- man_preds |>\n",
    "        ggplot(aes(x = body_weight_average, y = age)) + \n",
    "            geom_point(alpha = 0.4) + \n",
    "            geom_line(\n",
    "                mapping = aes(x = body_weight_average, y = .pred),\n",
    "                color = \"blue\") + \n",
    "            xlab(\"Body Weight Average (kg)\") + \n",
    "            ylab(\"Age (year)\") + \n",
    "            theme(text = element_text(size = 20))\n"
   ]
  }
 ],
 "metadata": {
  "kernelspec": {
   "display_name": "R",
   "language": "R",
   "name": "ir"
  },
  "language_info": {
   "codemirror_mode": "r",
   "file_extension": ".r",
   "mimetype": "text/x-r-source",
   "name": "R",
   "pygments_lexer": "r",
   "version": "4.2.2"
  }
 },
 "nbformat": 4,
 "nbformat_minor": 5
}
