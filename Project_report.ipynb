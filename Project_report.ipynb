{
 "cells": [
  {
   "cell_type": "markdown",
   "id": "4c501a0e-d3b0-462f-a26f-62d53281ca43",
   "metadata": {},
   "source": [
    "# Methods and Results "
   ]
  },
  {
   "cell_type": "code",
   "execution_count": 1,
   "id": "5e4291a8-f4da-4ebe-9022-7acc2a45a7f2",
   "metadata": {
    "tags": []
   },
   "outputs": [],
   "source": [
    "# Required packages and versions\n",
    "# install.packages(\"janitor\")\n",
    "# install.packages(\"cowplot\")"
   ]
  },
  {
   "cell_type": "code",
   "execution_count": 2,
   "id": "64873bd0-d0b1-42c8-8b87-29f258f619a4",
   "metadata": {
    "tags": []
   },
   "outputs": [
    {
     "name": "stderr",
     "output_type": "stream",
     "text": [
      "── \u001b[1mAttaching packages\u001b[22m ─────────────────────────────────────── tidyverse 1.3.2 ──\n",
      "\u001b[32m✔\u001b[39m \u001b[34mggplot2\u001b[39m 3.4.2     \u001b[32m✔\u001b[39m \u001b[34mpurrr  \u001b[39m 1.0.1\n",
      "\u001b[32m✔\u001b[39m \u001b[34mtibble \u001b[39m 3.2.1     \u001b[32m✔\u001b[39m \u001b[34mdplyr  \u001b[39m 1.1.1\n",
      "\u001b[32m✔\u001b[39m \u001b[34mtidyr  \u001b[39m 1.3.0     \u001b[32m✔\u001b[39m \u001b[34mstringr\u001b[39m 1.5.0\n",
      "\u001b[32m✔\u001b[39m \u001b[34mreadr  \u001b[39m 2.1.3     \u001b[32m✔\u001b[39m \u001b[34mforcats\u001b[39m 0.5.2\n",
      "── \u001b[1mConflicts\u001b[22m ────────────────────────────────────────── tidyverse_conflicts() ──\n",
      "\u001b[31m✖\u001b[39m \u001b[34mdplyr\u001b[39m::\u001b[32mfilter()\u001b[39m masks \u001b[34mstats\u001b[39m::filter()\n",
      "\u001b[31m✖\u001b[39m \u001b[34mdplyr\u001b[39m::\u001b[32mlag()\u001b[39m    masks \u001b[34mstats\u001b[39m::lag()\n",
      "\n",
      "Attaching package: ‘janitor’\n",
      "\n",
      "\n",
      "The following objects are masked from ‘package:stats’:\n",
      "\n",
      "    chisq.test, fisher.test\n",
      "\n",
      "\n",
      "── \u001b[1mAttaching packages\u001b[22m ────────────────────────────────────── tidymodels 1.0.0 ──\n",
      "\n",
      "\u001b[32m✔\u001b[39m \u001b[34mbroom       \u001b[39m 1.0.2     \u001b[32m✔\u001b[39m \u001b[34mrsample     \u001b[39m 1.1.1\n",
      "\u001b[32m✔\u001b[39m \u001b[34mdials       \u001b[39m 1.1.0     \u001b[32m✔\u001b[39m \u001b[34mtune        \u001b[39m 1.0.1\n",
      "\u001b[32m✔\u001b[39m \u001b[34minfer       \u001b[39m 1.0.4     \u001b[32m✔\u001b[39m \u001b[34mworkflows   \u001b[39m 1.1.2\n",
      "\u001b[32m✔\u001b[39m \u001b[34mmodeldata   \u001b[39m 1.0.1     \u001b[32m✔\u001b[39m \u001b[34mworkflowsets\u001b[39m 1.0.0\n",
      "\u001b[32m✔\u001b[39m \u001b[34mparsnip     \u001b[39m 1.0.3     \u001b[32m✔\u001b[39m \u001b[34myardstick   \u001b[39m 1.1.0\n",
      "\u001b[32m✔\u001b[39m \u001b[34mrecipes     \u001b[39m 1.0.4     \n",
      "\n",
      "── \u001b[1mConflicts\u001b[22m ───────────────────────────────────────── tidymodels_conflicts() ──\n",
      "\u001b[31m✖\u001b[39m \u001b[34mscales\u001b[39m::\u001b[32mdiscard()\u001b[39m masks \u001b[34mpurrr\u001b[39m::discard()\n",
      "\u001b[31m✖\u001b[39m \u001b[34mdplyr\u001b[39m::\u001b[32mfilter()\u001b[39m   masks \u001b[34mstats\u001b[39m::filter()\n",
      "\u001b[31m✖\u001b[39m \u001b[34mrecipes\u001b[39m::\u001b[32mfixed()\u001b[39m  masks \u001b[34mstringr\u001b[39m::fixed()\n",
      "\u001b[31m✖\u001b[39m \u001b[34mdplyr\u001b[39m::\u001b[32mlag()\u001b[39m      masks \u001b[34mstats\u001b[39m::lag()\n",
      "\u001b[31m✖\u001b[39m \u001b[34myardstick\u001b[39m::\u001b[32mspec()\u001b[39m masks \u001b[34mreadr\u001b[39m::spec()\n",
      "\u001b[31m✖\u001b[39m \u001b[34mrecipes\u001b[39m::\u001b[32mstep()\u001b[39m   masks \u001b[34mstats\u001b[39m::step()\n",
      "\u001b[34m•\u001b[39m Learn how to get started at \u001b[32mhttps://www.tidymodels.org/start/\u001b[39m\n",
      "\n"
     ]
    }
   ],
   "source": [
    "library(tidyverse)\n",
    "library(janitor)\n",
    "library(repr)\n",
    "library(tidymodels)\n",
    "library(cowplot)"
   ]
  },
  {
   "cell_type": "markdown",
   "id": "cb9152bb-b46e-42c0-bc64-f37cd5064e0a",
   "metadata": {
    "tags": []
   },
   "source": [
    "## Preliminary Exploratory Data Analysis"
   ]
  },
  {
   "cell_type": "markdown",
   "id": "08062249-4f23-4e5d-86d6-dcc242683544",
   "metadata": {
    "jp-MarkdownHeadingCollapsed": true,
    "tags": []
   },
   "source": [
    "### 1. load the dataset \n",
    "Source: https://www.kaggle.com/datasets/risakashiwabara/jpmean-and-standard-deviation-of-height-and-weight/\n",
    "\n",
    "To answer this question we will analyze a data set of Japanese boys' heights and weights. This data, `man.csv` was downloaded from [Kaggle](https://www.kaggle.com/datasets/risakashiwabara/jpmean-and-standard-deviation-of-height-and-weight/)(same as source). Each row in the data set represents an observation (i.e. a Japanese boy). \n",
    "The columns in the data set `man.csv` represents: \n",
    "- `year` - The age of the individual (yrs), which we chose as the **response variable** that is continuous.\n",
    "- `category` - The region the individual is from\n",
    "- `height_average` - The average height of the boys with the same age in this region (cm)\n",
    "- `height_standard deviation` - The standard deviation of the height of the boys with the same age in this region (cm)\n",
    "- `body weight _average` - The average weight of the boys with the same age in this region (kg)\n",
    "- `body weight _standard deviation` - The standard deviation of the weight of the boys with the same age in this region (kg)"
   ]
  },
  {
   "cell_type": "code",
   "execution_count": 3,
   "id": "59313d65-a7d0-413d-99a2-e50ce6d9d38b",
   "metadata": {
    "tags": []
   },
   "outputs": [
    {
     "name": "stderr",
     "output_type": "stream",
     "text": [
      "\u001b[1mRows: \u001b[22m\u001b[34m624\u001b[39m \u001b[1mColumns: \u001b[22m\u001b[34m6\u001b[39m\n",
      "\u001b[36m──\u001b[39m \u001b[1mColumn specification\u001b[22m \u001b[36m────────────────────────────────────────────────────────\u001b[39m\n",
      "\u001b[1mDelimiter:\u001b[22m \",\"\n",
      "\u001b[31mchr\u001b[39m (1): category\n",
      "\u001b[32mdbl\u001b[39m (5): year, height_average, height_standard deviation, body weight _avera...\n",
      "\n",
      "\u001b[36mℹ\u001b[39m Use `spec()` to retrieve the full column specification for this data.\n",
      "\u001b[36mℹ\u001b[39m Specify the column types or set `show_col_types = FALSE` to quiet this message.\n"
     ]
    }
   ],
   "source": [
    "man_data <- read_csv(\"https://raw.githubusercontent.com/Ekenny02/dsci-100-project/main/man.csv\")"
   ]
  },
  {
   "cell_type": "markdown",
   "id": "d2553718-1544-4707-9fdf-262b0e7bc79b",
   "metadata": {},
   "source": [
    "#### Table 1:  *Man Dataset - untidy*\n",
    "Here we take a look at the original data set `man_data` (**Table 1**), because there are too many observation, we use `head(man_data)` to get a sens of what the data set looks like. The first 6 rows of the original data set `man_data` is shown below."
   ]
  },
  {
   "cell_type": "code",
   "execution_count": 4,
   "id": "df68bf50-576a-44f1-a08c-5cf9d0ad8200",
   "metadata": {
    "tags": []
   },
   "outputs": [
    {
     "data": {
      "text/html": [
       "<table class=\"dataframe\">\n",
       "<caption>A tibble: 6 × 6</caption>\n",
       "<thead>\n",
       "\t<tr><th scope=col>year</th><th scope=col>category</th><th scope=col>height_average</th><th scope=col>height_standard deviation</th><th scope=col>body weight _average</th><th scope=col>body weight _standard deviation</th></tr>\n",
       "\t<tr><th scope=col>&lt;dbl&gt;</th><th scope=col>&lt;chr&gt;</th><th scope=col>&lt;dbl&gt;</th><th scope=col>&lt;dbl&gt;</th><th scope=col>&lt;dbl&gt;</th><th scope=col>&lt;dbl&gt;</th></tr>\n",
       "</thead>\n",
       "<tbody>\n",
       "\t<tr><td>5</td><td>national</td><td>111.0</td><td>4.87</td><td>19.3</td><td>2.79</td></tr>\n",
       "\t<tr><td>5</td><td>Hokkaido</td><td>111.3</td><td>4.81</td><td>19.3</td><td>2.83</td></tr>\n",
       "\t<tr><td>5</td><td>Aomori  </td><td>111.8</td><td>4.87</td><td>19.9</td><td>2.78</td></tr>\n",
       "\t<tr><td>5</td><td>Iwate   </td><td>111.0</td><td>5.08</td><td>19.6</td><td>3.02</td></tr>\n",
       "\t<tr><td>5</td><td>Miyagi  </td><td>111.3</td><td>4.90</td><td>19.7</td><td>3.04</td></tr>\n",
       "\t<tr><td>5</td><td>Akita   </td><td>112.3</td><td>5.08</td><td>19.9</td><td>3.16</td></tr>\n",
       "</tbody>\n",
       "</table>\n"
      ],
      "text/latex": [
       "A tibble: 6 × 6\n",
       "\\begin{tabular}{llllll}\n",
       " year & category & height\\_average & height\\_standard deviation & body weight \\_average & body weight \\_standard deviation\\\\\n",
       " <dbl> & <chr> & <dbl> & <dbl> & <dbl> & <dbl>\\\\\n",
       "\\hline\n",
       "\t 5 & national & 111.0 & 4.87 & 19.3 & 2.79\\\\\n",
       "\t 5 & Hokkaido & 111.3 & 4.81 & 19.3 & 2.83\\\\\n",
       "\t 5 & Aomori   & 111.8 & 4.87 & 19.9 & 2.78\\\\\n",
       "\t 5 & Iwate    & 111.0 & 5.08 & 19.6 & 3.02\\\\\n",
       "\t 5 & Miyagi   & 111.3 & 4.90 & 19.7 & 3.04\\\\\n",
       "\t 5 & Akita    & 112.3 & 5.08 & 19.9 & 3.16\\\\\n",
       "\\end{tabular}\n"
      ],
      "text/markdown": [
       "\n",
       "A tibble: 6 × 6\n",
       "\n",
       "| year &lt;dbl&gt; | category &lt;chr&gt; | height_average &lt;dbl&gt; | height_standard deviation &lt;dbl&gt; | body weight _average &lt;dbl&gt; | body weight _standard deviation &lt;dbl&gt; |\n",
       "|---|---|---|---|---|---|\n",
       "| 5 | national | 111.0 | 4.87 | 19.3 | 2.79 |\n",
       "| 5 | Hokkaido | 111.3 | 4.81 | 19.3 | 2.83 |\n",
       "| 5 | Aomori   | 111.8 | 4.87 | 19.9 | 2.78 |\n",
       "| 5 | Iwate    | 111.0 | 5.08 | 19.6 | 3.02 |\n",
       "| 5 | Miyagi   | 111.3 | 4.90 | 19.7 | 3.04 |\n",
       "| 5 | Akita    | 112.3 | 5.08 | 19.9 | 3.16 |\n",
       "\n"
      ],
      "text/plain": [
       "  year category height_average height_standard deviation body weight _average\n",
       "1 5    national 111.0          4.87                      19.3                \n",
       "2 5    Hokkaido 111.3          4.81                      19.3                \n",
       "3 5    Aomori   111.8          4.87                      19.9                \n",
       "4 5    Iwate    111.0          5.08                      19.6                \n",
       "5 5    Miyagi   111.3          4.90                      19.7                \n",
       "6 5    Akita    112.3          5.08                      19.9                \n",
       "  body weight _standard deviation\n",
       "1 2.79                           \n",
       "2 2.83                           \n",
       "3 2.78                           \n",
       "4 3.02                           \n",
       "5 3.04                           \n",
       "6 3.16                           "
      ]
     },
     "metadata": {},
     "output_type": "display_data"
    }
   ],
   "source": [
    "head(man_data)"
   ]
  },
  {
   "cell_type": "markdown",
   "id": "0e8d345f-5710-4760-b643-8d83f08c20ab",
   "metadata": {
    "tags": []
   },
   "source": [
    "From the original data set table above, we noticed a few **problems**, which we will address in the **data cleaning process**: \n",
    "-  We notice that some of the column names are not very tidy because some contain spaces between words. \n",
    "-  In the `category` column, representing the region of each observation, we have identified a region labeled **\"national\"** This category is the average of the values for all regions in the `category` column.\n",
    "-  The variable name is not informative, for example, `category` actually means the region, and `year` actually means the age."
   ]
  },
  {
   "cell_type": "markdown",
   "id": "02956c89-3dd4-4121-93fa-696f51a861c2",
   "metadata": {
    "jp-MarkdownHeadingCollapsed": true,
    "tags": []
   },
   "source": [
    "### 2. Data wrangling and cleaning \n",
    "1. To clean the name, we will clean the column names using `clean_names` to make them consist of only lowercase letters and underscores.\n",
    "2. Because **\"national\"** is the average of the values(e.g., average heights, average weights) for all regions in the `category` column. We will remove all observations with \"national\" in the `category` column. \n",
    "3. To make the variable names informative, we will rename the columns (variables) `year` to `age` and `category` to `region` to align with our analysis and ensure consistency.\n",
    "\n",
    "The above steps have made sure the `clean_man_data` is currently in a tidy format, as represented by **Table 2**."
   ]
  },
  {
   "cell_type": "code",
   "execution_count": 5,
   "id": "035998d8-fbeb-4ab4-bec2-d9fcec5098ec",
   "metadata": {
    "tags": []
   },
   "outputs": [],
   "source": [
    "# clean the dataset accordingly\n",
    "clean_man_data <- man_data |>\n",
    "        clean_names() |>\n",
    "        filter(category != \"national\") |>\n",
    "        rename(\"age\" = \"year\",\n",
    "               \"region\" = \"category\")"
   ]
  },
  {
   "cell_type": "markdown",
   "id": "ecf0903a-a8ad-4928-9ef6-d231cd008794",
   "metadata": {},
   "source": [
    "#### Table 2: *Cleaned Man Datset*\n",
    "Here we take a look at the cleaned data set `clean_man_data`, because there are too many observation, we use `head(clean_man_data)` to get a sens of what the data set looks like\n",
    "The first 6 rows of the original data set `clean_man_data` is shown below."
   ]
  },
  {
   "cell_type": "code",
   "execution_count": 6,
   "id": "a0c03aaf-e0b8-4b5c-b451-ede7d9de550f",
   "metadata": {
    "tags": []
   },
   "outputs": [
    {
     "data": {
      "text/html": [
       "<table class=\"dataframe\">\n",
       "<caption>A tibble: 6 × 6</caption>\n",
       "<thead>\n",
       "\t<tr><th scope=col>age</th><th scope=col>region</th><th scope=col>height_average</th><th scope=col>height_standard_deviation</th><th scope=col>body_weight_average</th><th scope=col>body_weight_standard_deviation</th></tr>\n",
       "\t<tr><th scope=col>&lt;dbl&gt;</th><th scope=col>&lt;chr&gt;</th><th scope=col>&lt;dbl&gt;</th><th scope=col>&lt;dbl&gt;</th><th scope=col>&lt;dbl&gt;</th><th scope=col>&lt;dbl&gt;</th></tr>\n",
       "</thead>\n",
       "<tbody>\n",
       "\t<tr><td>5</td><td>Hokkaido</td><td>111.3</td><td>4.81</td><td>19.3</td><td>2.83</td></tr>\n",
       "\t<tr><td>5</td><td>Aomori  </td><td>111.8</td><td>4.87</td><td>19.9</td><td>2.78</td></tr>\n",
       "\t<tr><td>5</td><td>Iwate   </td><td>111.0</td><td>5.08</td><td>19.6</td><td>3.02</td></tr>\n",
       "\t<tr><td>5</td><td>Miyagi  </td><td>111.3</td><td>4.90</td><td>19.7</td><td>3.04</td></tr>\n",
       "\t<tr><td>5</td><td>Akita   </td><td>112.3</td><td>5.08</td><td>19.9</td><td>3.16</td></tr>\n",
       "\t<tr><td>5</td><td>Yamagata</td><td>111.5</td><td>4.46</td><td>19.5</td><td>3.05</td></tr>\n",
       "</tbody>\n",
       "</table>\n"
      ],
      "text/latex": [
       "A tibble: 6 × 6\n",
       "\\begin{tabular}{llllll}\n",
       " age & region & height\\_average & height\\_standard\\_deviation & body\\_weight\\_average & body\\_weight\\_standard\\_deviation\\\\\n",
       " <dbl> & <chr> & <dbl> & <dbl> & <dbl> & <dbl>\\\\\n",
       "\\hline\n",
       "\t 5 & Hokkaido & 111.3 & 4.81 & 19.3 & 2.83\\\\\n",
       "\t 5 & Aomori   & 111.8 & 4.87 & 19.9 & 2.78\\\\\n",
       "\t 5 & Iwate    & 111.0 & 5.08 & 19.6 & 3.02\\\\\n",
       "\t 5 & Miyagi   & 111.3 & 4.90 & 19.7 & 3.04\\\\\n",
       "\t 5 & Akita    & 112.3 & 5.08 & 19.9 & 3.16\\\\\n",
       "\t 5 & Yamagata & 111.5 & 4.46 & 19.5 & 3.05\\\\\n",
       "\\end{tabular}\n"
      ],
      "text/markdown": [
       "\n",
       "A tibble: 6 × 6\n",
       "\n",
       "| age &lt;dbl&gt; | region &lt;chr&gt; | height_average &lt;dbl&gt; | height_standard_deviation &lt;dbl&gt; | body_weight_average &lt;dbl&gt; | body_weight_standard_deviation &lt;dbl&gt; |\n",
       "|---|---|---|---|---|---|\n",
       "| 5 | Hokkaido | 111.3 | 4.81 | 19.3 | 2.83 |\n",
       "| 5 | Aomori   | 111.8 | 4.87 | 19.9 | 2.78 |\n",
       "| 5 | Iwate    | 111.0 | 5.08 | 19.6 | 3.02 |\n",
       "| 5 | Miyagi   | 111.3 | 4.90 | 19.7 | 3.04 |\n",
       "| 5 | Akita    | 112.3 | 5.08 | 19.9 | 3.16 |\n",
       "| 5 | Yamagata | 111.5 | 4.46 | 19.5 | 3.05 |\n",
       "\n"
      ],
      "text/plain": [
       "  age region   height_average height_standard_deviation body_weight_average\n",
       "1 5   Hokkaido 111.3          4.81                      19.3               \n",
       "2 5   Aomori   111.8          4.87                      19.9               \n",
       "3 5   Iwate    111.0          5.08                      19.6               \n",
       "4 5   Miyagi   111.3          4.90                      19.7               \n",
       "5 5   Akita    112.3          5.08                      19.9               \n",
       "6 5   Yamagata 111.5          4.46                      19.5               \n",
       "  body_weight_standard_deviation\n",
       "1 2.83                          \n",
       "2 2.78                          \n",
       "3 3.02                          \n",
       "4 3.04                          \n",
       "5 3.16                          \n",
       "6 3.05                          "
      ]
     },
     "metadata": {},
     "output_type": "display_data"
    }
   ],
   "source": [
    "head(clean_man_data)"
   ]
  },
  {
   "cell_type": "markdown",
   "id": "1692ede1-d23f-4183-b4c2-2d4b2775dc91",
   "metadata": {
    "jp-MarkdownHeadingCollapsed": true,
    "tags": []
   },
   "source": [
    "### 3. Initial Split and Training Data Summaries \n",
    "1. Because we want to predict the age of the given boys, we first create a initial split of the data `man_split` and split it to training data `man_train` and testing data `man_test`. "
   ]
  },
  {
   "cell_type": "code",
   "execution_count": 7,
   "id": "0cc4abf0-a813-490a-88ed-6c910fbcd2ee",
   "metadata": {
    "tags": []
   },
   "outputs": [],
   "source": [
    "set.seed(9999) # set.seed to make sure it is reproducible \n",
    "# split the data into training and testing.\n",
    "man_split <- initial_split(clean_man_data, prop = 0.75, starta = age)\n",
    "man_train <- training(man_split)\n",
    "man_test <- testing(man_split)"
   ]
  },
  {
   "cell_type": "markdown",
   "id": "51bdd8da-f761-45a4-808d-cb0141086c63",
   "metadata": {},
   "source": [
    "#### Table 3: *Training Datset*\n",
    "Here we take a look at the training data `man_train` (**Table 3**). \n",
    "The first 6 rows of the training data set is shown below using `head(man_train)`."
   ]
  },
  {
   "cell_type": "code",
   "execution_count": 27,
   "id": "0999d94e-2da8-4117-be47-3ffc65b2d78d",
   "metadata": {
    "tags": []
   },
   "outputs": [
    {
     "data": {
      "text/html": [
       "<table class=\"dataframe\">\n",
       "<caption>A tibble: 6 × 6</caption>\n",
       "<thead>\n",
       "\t<tr><th scope=col>age</th><th scope=col>region</th><th scope=col>height_average</th><th scope=col>height_standard_deviation</th><th scope=col>body_weight_average</th><th scope=col>body_weight_standard_deviation</th></tr>\n",
       "\t<tr><th scope=col>&lt;dbl&gt;</th><th scope=col>&lt;chr&gt;</th><th scope=col>&lt;dbl&gt;</th><th scope=col>&lt;dbl&gt;</th><th scope=col>&lt;dbl&gt;</th><th scope=col>&lt;dbl&gt;</th></tr>\n",
       "</thead>\n",
       "<tbody>\n",
       "\t<tr><td> 7</td><td>Aomori  </td><td>123.3</td><td>5.08</td><td>25.8</td><td>4.97</td></tr>\n",
       "\t<tr><td>10</td><td>Osaka   </td><td>138.8</td><td>6.61</td><td>34.8</td><td>8.12</td></tr>\n",
       "\t<tr><td> 9</td><td>Miyazaki</td><td>133.6</td><td>5.91</td><td>32.0</td><td>7.17</td></tr>\n",
       "\t<tr><td>11</td><td>Niigata </td><td>146.1</td><td>7.31</td><td>40.0</td><td>9.41</td></tr>\n",
       "\t<tr><td> 7</td><td>Kagawa  </td><td>122.3</td><td>5.38</td><td>24.3</td><td>4.36</td></tr>\n",
       "\t<tr><td> 6</td><td>Osaka   </td><td>116.6</td><td>4.72</td><td>21.3</td><td>3.49</td></tr>\n",
       "</tbody>\n",
       "</table>\n"
      ],
      "text/latex": [
       "A tibble: 6 × 6\n",
       "\\begin{tabular}{llllll}\n",
       " age & region & height\\_average & height\\_standard\\_deviation & body\\_weight\\_average & body\\_weight\\_standard\\_deviation\\\\\n",
       " <dbl> & <chr> & <dbl> & <dbl> & <dbl> & <dbl>\\\\\n",
       "\\hline\n",
       "\t  7 & Aomori   & 123.3 & 5.08 & 25.8 & 4.97\\\\\n",
       "\t 10 & Osaka    & 138.8 & 6.61 & 34.8 & 8.12\\\\\n",
       "\t  9 & Miyazaki & 133.6 & 5.91 & 32.0 & 7.17\\\\\n",
       "\t 11 & Niigata  & 146.1 & 7.31 & 40.0 & 9.41\\\\\n",
       "\t  7 & Kagawa   & 122.3 & 5.38 & 24.3 & 4.36\\\\\n",
       "\t  6 & Osaka    & 116.6 & 4.72 & 21.3 & 3.49\\\\\n",
       "\\end{tabular}\n"
      ],
      "text/markdown": [
       "\n",
       "A tibble: 6 × 6\n",
       "\n",
       "| age &lt;dbl&gt; | region &lt;chr&gt; | height_average &lt;dbl&gt; | height_standard_deviation &lt;dbl&gt; | body_weight_average &lt;dbl&gt; | body_weight_standard_deviation &lt;dbl&gt; |\n",
       "|---|---|---|---|---|---|\n",
       "|  7 | Aomori   | 123.3 | 5.08 | 25.8 | 4.97 |\n",
       "| 10 | Osaka    | 138.8 | 6.61 | 34.8 | 8.12 |\n",
       "|  9 | Miyazaki | 133.6 | 5.91 | 32.0 | 7.17 |\n",
       "| 11 | Niigata  | 146.1 | 7.31 | 40.0 | 9.41 |\n",
       "|  7 | Kagawa   | 122.3 | 5.38 | 24.3 | 4.36 |\n",
       "|  6 | Osaka    | 116.6 | 4.72 | 21.3 | 3.49 |\n",
       "\n"
      ],
      "text/plain": [
       "  age region   height_average height_standard_deviation body_weight_average\n",
       "1  7  Aomori   123.3          5.08                      25.8               \n",
       "2 10  Osaka    138.8          6.61                      34.8               \n",
       "3  9  Miyazaki 133.6          5.91                      32.0               \n",
       "4 11  Niigata  146.1          7.31                      40.0               \n",
       "5  7  Kagawa   122.3          5.38                      24.3               \n",
       "6  6  Osaka    116.6          4.72                      21.3               \n",
       "  body_weight_standard_deviation\n",
       "1 4.97                          \n",
       "2 8.12                          \n",
       "3 7.17                          \n",
       "4 9.41                          \n",
       "5 4.36                          \n",
       "6 3.49                          "
      ]
     },
     "metadata": {},
     "output_type": "display_data"
    }
   ],
   "source": [
    "head(man_train)"
   ]
  },
  {
   "cell_type": "markdown",
   "id": "dcc4de7c-a747-4cde-8ee7-28ce2327adce",
   "metadata": {},
   "source": [
    "2. Then we look at if there is any rows with missing data and to remove those rows if applicable."
   ]
  },
  {
   "cell_type": "code",
   "execution_count": 30,
   "id": "ba3ddf54-bfb6-45b0-a54c-d2acc1abeedc",
   "metadata": {
    "tags": []
   },
   "outputs": [
    {
     "data": {
      "text/html": [
       "0"
      ],
      "text/latex": [
       "0"
      ],
      "text/markdown": [
       "0"
      ],
      "text/plain": [
       "[1] 0"
      ]
     },
     "metadata": {},
     "output_type": "display_data"
    }
   ],
   "source": [
    "missing_rows <- man_train |>\n",
    "                    filter(complete.cases(man_train) == FALSE) |>\n",
    "                    nrow() \n",
    "missing_rows"
   ]
  },
  {
   "cell_type": "markdown",
   "id": "07f2e591-6f31-48e6-92e2-f35cbd9f8791",
   "metadata": {},
   "source": [
    "looks like there is no missing data so no need to remove any row. "
   ]
  },
  {
   "cell_type": "markdown",
   "id": "42fb4b8e-8c3e-4bfb-b422-98f063b675bb",
   "metadata": {},
   "source": [
    "3. Because each row of our dataset **does not represent one individual**, instead, it represents summary statistics of individuals with certain age, region, which is more of a product of `group_by(age, region)` and `summarize(mean,sd)` from a more broader dataset that we don't have access to. As a result, we are worried that our data may suffer from **not having enough data points** and thus less accuracy, we want to take a look at the sample size and mean of the rest columns for the whole dataset, and also for each age group and region, as represented by **Table 4-6**.\n",
    "\n"
   ]
  },
  {
   "cell_type": "code",
   "execution_count": 22,
   "id": "1928a4eb-a306-4799-a07d-0f9f1077b9d8",
   "metadata": {
    "tags": []
   },
   "outputs": [],
   "source": [
    "# to get the whole sample size and summary statistics \n",
    "training_summary <- man_train |>\n",
    "    summarize(count = n(), height_average = mean(height_average), \n",
    "              body_weight_average = mean(body_weight_average), \n",
    "              height_standard_deviation = mean(height_standard_deviation),\n",
    "              body_weight_standard_deviation = mean(body_weight_standard_deviation))\n",
    "# to get the sample size and summary statistics by age \n",
    "training_summary_age <- man_train |>\n",
    "    group_by(age) |>\n",
    "    summarize(count = n(), height_average = mean(height_average), \n",
    "              body_weight_average = mean(body_weight_average), \n",
    "              height_standard_deviation = mean(height_standard_deviation),\n",
    "              body_weight_standard_deviation = mean(body_weight_standard_deviation))\n",
    "# to get the sample size and summary statistics by region \n",
    "training_summary_region <- man_train |>\n",
    "    group_by(region) |>\n",
    "    summarize(count = n(), height_average = mean(height_average), \n",
    "              body_weight_average = mean(body_weight_average), \n",
    "              height_standard_deviation = mean(height_standard_deviation),\n",
    "              body_weight_standard_deviation = mean(body_weight_standard_deviation))"
   ]
  },
  {
   "cell_type": "markdown",
   "id": "3b36ba54-261c-4ca2-b1c5-ea759f320ae9",
   "metadata": {},
   "source": [
    "#### Table 4: *Training Dataset Summary - Full*"
   ]
  },
  {
   "cell_type": "code",
   "execution_count": 17,
   "id": "1f9ba758-b5a8-49c7-bf61-0838bed1a847",
   "metadata": {
    "tags": []
   },
   "outputs": [
    {
     "data": {
      "text/html": [
       "<table class=\"dataframe\">\n",
       "<caption>A tibble: 1 × 5</caption>\n",
       "<thead>\n",
       "\t<tr><th scope=col>count</th><th scope=col>height_average</th><th scope=col>body_weight_average</th><th scope=col>height_standard_deviation</th><th scope=col>body_weight_standard_deviation</th></tr>\n",
       "\t<tr><th scope=col>&lt;int&gt;</th><th scope=col>&lt;dbl&gt;</th><th scope=col>&lt;dbl&gt;</th><th scope=col>&lt;dbl&gt;</th><th scope=col>&lt;dbl&gt;</th></tr>\n",
       "</thead>\n",
       "<tbody>\n",
       "\t<tr><td>458</td><td>144.6352</td><td>40.6238</td><td>6.06976</td><td>7.783537</td></tr>\n",
       "</tbody>\n",
       "</table>\n"
      ],
      "text/latex": [
       "A tibble: 1 × 5\n",
       "\\begin{tabular}{lllll}\n",
       " count & height\\_average & body\\_weight\\_average & height\\_standard\\_deviation & body\\_weight\\_standard\\_deviation\\\\\n",
       " <int> & <dbl> & <dbl> & <dbl> & <dbl>\\\\\n",
       "\\hline\n",
       "\t 458 & 144.6352 & 40.6238 & 6.06976 & 7.783537\\\\\n",
       "\\end{tabular}\n"
      ],
      "text/markdown": [
       "\n",
       "A tibble: 1 × 5\n",
       "\n",
       "| count &lt;int&gt; | height_average &lt;dbl&gt; | body_weight_average &lt;dbl&gt; | height_standard_deviation &lt;dbl&gt; | body_weight_standard_deviation &lt;dbl&gt; |\n",
       "|---|---|---|---|---|\n",
       "| 458 | 144.6352 | 40.6238 | 6.06976 | 7.783537 |\n",
       "\n"
      ],
      "text/plain": [
       "  count height_average body_weight_average height_standard_deviation\n",
       "1 458   144.6352       40.6238             6.06976                  \n",
       "  body_weight_standard_deviation\n",
       "1 7.783537                      "
      ]
     },
     "metadata": {},
     "output_type": "display_data"
    }
   ],
   "source": [
    "training_summary"
   ]
  },
  {
   "cell_type": "markdown",
   "id": "a4df3f75-de06-4dd2-8bc2-820d0d6b982d",
   "metadata": {},
   "source": [
    "#### Table 5: *Training Dataset Summary - Age*"
   ]
  },
  {
   "cell_type": "code",
   "execution_count": 23,
   "id": "790d5386-8e43-4423-a1dd-d8828a9219d4",
   "metadata": {
    "tags": []
   },
   "outputs": [
    {
     "data": {
      "text/html": [
       "<table class=\"dataframe\">\n",
       "<caption>A tibble: 13 × 6</caption>\n",
       "<thead>\n",
       "\t<tr><th scope=col>age</th><th scope=col>count</th><th scope=col>height_average</th><th scope=col>body_weight_average</th><th scope=col>height_standard_deviation</th><th scope=col>body_weight_standard_deviation</th></tr>\n",
       "\t<tr><th scope=col>&lt;dbl&gt;</th><th scope=col>&lt;int&gt;</th><th scope=col>&lt;dbl&gt;</th><th scope=col>&lt;dbl&gt;</th><th scope=col>&lt;dbl&gt;</th><th scope=col>&lt;dbl&gt;</th></tr>\n",
       "</thead>\n",
       "<tbody>\n",
       "\t<tr><td> 5</td><td>35</td><td>111.0029</td><td>19.32857</td><td>4.868286</td><td> 2.810857</td></tr>\n",
       "\t<tr><td> 6</td><td>36</td><td>116.6222</td><td>21.68611</td><td>4.902778</td><td> 3.491389</td></tr>\n",
       "\t<tr><td> 7</td><td>38</td><td>122.6158</td><td>24.55789</td><td>5.150000</td><td> 4.358158</td></tr>\n",
       "\t<tr><td> 8</td><td>34</td><td>128.3676</td><td>27.84706</td><td>5.411471</td><td> 5.440588</td></tr>\n",
       "\t<tr><td> 9</td><td>38</td><td>133.6711</td><td>31.26842</td><td>5.706316</td><td> 6.509737</td></tr>\n",
       "\t<tr><td>10</td><td>34</td><td>139.2324</td><td>35.11176</td><td>6.329706</td><td> 7.775000</td></tr>\n",
       "\t<tr><td>11</td><td>34</td><td>145.9059</td><td>39.72353</td><td>7.216765</td><td> 8.880588</td></tr>\n",
       "\t<tr><td>12</td><td>38</td><td>153.4368</td><td>45.21842</td><td>7.892105</td><td>10.088947</td></tr>\n",
       "\t<tr><td>13</td><td>37</td><td>160.4946</td><td>50.11351</td><td>7.335676</td><td>10.282973</td></tr>\n",
       "\t<tr><td>14</td><td>34</td><td>165.6294</td><td>54.89706</td><td>6.444412</td><td>10.343529</td></tr>\n",
       "\t<tr><td>15</td><td>30</td><td>168.4233</td><td>59.26333</td><td>5.819333</td><td>10.880000</td></tr>\n",
       "\t<tr><td>16</td><td>38</td><td>169.7500</td><td>60.88684</td><td>5.888684</td><td>10.516842</td></tr>\n",
       "\t<tr><td>17</td><td>32</td><td>170.5563</td><td>62.66562</td><td>5.849062</td><td>10.467813</td></tr>\n",
       "</tbody>\n",
       "</table>\n"
      ],
      "text/latex": [
       "A tibble: 13 × 6\n",
       "\\begin{tabular}{llllll}\n",
       " age & count & height\\_average & body\\_weight\\_average & height\\_standard\\_deviation & body\\_weight\\_standard\\_deviation\\\\\n",
       " <dbl> & <int> & <dbl> & <dbl> & <dbl> & <dbl>\\\\\n",
       "\\hline\n",
       "\t  5 & 35 & 111.0029 & 19.32857 & 4.868286 &  2.810857\\\\\n",
       "\t  6 & 36 & 116.6222 & 21.68611 & 4.902778 &  3.491389\\\\\n",
       "\t  7 & 38 & 122.6158 & 24.55789 & 5.150000 &  4.358158\\\\\n",
       "\t  8 & 34 & 128.3676 & 27.84706 & 5.411471 &  5.440588\\\\\n",
       "\t  9 & 38 & 133.6711 & 31.26842 & 5.706316 &  6.509737\\\\\n",
       "\t 10 & 34 & 139.2324 & 35.11176 & 6.329706 &  7.775000\\\\\n",
       "\t 11 & 34 & 145.9059 & 39.72353 & 7.216765 &  8.880588\\\\\n",
       "\t 12 & 38 & 153.4368 & 45.21842 & 7.892105 & 10.088947\\\\\n",
       "\t 13 & 37 & 160.4946 & 50.11351 & 7.335676 & 10.282973\\\\\n",
       "\t 14 & 34 & 165.6294 & 54.89706 & 6.444412 & 10.343529\\\\\n",
       "\t 15 & 30 & 168.4233 & 59.26333 & 5.819333 & 10.880000\\\\\n",
       "\t 16 & 38 & 169.7500 & 60.88684 & 5.888684 & 10.516842\\\\\n",
       "\t 17 & 32 & 170.5563 & 62.66562 & 5.849062 & 10.467813\\\\\n",
       "\\end{tabular}\n"
      ],
      "text/markdown": [
       "\n",
       "A tibble: 13 × 6\n",
       "\n",
       "| age &lt;dbl&gt; | count &lt;int&gt; | height_average &lt;dbl&gt; | body_weight_average &lt;dbl&gt; | height_standard_deviation &lt;dbl&gt; | body_weight_standard_deviation &lt;dbl&gt; |\n",
       "|---|---|---|---|---|---|\n",
       "|  5 | 35 | 111.0029 | 19.32857 | 4.868286 |  2.810857 |\n",
       "|  6 | 36 | 116.6222 | 21.68611 | 4.902778 |  3.491389 |\n",
       "|  7 | 38 | 122.6158 | 24.55789 | 5.150000 |  4.358158 |\n",
       "|  8 | 34 | 128.3676 | 27.84706 | 5.411471 |  5.440588 |\n",
       "|  9 | 38 | 133.6711 | 31.26842 | 5.706316 |  6.509737 |\n",
       "| 10 | 34 | 139.2324 | 35.11176 | 6.329706 |  7.775000 |\n",
       "| 11 | 34 | 145.9059 | 39.72353 | 7.216765 |  8.880588 |\n",
       "| 12 | 38 | 153.4368 | 45.21842 | 7.892105 | 10.088947 |\n",
       "| 13 | 37 | 160.4946 | 50.11351 | 7.335676 | 10.282973 |\n",
       "| 14 | 34 | 165.6294 | 54.89706 | 6.444412 | 10.343529 |\n",
       "| 15 | 30 | 168.4233 | 59.26333 | 5.819333 | 10.880000 |\n",
       "| 16 | 38 | 169.7500 | 60.88684 | 5.888684 | 10.516842 |\n",
       "| 17 | 32 | 170.5563 | 62.66562 | 5.849062 | 10.467813 |\n",
       "\n"
      ],
      "text/plain": [
       "   age count height_average body_weight_average height_standard_deviation\n",
       "1   5  35    111.0029       19.32857            4.868286                 \n",
       "2   6  36    116.6222       21.68611            4.902778                 \n",
       "3   7  38    122.6158       24.55789            5.150000                 \n",
       "4   8  34    128.3676       27.84706            5.411471                 \n",
       "5   9  38    133.6711       31.26842            5.706316                 \n",
       "6  10  34    139.2324       35.11176            6.329706                 \n",
       "7  11  34    145.9059       39.72353            7.216765                 \n",
       "8  12  38    153.4368       45.21842            7.892105                 \n",
       "9  13  37    160.4946       50.11351            7.335676                 \n",
       "10 14  34    165.6294       54.89706            6.444412                 \n",
       "11 15  30    168.4233       59.26333            5.819333                 \n",
       "12 16  38    169.7500       60.88684            5.888684                 \n",
       "13 17  32    170.5563       62.66562            5.849062                 \n",
       "   body_weight_standard_deviation\n",
       "1   2.810857                     \n",
       "2   3.491389                     \n",
       "3   4.358158                     \n",
       "4   5.440588                     \n",
       "5   6.509737                     \n",
       "6   7.775000                     \n",
       "7   8.880588                     \n",
       "8  10.088947                     \n",
       "9  10.282973                     \n",
       "10 10.343529                     \n",
       "11 10.880000                     \n",
       "12 10.516842                     \n",
       "13 10.467813                     "
      ]
     },
     "metadata": {},
     "output_type": "display_data"
    }
   ],
   "source": [
    "training_summary_age"
   ]
  },
  {
   "cell_type": "markdown",
   "id": "7f01548e-dee7-4461-9eaa-5b7225ada3a7",
   "metadata": {},
   "source": [
    "#### Table 6: *Training Dataset Summary - Region*"
   ]
  },
  {
   "cell_type": "code",
   "execution_count": 25,
   "id": "b2668b87-53b6-4222-a141-6636fdb74bd3",
   "metadata": {
    "tags": []
   },
   "outputs": [
    {
     "data": {
      "text/html": [
       "<table class=\"dataframe\">\n",
       "<caption>A tibble: 47 × 6</caption>\n",
       "<thead>\n",
       "\t<tr><th scope=col>region</th><th scope=col>count</th><th scope=col>height_average</th><th scope=col>body_weight_average</th><th scope=col>height_standard_deviation</th><th scope=col>body_weight_standard_deviation</th></tr>\n",
       "\t<tr><th scope=col>&lt;chr&gt;</th><th scope=col>&lt;int&gt;</th><th scope=col>&lt;dbl&gt;</th><th scope=col>&lt;dbl&gt;</th><th scope=col>&lt;dbl&gt;</th><th scope=col>&lt;dbl&gt;</th></tr>\n",
       "</thead>\n",
       "<tbody>\n",
       "\t<tr><td>Aichi    </td><td>11</td><td>144.0727</td><td>39.64545</td><td>6.082727</td><td>7.400909</td></tr>\n",
       "\t<tr><td>Akita    </td><td> 9</td><td>147.0889</td><td>43.00000</td><td>6.033333</td><td>8.471111</td></tr>\n",
       "\t<tr><td>Aomori   </td><td> 8</td><td>139.9375</td><td>38.21250</td><td>6.015000</td><td>7.823750</td></tr>\n",
       "\t<tr><td>Chiba    </td><td>10</td><td>145.7500</td><td>41.07000</td><td>6.068000</td><td>7.835000</td></tr>\n",
       "\t<tr><td>Ehime    </td><td> 9</td><td>143.9333</td><td>41.03333</td><td>5.783333</td><td>7.628889</td></tr>\n",
       "\t<tr><td>Fukui    </td><td>11</td><td>146.8182</td><td>41.53636</td><td>6.100000</td><td>7.391818</td></tr>\n",
       "\t<tr><td>Fukuoka  </td><td>10</td><td>146.7900</td><td>41.90000</td><td>6.079000</td><td>7.875000</td></tr>\n",
       "\t<tr><td>Fukushima</td><td> 9</td><td>143.2111</td><td>40.65556</td><td>5.728889</td><td>8.100000</td></tr>\n",
       "\t<tr><td>Gifu     </td><td>10</td><td>137.7300</td><td>34.94000</td><td>6.146000</td><td>6.869000</td></tr>\n",
       "\t<tr><td>Gunma    </td><td> 7</td><td>152.1571</td><td>46.18571</td><td>6.231429</td><td>9.498571</td></tr>\n",
       "\t<tr><td>Hiroshima</td><td> 9</td><td>143.4111</td><td>39.94444</td><td>6.018889</td><td>7.457778</td></tr>\n",
       "\t<tr><td>Hokkaido </td><td> 7</td><td>138.7571</td><td>37.07143</td><td>6.104286</td><td>7.750000</td></tr>\n",
       "\t<tr><td>Hyogo    </td><td>11</td><td>145.7818</td><td>40.48182</td><td>6.091818</td><td>7.501818</td></tr>\n",
       "\t<tr><td>Ibaraki  </td><td>12</td><td>146.9500</td><td>42.88333</td><td>6.224167</td><td>8.506667</td></tr>\n",
       "\t<tr><td>Ishikawa </td><td>12</td><td>146.5000</td><td>41.90833</td><td>6.128333</td><td>7.816667</td></tr>\n",
       "\t<tr><td>Iwate    </td><td>13</td><td>145.4538</td><td>42.06923</td><td>6.079231</td><td>8.453077</td></tr>\n",
       "\t<tr><td>Kagawa   </td><td>11</td><td>147.0909</td><td>42.68182</td><td>6.060000</td><td>7.817273</td></tr>\n",
       "\t<tr><td>Kagoshima</td><td> 8</td><td>144.9750</td><td>41.46250</td><td>5.878750</td><td>7.783750</td></tr>\n",
       "\t<tr><td>Kanagawa </td><td> 8</td><td>136.2375</td><td>33.63750</td><td>6.240000</td><td>6.682500</td></tr>\n",
       "\t<tr><td>Kochi    </td><td>11</td><td>140.3909</td><td>37.60909</td><td>5.933636</td><td>7.299091</td></tr>\n",
       "\t<tr><td>Kumamoto </td><td>10</td><td>143.2700</td><td>40.28000</td><td>5.996000</td><td>7.599000</td></tr>\n",
       "\t<tr><td>Kyoto    </td><td>10</td><td>147.2600</td><td>42.08000</td><td>6.078000</td><td>7.701000</td></tr>\n",
       "\t<tr><td>Mie      </td><td> 8</td><td>143.6000</td><td>38.76250</td><td>6.408750</td><td>7.880000</td></tr>\n",
       "\t<tr><td>Miyagi   </td><td> 7</td><td>151.6429</td><td>45.57143</td><td>6.738571</td><td>9.372857</td></tr>\n",
       "\t<tr><td>Miyazaki </td><td> 8</td><td>141.7250</td><td>39.71250</td><td>6.183750</td><td>7.962500</td></tr>\n",
       "\t<tr><td>Nagano   </td><td>10</td><td>143.0700</td><td>39.63000</td><td>5.695000</td><td>6.865000</td></tr>\n",
       "\t<tr><td>Nagasaki </td><td> 8</td><td>141.8875</td><td>38.18750</td><td>5.760000</td><td>6.936250</td></tr>\n",
       "\t<tr><td>Nara     </td><td> 9</td><td>140.1444</td><td>37.12222</td><td>5.974444</td><td>7.095556</td></tr>\n",
       "\t<tr><td>Niigata  </td><td>10</td><td>146.0100</td><td>41.41000</td><td>6.192000</td><td>7.920000</td></tr>\n",
       "\t<tr><td>Oita     </td><td> 9</td><td>143.1111</td><td>39.50000</td><td>6.222222</td><td>8.136667</td></tr>\n",
       "\t<tr><td>Okayama  </td><td>10</td><td>146.1700</td><td>41.41000</td><td>6.254000</td><td>7.810000</td></tr>\n",
       "\t<tr><td>Okinawa  </td><td>11</td><td>147.7091</td><td>43.58182</td><td>6.288182</td><td>8.757273</td></tr>\n",
       "\t<tr><td>Osaka    </td><td>12</td><td>143.0333</td><td>39.07500</td><td>6.095833</td><td>7.520000</td></tr>\n",
       "\t<tr><td>Saga     </td><td>13</td><td>144.6846</td><td>40.68462</td><td>5.948462</td><td>7.529231</td></tr>\n",
       "\t<tr><td>Saitama  </td><td>10</td><td>143.9700</td><td>40.21000</td><td>6.015000</td><td>7.755000</td></tr>\n",
       "\t<tr><td>Shiga    </td><td>11</td><td>144.3364</td><td>39.57273</td><td>6.101818</td><td>7.298182</td></tr>\n",
       "\t<tr><td>Shimane  </td><td>12</td><td>144.3750</td><td>40.45833</td><td>5.910000</td><td>7.123333</td></tr>\n",
       "\t<tr><td>Shizuoka </td><td> 8</td><td>138.5375</td><td>35.78750</td><td>5.988750</td><td>6.845000</td></tr>\n",
       "\t<tr><td>Tochigi  </td><td>12</td><td>146.6250</td><td>42.55833</td><td>6.142500</td><td>8.441667</td></tr>\n",
       "\t<tr><td>Tokushima</td><td> 7</td><td>142.4857</td><td>39.58571</td><td>5.875714</td><td>7.708571</td></tr>\n",
       "\t<tr><td>Tokyo    </td><td>10</td><td>150.7800</td><td>44.47000</td><td>6.140000</td><td>8.390000</td></tr>\n",
       "\t<tr><td>Tottori  </td><td> 7</td><td>149.0143</td><td>43.25714</td><td>5.985714</td><td>7.801429</td></tr>\n",
       "\t<tr><td>Toyama   </td><td>10</td><td>145.4600</td><td>40.99000</td><td>5.851000</td><td>7.944000</td></tr>\n",
       "\t<tr><td>Wakayama </td><td>10</td><td>146.8500</td><td>42.59000</td><td>5.837000</td><td>8.155000</td></tr>\n",
       "\t<tr><td>Yamagata </td><td> 8</td><td>145.2500</td><td>41.26250</td><td>6.277500</td><td>8.295000</td></tr>\n",
       "\t<tr><td>Yamaguchi</td><td>12</td><td>147.0833</td><td>41.87500</td><td>6.170000</td><td>7.715000</td></tr>\n",
       "\t<tr><td>Yamanashi</td><td>10</td><td>142.3300</td><td>38.96000</td><td>6.237000</td><td>7.770000</td></tr>\n",
       "</tbody>\n",
       "</table>\n"
      ],
      "text/latex": [
       "A tibble: 47 × 6\n",
       "\\begin{tabular}{llllll}\n",
       " region & count & height\\_average & body\\_weight\\_average & height\\_standard\\_deviation & body\\_weight\\_standard\\_deviation\\\\\n",
       " <chr> & <int> & <dbl> & <dbl> & <dbl> & <dbl>\\\\\n",
       "\\hline\n",
       "\t Aichi     & 11 & 144.0727 & 39.64545 & 6.082727 & 7.400909\\\\\n",
       "\t Akita     &  9 & 147.0889 & 43.00000 & 6.033333 & 8.471111\\\\\n",
       "\t Aomori    &  8 & 139.9375 & 38.21250 & 6.015000 & 7.823750\\\\\n",
       "\t Chiba     & 10 & 145.7500 & 41.07000 & 6.068000 & 7.835000\\\\\n",
       "\t Ehime     &  9 & 143.9333 & 41.03333 & 5.783333 & 7.628889\\\\\n",
       "\t Fukui     & 11 & 146.8182 & 41.53636 & 6.100000 & 7.391818\\\\\n",
       "\t Fukuoka   & 10 & 146.7900 & 41.90000 & 6.079000 & 7.875000\\\\\n",
       "\t Fukushima &  9 & 143.2111 & 40.65556 & 5.728889 & 8.100000\\\\\n",
       "\t Gifu      & 10 & 137.7300 & 34.94000 & 6.146000 & 6.869000\\\\\n",
       "\t Gunma     &  7 & 152.1571 & 46.18571 & 6.231429 & 9.498571\\\\\n",
       "\t Hiroshima &  9 & 143.4111 & 39.94444 & 6.018889 & 7.457778\\\\\n",
       "\t Hokkaido  &  7 & 138.7571 & 37.07143 & 6.104286 & 7.750000\\\\\n",
       "\t Hyogo     & 11 & 145.7818 & 40.48182 & 6.091818 & 7.501818\\\\\n",
       "\t Ibaraki   & 12 & 146.9500 & 42.88333 & 6.224167 & 8.506667\\\\\n",
       "\t Ishikawa  & 12 & 146.5000 & 41.90833 & 6.128333 & 7.816667\\\\\n",
       "\t Iwate     & 13 & 145.4538 & 42.06923 & 6.079231 & 8.453077\\\\\n",
       "\t Kagawa    & 11 & 147.0909 & 42.68182 & 6.060000 & 7.817273\\\\\n",
       "\t Kagoshima &  8 & 144.9750 & 41.46250 & 5.878750 & 7.783750\\\\\n",
       "\t Kanagawa  &  8 & 136.2375 & 33.63750 & 6.240000 & 6.682500\\\\\n",
       "\t Kochi     & 11 & 140.3909 & 37.60909 & 5.933636 & 7.299091\\\\\n",
       "\t Kumamoto  & 10 & 143.2700 & 40.28000 & 5.996000 & 7.599000\\\\\n",
       "\t Kyoto     & 10 & 147.2600 & 42.08000 & 6.078000 & 7.701000\\\\\n",
       "\t Mie       &  8 & 143.6000 & 38.76250 & 6.408750 & 7.880000\\\\\n",
       "\t Miyagi    &  7 & 151.6429 & 45.57143 & 6.738571 & 9.372857\\\\\n",
       "\t Miyazaki  &  8 & 141.7250 & 39.71250 & 6.183750 & 7.962500\\\\\n",
       "\t Nagano    & 10 & 143.0700 & 39.63000 & 5.695000 & 6.865000\\\\\n",
       "\t Nagasaki  &  8 & 141.8875 & 38.18750 & 5.760000 & 6.936250\\\\\n",
       "\t Nara      &  9 & 140.1444 & 37.12222 & 5.974444 & 7.095556\\\\\n",
       "\t Niigata   & 10 & 146.0100 & 41.41000 & 6.192000 & 7.920000\\\\\n",
       "\t Oita      &  9 & 143.1111 & 39.50000 & 6.222222 & 8.136667\\\\\n",
       "\t Okayama   & 10 & 146.1700 & 41.41000 & 6.254000 & 7.810000\\\\\n",
       "\t Okinawa   & 11 & 147.7091 & 43.58182 & 6.288182 & 8.757273\\\\\n",
       "\t Osaka     & 12 & 143.0333 & 39.07500 & 6.095833 & 7.520000\\\\\n",
       "\t Saga      & 13 & 144.6846 & 40.68462 & 5.948462 & 7.529231\\\\\n",
       "\t Saitama   & 10 & 143.9700 & 40.21000 & 6.015000 & 7.755000\\\\\n",
       "\t Shiga     & 11 & 144.3364 & 39.57273 & 6.101818 & 7.298182\\\\\n",
       "\t Shimane   & 12 & 144.3750 & 40.45833 & 5.910000 & 7.123333\\\\\n",
       "\t Shizuoka  &  8 & 138.5375 & 35.78750 & 5.988750 & 6.845000\\\\\n",
       "\t Tochigi   & 12 & 146.6250 & 42.55833 & 6.142500 & 8.441667\\\\\n",
       "\t Tokushima &  7 & 142.4857 & 39.58571 & 5.875714 & 7.708571\\\\\n",
       "\t Tokyo     & 10 & 150.7800 & 44.47000 & 6.140000 & 8.390000\\\\\n",
       "\t Tottori   &  7 & 149.0143 & 43.25714 & 5.985714 & 7.801429\\\\\n",
       "\t Toyama    & 10 & 145.4600 & 40.99000 & 5.851000 & 7.944000\\\\\n",
       "\t Wakayama  & 10 & 146.8500 & 42.59000 & 5.837000 & 8.155000\\\\\n",
       "\t Yamagata  &  8 & 145.2500 & 41.26250 & 6.277500 & 8.295000\\\\\n",
       "\t Yamaguchi & 12 & 147.0833 & 41.87500 & 6.170000 & 7.715000\\\\\n",
       "\t Yamanashi & 10 & 142.3300 & 38.96000 & 6.237000 & 7.770000\\\\\n",
       "\\end{tabular}\n"
      ],
      "text/markdown": [
       "\n",
       "A tibble: 47 × 6\n",
       "\n",
       "| region &lt;chr&gt; | count &lt;int&gt; | height_average &lt;dbl&gt; | body_weight_average &lt;dbl&gt; | height_standard_deviation &lt;dbl&gt; | body_weight_standard_deviation &lt;dbl&gt; |\n",
       "|---|---|---|---|---|---|\n",
       "| Aichi     | 11 | 144.0727 | 39.64545 | 6.082727 | 7.400909 |\n",
       "| Akita     |  9 | 147.0889 | 43.00000 | 6.033333 | 8.471111 |\n",
       "| Aomori    |  8 | 139.9375 | 38.21250 | 6.015000 | 7.823750 |\n",
       "| Chiba     | 10 | 145.7500 | 41.07000 | 6.068000 | 7.835000 |\n",
       "| Ehime     |  9 | 143.9333 | 41.03333 | 5.783333 | 7.628889 |\n",
       "| Fukui     | 11 | 146.8182 | 41.53636 | 6.100000 | 7.391818 |\n",
       "| Fukuoka   | 10 | 146.7900 | 41.90000 | 6.079000 | 7.875000 |\n",
       "| Fukushima |  9 | 143.2111 | 40.65556 | 5.728889 | 8.100000 |\n",
       "| Gifu      | 10 | 137.7300 | 34.94000 | 6.146000 | 6.869000 |\n",
       "| Gunma     |  7 | 152.1571 | 46.18571 | 6.231429 | 9.498571 |\n",
       "| Hiroshima |  9 | 143.4111 | 39.94444 | 6.018889 | 7.457778 |\n",
       "| Hokkaido  |  7 | 138.7571 | 37.07143 | 6.104286 | 7.750000 |\n",
       "| Hyogo     | 11 | 145.7818 | 40.48182 | 6.091818 | 7.501818 |\n",
       "| Ibaraki   | 12 | 146.9500 | 42.88333 | 6.224167 | 8.506667 |\n",
       "| Ishikawa  | 12 | 146.5000 | 41.90833 | 6.128333 | 7.816667 |\n",
       "| Iwate     | 13 | 145.4538 | 42.06923 | 6.079231 | 8.453077 |\n",
       "| Kagawa    | 11 | 147.0909 | 42.68182 | 6.060000 | 7.817273 |\n",
       "| Kagoshima |  8 | 144.9750 | 41.46250 | 5.878750 | 7.783750 |\n",
       "| Kanagawa  |  8 | 136.2375 | 33.63750 | 6.240000 | 6.682500 |\n",
       "| Kochi     | 11 | 140.3909 | 37.60909 | 5.933636 | 7.299091 |\n",
       "| Kumamoto  | 10 | 143.2700 | 40.28000 | 5.996000 | 7.599000 |\n",
       "| Kyoto     | 10 | 147.2600 | 42.08000 | 6.078000 | 7.701000 |\n",
       "| Mie       |  8 | 143.6000 | 38.76250 | 6.408750 | 7.880000 |\n",
       "| Miyagi    |  7 | 151.6429 | 45.57143 | 6.738571 | 9.372857 |\n",
       "| Miyazaki  |  8 | 141.7250 | 39.71250 | 6.183750 | 7.962500 |\n",
       "| Nagano    | 10 | 143.0700 | 39.63000 | 5.695000 | 6.865000 |\n",
       "| Nagasaki  |  8 | 141.8875 | 38.18750 | 5.760000 | 6.936250 |\n",
       "| Nara      |  9 | 140.1444 | 37.12222 | 5.974444 | 7.095556 |\n",
       "| Niigata   | 10 | 146.0100 | 41.41000 | 6.192000 | 7.920000 |\n",
       "| Oita      |  9 | 143.1111 | 39.50000 | 6.222222 | 8.136667 |\n",
       "| Okayama   | 10 | 146.1700 | 41.41000 | 6.254000 | 7.810000 |\n",
       "| Okinawa   | 11 | 147.7091 | 43.58182 | 6.288182 | 8.757273 |\n",
       "| Osaka     | 12 | 143.0333 | 39.07500 | 6.095833 | 7.520000 |\n",
       "| Saga      | 13 | 144.6846 | 40.68462 | 5.948462 | 7.529231 |\n",
       "| Saitama   | 10 | 143.9700 | 40.21000 | 6.015000 | 7.755000 |\n",
       "| Shiga     | 11 | 144.3364 | 39.57273 | 6.101818 | 7.298182 |\n",
       "| Shimane   | 12 | 144.3750 | 40.45833 | 5.910000 | 7.123333 |\n",
       "| Shizuoka  |  8 | 138.5375 | 35.78750 | 5.988750 | 6.845000 |\n",
       "| Tochigi   | 12 | 146.6250 | 42.55833 | 6.142500 | 8.441667 |\n",
       "| Tokushima |  7 | 142.4857 | 39.58571 | 5.875714 | 7.708571 |\n",
       "| Tokyo     | 10 | 150.7800 | 44.47000 | 6.140000 | 8.390000 |\n",
       "| Tottori   |  7 | 149.0143 | 43.25714 | 5.985714 | 7.801429 |\n",
       "| Toyama    | 10 | 145.4600 | 40.99000 | 5.851000 | 7.944000 |\n",
       "| Wakayama  | 10 | 146.8500 | 42.59000 | 5.837000 | 8.155000 |\n",
       "| Yamagata  |  8 | 145.2500 | 41.26250 | 6.277500 | 8.295000 |\n",
       "| Yamaguchi | 12 | 147.0833 | 41.87500 | 6.170000 | 7.715000 |\n",
       "| Yamanashi | 10 | 142.3300 | 38.96000 | 6.237000 | 7.770000 |\n",
       "\n"
      ],
      "text/plain": [
       "   region    count height_average body_weight_average height_standard_deviation\n",
       "1  Aichi     11    144.0727       39.64545            6.082727                 \n",
       "2  Akita      9    147.0889       43.00000            6.033333                 \n",
       "3  Aomori     8    139.9375       38.21250            6.015000                 \n",
       "4  Chiba     10    145.7500       41.07000            6.068000                 \n",
       "5  Ehime      9    143.9333       41.03333            5.783333                 \n",
       "6  Fukui     11    146.8182       41.53636            6.100000                 \n",
       "7  Fukuoka   10    146.7900       41.90000            6.079000                 \n",
       "8  Fukushima  9    143.2111       40.65556            5.728889                 \n",
       "9  Gifu      10    137.7300       34.94000            6.146000                 \n",
       "10 Gunma      7    152.1571       46.18571            6.231429                 \n",
       "11 Hiroshima  9    143.4111       39.94444            6.018889                 \n",
       "12 Hokkaido   7    138.7571       37.07143            6.104286                 \n",
       "13 Hyogo     11    145.7818       40.48182            6.091818                 \n",
       "14 Ibaraki   12    146.9500       42.88333            6.224167                 \n",
       "15 Ishikawa  12    146.5000       41.90833            6.128333                 \n",
       "16 Iwate     13    145.4538       42.06923            6.079231                 \n",
       "17 Kagawa    11    147.0909       42.68182            6.060000                 \n",
       "18 Kagoshima  8    144.9750       41.46250            5.878750                 \n",
       "19 Kanagawa   8    136.2375       33.63750            6.240000                 \n",
       "20 Kochi     11    140.3909       37.60909            5.933636                 \n",
       "21 Kumamoto  10    143.2700       40.28000            5.996000                 \n",
       "22 Kyoto     10    147.2600       42.08000            6.078000                 \n",
       "23 Mie        8    143.6000       38.76250            6.408750                 \n",
       "24 Miyagi     7    151.6429       45.57143            6.738571                 \n",
       "25 Miyazaki   8    141.7250       39.71250            6.183750                 \n",
       "26 Nagano    10    143.0700       39.63000            5.695000                 \n",
       "27 Nagasaki   8    141.8875       38.18750            5.760000                 \n",
       "28 Nara       9    140.1444       37.12222            5.974444                 \n",
       "29 Niigata   10    146.0100       41.41000            6.192000                 \n",
       "30 Oita       9    143.1111       39.50000            6.222222                 \n",
       "31 Okayama   10    146.1700       41.41000            6.254000                 \n",
       "32 Okinawa   11    147.7091       43.58182            6.288182                 \n",
       "33 Osaka     12    143.0333       39.07500            6.095833                 \n",
       "34 Saga      13    144.6846       40.68462            5.948462                 \n",
       "35 Saitama   10    143.9700       40.21000            6.015000                 \n",
       "36 Shiga     11    144.3364       39.57273            6.101818                 \n",
       "37 Shimane   12    144.3750       40.45833            5.910000                 \n",
       "38 Shizuoka   8    138.5375       35.78750            5.988750                 \n",
       "39 Tochigi   12    146.6250       42.55833            6.142500                 \n",
       "40 Tokushima  7    142.4857       39.58571            5.875714                 \n",
       "41 Tokyo     10    150.7800       44.47000            6.140000                 \n",
       "42 Tottori    7    149.0143       43.25714            5.985714                 \n",
       "43 Toyama    10    145.4600       40.99000            5.851000                 \n",
       "44 Wakayama  10    146.8500       42.59000            5.837000                 \n",
       "45 Yamagata   8    145.2500       41.26250            6.277500                 \n",
       "46 Yamaguchi 12    147.0833       41.87500            6.170000                 \n",
       "47 Yamanashi 10    142.3300       38.96000            6.237000                 \n",
       "   body_weight_standard_deviation\n",
       "1  7.400909                      \n",
       "2  8.471111                      \n",
       "3  7.823750                      \n",
       "4  7.835000                      \n",
       "5  7.628889                      \n",
       "6  7.391818                      \n",
       "7  7.875000                      \n",
       "8  8.100000                      \n",
       "9  6.869000                      \n",
       "10 9.498571                      \n",
       "11 7.457778                      \n",
       "12 7.750000                      \n",
       "13 7.501818                      \n",
       "14 8.506667                      \n",
       "15 7.816667                      \n",
       "16 8.453077                      \n",
       "17 7.817273                      \n",
       "18 7.783750                      \n",
       "19 6.682500                      \n",
       "20 7.299091                      \n",
       "21 7.599000                      \n",
       "22 7.701000                      \n",
       "23 7.880000                      \n",
       "24 9.372857                      \n",
       "25 7.962500                      \n",
       "26 6.865000                      \n",
       "27 6.936250                      \n",
       "28 7.095556                      \n",
       "29 7.920000                      \n",
       "30 8.136667                      \n",
       "31 7.810000                      \n",
       "32 8.757273                      \n",
       "33 7.520000                      \n",
       "34 7.529231                      \n",
       "35 7.755000                      \n",
       "36 7.298182                      \n",
       "37 7.123333                      \n",
       "38 6.845000                      \n",
       "39 8.441667                      \n",
       "40 7.708571                      \n",
       "41 8.390000                      \n",
       "42 7.801429                      \n",
       "43 7.944000                      \n",
       "44 8.155000                      \n",
       "45 8.295000                      \n",
       "46 7.715000                      \n",
       "47 7.770000                      "
      ]
     },
     "metadata": {},
     "output_type": "display_data"
    }
   ],
   "source": [
    "training_summary_region"
   ]
  },
  {
   "cell_type": "markdown",
   "id": "44fea429-4e38-4924-86c2-790b3475ed17",
   "metadata": {},
   "source": [
    "Looking at the summary tables above of the training dataset, we better understand our dataset: \n",
    "- Like expected, our data set is **more of a summary data set** that have 12 age groups (from 5-17) and for each age we have around 35 data points that represent around 35 regions' height and weight summary statistics (i.e. mean and sd)\n",
    "- we can see that the number of individuals for each age group is comparative/balanced (around 35) and the number of individual for each region is also comparative/balanced (around 10) with a large sample size of 458 in total. \n",
    "- we can convinced now the data is balanced and have enough sample size using `age` as the response variable. We now can have some ideas of what to better phrase the research question according to our dataset: \n",
    "**given a data point with its region summary statistics (region/mean/sd), what is the predicted age of this data point?** we will discuss which summary statistics to choose as the predictors in the next section."
   ]
  },
  {
   "cell_type": "markdown",
   "id": "ec87bf42-8884-4834-9452-23209f0736f7",
   "metadata": {
    "jp-MarkdownHeadingCollapsed": true,
    "tags": []
   },
   "source": [
    "### 4. The Data Type of `age` \n",
    "From the dataset structure we've explained above, we noticed a few things \n",
    "1. `age` is not nessarily a continuous variable statistically speaking because all age groups are integers in our data. However, it is clearly not categorical data type with just classes, because an age of a higher number is for sure larger than an age of a lower number (there is **order**)\n",
    "2. There is around 12 age groups that run from 5 to 17. \n",
    "\n",
    "Based on the data type of `age`, we can either treating `age` as a continuous variable and do a regression-related analysis or treating `age` as a categorical variable and do a classification analysis. However, although we have balanced samples for each age group (about 35), there are too many categories (12 categories) to predict. **As a result, we decided to treat `age` as a continuous variable and do a regression-typed analysis ($k$-nn regression or linear regression).**"
   ]
  }
 ],
 "metadata": {
  "kernelspec": {
   "display_name": "R",
   "language": "R",
   "name": "ir"
  },
  "language_info": {
   "codemirror_mode": "r",
   "file_extension": ".r",
   "mimetype": "text/x-r-source",
   "name": "R",
   "pygments_lexer": "r",
   "version": "4.2.2"
  }
 },
 "nbformat": 4,
 "nbformat_minor": 5
}
