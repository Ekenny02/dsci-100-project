{
 "cells": [
  {
   "cell_type": "markdown",
   "id": "8baf7146-9deb-49f7-b6cc-e5c9c37e71e2",
   "metadata": {},
   "source": [
    "# Height and Weight of Boys Ages 5-17 Across Japan"
   ]
  },
  {
   "cell_type": "markdown",
   "id": "ea449a19-a983-4a27-8e66-ad777c46d713",
   "metadata": {},
   "source": [
    "# Introduction"
   ]
  },
  {
   "cell_type": "markdown",
   "id": "ebc2483b-0520-46fb-8366-04bd48e70f63",
   "metadata": {},
   "source": [
    "Every year across Japan, measurement sessions are required by the government to be held at elementary schools in every region from ages 5-17, measuring each child's height and weight. **Using this data, we will be predicting the age of the child based on given height and weight in boys.** We will be splitting the dataset into a training and testing set to test the accuracy of the model of predicting the age from the testing data’s height and weight of boys 5-17 in Japan. "
   ]
  },
  {
   "cell_type": "markdown",
   "id": "9f73c2d7-f98b-4094-ab62-699f847a6cb5",
   "metadata": {
    "tags": []
   },
   "source": [
    "# Preliminary Exploratory Analysis"
   ]
  },
  {
   "cell_type": "code",
   "execution_count": 7,
   "id": "eaa24ef4-ec08-4e2f-bc6d-2efa1f808e36",
   "metadata": {
    "tags": []
   },
   "outputs": [
    {
     "name": "stderr",
     "output_type": "stream",
     "text": [
      "Updating HTML index of packages in '.Library'\n",
      "\n",
      "Making 'packages.html' ...\n",
      " done\n",
      "\n",
      "── \u001b[1mAttaching packages\u001b[22m ────────────────────────────────────── tidymodels 1.0.0 ──\n",
      "\n",
      "\u001b[32m✔\u001b[39m \u001b[34mbroom       \u001b[39m 1.0.2     \u001b[32m✔\u001b[39m \u001b[34mrsample     \u001b[39m 1.1.1\n",
      "\u001b[32m✔\u001b[39m \u001b[34mdials       \u001b[39m 1.1.0     \u001b[32m✔\u001b[39m \u001b[34mtune        \u001b[39m 1.0.1\n",
      "\u001b[32m✔\u001b[39m \u001b[34minfer       \u001b[39m 1.0.4     \u001b[32m✔\u001b[39m \u001b[34mworkflows   \u001b[39m 1.1.2\n",
      "\u001b[32m✔\u001b[39m \u001b[34mmodeldata   \u001b[39m 1.0.1     \u001b[32m✔\u001b[39m \u001b[34mworkflowsets\u001b[39m 1.0.0\n",
      "\u001b[32m✔\u001b[39m \u001b[34mparsnip     \u001b[39m 1.0.3     \u001b[32m✔\u001b[39m \u001b[34myardstick   \u001b[39m 1.1.0\n",
      "\u001b[32m✔\u001b[39m \u001b[34mrecipes     \u001b[39m 1.0.4     \n",
      "\n",
      "── \u001b[1mConflicts\u001b[22m ───────────────────────────────────────── tidymodels_conflicts() ──\n",
      "\u001b[31m✖\u001b[39m \u001b[34mscales\u001b[39m::\u001b[32mdiscard()\u001b[39m masks \u001b[34mpurrr\u001b[39m::discard()\n",
      "\u001b[31m✖\u001b[39m \u001b[34mdplyr\u001b[39m::\u001b[32mfilter()\u001b[39m   masks \u001b[34mstats\u001b[39m::filter()\n",
      "\u001b[31m✖\u001b[39m \u001b[34mrecipes\u001b[39m::\u001b[32mfixed()\u001b[39m  masks \u001b[34mstringr\u001b[39m::fixed()\n",
      "\u001b[31m✖\u001b[39m \u001b[34mdplyr\u001b[39m::\u001b[32mlag()\u001b[39m      masks \u001b[34mstats\u001b[39m::lag()\n",
      "\u001b[31m✖\u001b[39m \u001b[34myardstick\u001b[39m::\u001b[32mspec()\u001b[39m masks \u001b[34mreadr\u001b[39m::spec()\n",
      "\u001b[31m✖\u001b[39m \u001b[34mrecipes\u001b[39m::\u001b[32mstep()\u001b[39m   masks \u001b[34mstats\u001b[39m::step()\n",
      "\u001b[34m•\u001b[39m Search for functions across packages at \u001b[32mhttps://www.tidymodels.org/find/\u001b[39m\n",
      "\n"
     ]
    }
   ],
   "source": [
    "install.packages(\"janitor\")\n",
    "library(tidyverse)\n",
    "library(janitor)\n",
    "library(repr)\n",
    "library(tidymodels)"
   ]
  },
  {
   "cell_type": "markdown",
   "id": "f8e7fdb2-be36-45c2-bdeb-60314d325c78",
   "metadata": {},
   "source": [
    "#### 1. Demonstration that the data set `man.csv` can be read into R "
   ]
  },
  {
   "cell_type": "code",
   "execution_count": 3,
   "id": "d1785d3a-d489-4a5f-a3a9-20e2ab7bf3bc",
   "metadata": {
    "tags": []
   },
   "outputs": [
    {
     "name": "stderr",
     "output_type": "stream",
     "text": [
      "\u001b[1mRows: \u001b[22m\u001b[34m624\u001b[39m \u001b[1mColumns: \u001b[22m\u001b[34m6\u001b[39m\n",
      "\u001b[36m──\u001b[39m \u001b[1mColumn specification\u001b[22m \u001b[36m────────────────────────────────────────────────────────\u001b[39m\n",
      "\u001b[1mDelimiter:\u001b[22m \",\"\n",
      "\u001b[31mchr\u001b[39m (1): category\n",
      "\u001b[32mdbl\u001b[39m (5): year, height_average, height_standard deviation, body weight _avera...\n",
      "\n",
      "\u001b[36mℹ\u001b[39m Use `spec()` to retrieve the full column specification for this data.\n",
      "\u001b[36mℹ\u001b[39m Specify the column types or set `show_col_types = FALSE` to quiet this message.\n"
     ]
    },
    {
     "data": {
      "text/html": [
       "<table class=\"dataframe\">\n",
       "<caption>A tibble: 6 × 6</caption>\n",
       "<thead>\n",
       "\t<tr><th scope=col>year</th><th scope=col>category</th><th scope=col>height_average</th><th scope=col>height_standard deviation</th><th scope=col>body weight _average</th><th scope=col>body weight _standard deviation</th></tr>\n",
       "\t<tr><th scope=col>&lt;dbl&gt;</th><th scope=col>&lt;chr&gt;</th><th scope=col>&lt;dbl&gt;</th><th scope=col>&lt;dbl&gt;</th><th scope=col>&lt;dbl&gt;</th><th scope=col>&lt;dbl&gt;</th></tr>\n",
       "</thead>\n",
       "<tbody>\n",
       "\t<tr><td>5</td><td>national</td><td>111.0</td><td>4.87</td><td>19.3</td><td>2.79</td></tr>\n",
       "\t<tr><td>5</td><td>Hokkaido</td><td>111.3</td><td>4.81</td><td>19.3</td><td>2.83</td></tr>\n",
       "\t<tr><td>5</td><td>Aomori  </td><td>111.8</td><td>4.87</td><td>19.9</td><td>2.78</td></tr>\n",
       "\t<tr><td>5</td><td>Iwate   </td><td>111.0</td><td>5.08</td><td>19.6</td><td>3.02</td></tr>\n",
       "\t<tr><td>5</td><td>Miyagi  </td><td>111.3</td><td>4.90</td><td>19.7</td><td>3.04</td></tr>\n",
       "\t<tr><td>5</td><td>Akita   </td><td>112.3</td><td>5.08</td><td>19.9</td><td>3.16</td></tr>\n",
       "</tbody>\n",
       "</table>\n"
      ],
      "text/latex": [
       "A tibble: 6 × 6\n",
       "\\begin{tabular}{llllll}\n",
       " year & category & height\\_average & height\\_standard deviation & body weight \\_average & body weight \\_standard deviation\\\\\n",
       " <dbl> & <chr> & <dbl> & <dbl> & <dbl> & <dbl>\\\\\n",
       "\\hline\n",
       "\t 5 & national & 111.0 & 4.87 & 19.3 & 2.79\\\\\n",
       "\t 5 & Hokkaido & 111.3 & 4.81 & 19.3 & 2.83\\\\\n",
       "\t 5 & Aomori   & 111.8 & 4.87 & 19.9 & 2.78\\\\\n",
       "\t 5 & Iwate    & 111.0 & 5.08 & 19.6 & 3.02\\\\\n",
       "\t 5 & Miyagi   & 111.3 & 4.90 & 19.7 & 3.04\\\\\n",
       "\t 5 & Akita    & 112.3 & 5.08 & 19.9 & 3.16\\\\\n",
       "\\end{tabular}\n"
      ],
      "text/markdown": [
       "\n",
       "A tibble: 6 × 6\n",
       "\n",
       "| year &lt;dbl&gt; | category &lt;chr&gt; | height_average &lt;dbl&gt; | height_standard deviation &lt;dbl&gt; | body weight _average &lt;dbl&gt; | body weight _standard deviation &lt;dbl&gt; |\n",
       "|---|---|---|---|---|---|\n",
       "| 5 | national | 111.0 | 4.87 | 19.3 | 2.79 |\n",
       "| 5 | Hokkaido | 111.3 | 4.81 | 19.3 | 2.83 |\n",
       "| 5 | Aomori   | 111.8 | 4.87 | 19.9 | 2.78 |\n",
       "| 5 | Iwate    | 111.0 | 5.08 | 19.6 | 3.02 |\n",
       "| 5 | Miyagi   | 111.3 | 4.90 | 19.7 | 3.04 |\n",
       "| 5 | Akita    | 112.3 | 5.08 | 19.9 | 3.16 |\n",
       "\n"
      ],
      "text/plain": [
       "  year category height_average height_standard deviation body weight _average\n",
       "1 5    national 111.0          4.87                      19.3                \n",
       "2 5    Hokkaido 111.3          4.81                      19.3                \n",
       "3 5    Aomori   111.8          4.87                      19.9                \n",
       "4 5    Iwate    111.0          5.08                      19.6                \n",
       "5 5    Miyagi   111.3          4.90                      19.7                \n",
       "6 5    Akita    112.3          5.08                      19.9                \n",
       "  body weight _standard deviation\n",
       "1 2.79                           \n",
       "2 2.83                           \n",
       "3 2.78                           \n",
       "4 3.02                           \n",
       "5 3.04                           \n",
       "6 3.16                           "
      ]
     },
     "metadata": {},
     "output_type": "display_data"
    }
   ],
   "source": [
    "man_data <- read_csv(\"man.csv\")\n",
    "head(man_data)"
   ]
  },
  {
   "cell_type": "markdown",
   "id": "b10512ed-62f1-4d6b-b61b-ce5840c49ebc",
   "metadata": {
    "tags": []
   },
   "source": [
    "### 2. Data wrangling and cleaning \n",
    "1. clean the column names using `clean_names` to make column name only contain lower case letters and underscores.\n",
    "2. remove the unused columns (variables): `category`, `height_standard_deviation`, `body_weight _standard_deviation`.\n",
    "3. change the column (variable) `year` to `age`.\n",
    "\n",
    "The above steps have made sure the clean_man_data is currently in a tidy format. "
   ]
  },
  {
   "cell_type": "code",
   "execution_count": 5,
   "id": "fce0dca1-4620-43f7-9536-d342fd65035c",
   "metadata": {
    "tags": []
   },
   "outputs": [
    {
     "data": {
      "text/html": [
       "<table class=\"dataframe\">\n",
       "<caption>A tibble: 6 × 3</caption>\n",
       "<thead>\n",
       "\t<tr><th scope=col>age</th><th scope=col>height_average</th><th scope=col>body_weight_average</th></tr>\n",
       "\t<tr><th scope=col>&lt;dbl&gt;</th><th scope=col>&lt;dbl&gt;</th><th scope=col>&lt;dbl&gt;</th></tr>\n",
       "</thead>\n",
       "<tbody>\n",
       "\t<tr><td>5</td><td>111.0</td><td>19.3</td></tr>\n",
       "\t<tr><td>5</td><td>111.3</td><td>19.3</td></tr>\n",
       "\t<tr><td>5</td><td>111.8</td><td>19.9</td></tr>\n",
       "\t<tr><td>5</td><td>111.0</td><td>19.6</td></tr>\n",
       "\t<tr><td>5</td><td>111.3</td><td>19.7</td></tr>\n",
       "\t<tr><td>5</td><td>112.3</td><td>19.9</td></tr>\n",
       "</tbody>\n",
       "</table>\n"
      ],
      "text/latex": [
       "A tibble: 6 × 3\n",
       "\\begin{tabular}{lll}\n",
       " age & height\\_average & body\\_weight\\_average\\\\\n",
       " <dbl> & <dbl> & <dbl>\\\\\n",
       "\\hline\n",
       "\t 5 & 111.0 & 19.3\\\\\n",
       "\t 5 & 111.3 & 19.3\\\\\n",
       "\t 5 & 111.8 & 19.9\\\\\n",
       "\t 5 & 111.0 & 19.6\\\\\n",
       "\t 5 & 111.3 & 19.7\\\\\n",
       "\t 5 & 112.3 & 19.9\\\\\n",
       "\\end{tabular}\n"
      ],
      "text/markdown": [
       "\n",
       "A tibble: 6 × 3\n",
       "\n",
       "| age &lt;dbl&gt; | height_average &lt;dbl&gt; | body_weight_average &lt;dbl&gt; |\n",
       "|---|---|---|\n",
       "| 5 | 111.0 | 19.3 |\n",
       "| 5 | 111.3 | 19.3 |\n",
       "| 5 | 111.8 | 19.9 |\n",
       "| 5 | 111.0 | 19.6 |\n",
       "| 5 | 111.3 | 19.7 |\n",
       "| 5 | 112.3 | 19.9 |\n",
       "\n"
      ],
      "text/plain": [
       "  age height_average body_weight_average\n",
       "1 5   111.0          19.3               \n",
       "2 5   111.3          19.3               \n",
       "3 5   111.8          19.9               \n",
       "4 5   111.0          19.6               \n",
       "5 5   111.3          19.7               \n",
       "6 5   112.3          19.9               "
      ]
     },
     "metadata": {},
     "output_type": "display_data"
    }
   ],
   "source": [
    "clean_man_data <- man_data |>\n",
    "        clean_names() |>\n",
    "        select(-category, -height_standard_deviation, -body_weight_standard_deviation) |>\n",
    "        rename(\"age\" = \"year\")\n",
    "head(clean_man_data)"
   ]
  },
  {
   "cell_type": "markdown",
   "id": "40ae05ab-7dac-4fae-86ce-f6fd384fdab8",
   "metadata": {},
   "source": [
    "#### 3. Initial split of our data set `clean_man_data` (to training and testing data) "
   ]
  },
  {
   "cell_type": "code",
   "execution_count": 12,
   "id": "3cbf306a-ee7c-4852-96e8-2771051f6561",
   "metadata": {
    "tags": []
   },
   "outputs": [],
   "source": [
    "man_split <- initial_split(clean_man_data, prop = 0.75, starta = age)\n",
    "man_train <- training(man_split)\n",
    "man_test <- testing(man_split)"
   ]
  },
  {
   "cell_type": "markdown",
   "id": "bb792068-dbbd-455a-9656-6132da39cb15",
   "metadata": {
    "tags": []
   },
   "source": [
    "### 4. Preliminary summary statistics of the training data "
   ]
  },
  {
   "cell_type": "code",
   "execution_count": 50,
   "id": "035d8548-4aa2-484d-9b51-5d9a8295abed",
   "metadata": {
    "tags": []
   },
   "outputs": [],
   "source": [
    "number_obersvation_by_age  <- man_train |>\n",
    "                    group_by(age) |>\n",
    "                    summarize(count = n()) \n",
    "\n",
    "summary_predictors <- man_train |>\n",
    "                pivot_longer(cols = height_average:body_weight_average,\n",
    "                            names_to = \"predictors\", \n",
    "                            values_to = \"value\") |>\n",
    "                group_by(predictors) |>\n",
    "                summarize(mean = mean(value, na.rm = TRUE), \n",
    "                          SD = sd(value, na.rm = TRUE))\n",
    "missing_rows <- man_train |>\n",
    "                    filter(complete.cases(man_train) == FALSE) |>\n",
    "                    nrow() "
   ]
  },
  {
   "cell_type": "code",
   "execution_count": null,
   "id": "50c9bf5d-e54c-4d6b-a189-2b5e084915e4",
   "metadata": {
    "tags": []
   },
   "outputs": [],
   "source": []
  },
  {
   "cell_type": "markdown",
   "id": "5ce56f07-c706-41ac-bf18-d830130e983f",
   "metadata": {},
   "source": [
    "# Methods"
   ]
  },
  {
   "cell_type": "markdown",
   "id": "5be72a9c-bb8a-430c-829d-f0a4385947fb",
   "metadata": {},
   "source": [
    "To conduct our analysis, we will read and clean our data, select the weight and height columns for prediction, perform cross-validation, and perform some form of regression to predict age. We will then visualize our results, likely using a scatterplot with a regression line superimposed."
   ]
  },
  {
   "cell_type": "markdown",
   "id": "86d1e0f3-1e81-4bf6-a57d-2f12e1e55a95",
   "metadata": {},
   "source": [
    "# Expected Outcomes and Significance"
   ]
  },
  {
   "cell_type": "markdown",
   "id": "6299424a-1a34-4347-895a-f6f01cac90a1",
   "metadata": {},
   "source": [
    "By using the height and weight given for a Japanese boy, we can predict the child's age within the given range.\n",
    "\n",
    "These findings could allow:\n",
    "- Pediatric Healthcare providers to assess a (Japanese male) child's development and compare it to the average growth patterns as seen in this data set.\n",
    "- Nutrition and dietary plans for this demographic. If a certain height to weight ratio in other countries produces an average age that differs from this data set.\n",
    "- Physical Education programs to be tailored to the growth development \n",
    "\n",
    "For future questions, would this prediction set be similar for Japanese girls? Could it accurately predict their ages?  Maybe the prepubescent ages might have similar data?\n"
   ]
  }
 ],
 "metadata": {
  "kernelspec": {
   "display_name": "R",
   "language": "R",
   "name": "ir"
  },
  "language_info": {
   "codemirror_mode": "r",
   "file_extension": ".r",
   "mimetype": "text/x-r-source",
   "name": "R",
   "pygments_lexer": "r",
   "version": "4.2.2"
  }
 },
 "nbformat": 4,
 "nbformat_minor": 5
}
