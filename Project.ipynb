{
 "cells": [
  {
   "cell_type": "code",
   "execution_count": 1,
   "id": "481aded2-85a2-4d35-9099-36382fed6bb5",
   "metadata": {
    "tags": []
   },
   "outputs": [
    {
     "ename": "ERROR",
     "evalue": "Error in parse(text = x, srcfile = src): <text>:1:5: unexpected symbol\n1: New Notebook\n        ^\n",
     "output_type": "error",
     "traceback": [
      "Error in parse(text = x, srcfile = src): <text>:1:5: unexpected symbol\n1: New Notebook\n        ^\nTraceback:\n"
     ]
    }
   ],
   "source": [
    "New Notebook"
   ]
  },
  {
   "cell_type": "markdown",
   "id": "8baf7146-9deb-49f7-b6cc-e5c9c37e71e2",
   "metadata": {},
   "source": [
    "# Height and Weight of Japanese Male (Title)"
   ]
  },
  {
   "cell_type": "markdown",
   "id": "ea449a19-a983-4a27-8e66-ad777c46d713",
   "metadata": {},
   "source": [
    "# Introduction"
   ]
  },
  {
   "cell_type": "markdown",
   "id": "9f73c2d7-f98b-4094-ab62-699f847a6cb5",
   "metadata": {},
   "source": [
    "# Preliminary Exploratory Analysis"
   ]
  },
  {
   "cell_type": "markdown",
   "id": "5ce56f07-c706-41ac-bf18-d830130e983f",
   "metadata": {},
   "source": [
    "# Methods"
   ]
  },
  {
   "cell_type": "markdown",
   "id": "86d1e0f3-1e81-4bf6-a57d-2f12e1e55a95",
   "metadata": {},
   "source": [
    "# Expected Outcomes and Significance"
   ]
  },
  {
   "cell_type": "markdown",
   "id": "6299424a-1a34-4347-895a-f6f01cac90a1",
   "metadata": {},
   "source": []
  }
 ],
 "metadata": {
  "kernelspec": {
   "display_name": "R",
   "language": "R",
   "name": "ir"
  },
  "language_info": {
   "codemirror_mode": "r",
   "file_extension": ".r",
   "mimetype": "text/x-r-source",
   "name": "R",
   "pygments_lexer": "r",
   "version": "4.2.2"
  }
 },
 "nbformat": 4,
 "nbformat_minor": 5
}
