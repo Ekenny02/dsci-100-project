{
 "cells": [
  {
   "cell_type": "markdown",
   "id": "8baf7146-9deb-49f7-b6cc-e5c9c37e71e2",
   "metadata": {},
   "source": [
    "# Height and Weight of Boys Ages 5-17 Across Japan"
   ]
  },
  {
   "cell_type": "markdown",
   "id": "ea449a19-a983-4a27-8e66-ad777c46d713",
   "metadata": {},
   "source": [
    "# Introduction"
   ]
  },
  {
   "cell_type": "markdown",
   "id": "ebc2483b-0520-46fb-8366-04bd48e70f63",
   "metadata": {},
   "source": [
    "Every year across Japan, measurement sessions are required by the government to be held at elementary schools in every region from ages 5-17, measuring each child's height and weight. **Using this data, we will be predicting the age of the child based on given height and weight in boys. We will be splitting the dataset into a training and testing set to test the accuracy of the model of predicting the age from the testing data’s height and weight of boys 5-17 in Japan.** "
   ]
  },
  {
   "cell_type": "markdown",
   "id": "9f73c2d7-f98b-4094-ab62-699f847a6cb5",
   "metadata": {
    "tags": []
   },
   "source": [
    "# Preliminary Exploratory Data Analysis"
   ]
  },
  {
   "cell_type": "code",
   "execution_count": 2,
   "id": "eaa24ef4-ec08-4e2f-bc6d-2efa1f808e36",
   "metadata": {
    "tags": []
   },
   "outputs": [
    {
     "name": "stderr",
     "output_type": "stream",
     "text": [
      "Updating HTML index of packages in '.Library'\n",
      "\n",
      "Making 'packages.html' ...\n",
      " done\n",
      "\n",
      "Updating HTML index of packages in '.Library'\n",
      "\n",
      "Making 'packages.html' ...\n",
      " done\n",
      "\n",
      "── \u001b[1mAttaching packages\u001b[22m ─────────────────────────────────────── tidyverse 1.3.2 ──\n",
      "\u001b[32m✔\u001b[39m \u001b[34mggplot2\u001b[39m 3.4.2     \u001b[32m✔\u001b[39m \u001b[34mpurrr  \u001b[39m 1.0.1\n",
      "\u001b[32m✔\u001b[39m \u001b[34mtibble \u001b[39m 3.2.1     \u001b[32m✔\u001b[39m \u001b[34mdplyr  \u001b[39m 1.1.1\n",
      "\u001b[32m✔\u001b[39m \u001b[34mtidyr  \u001b[39m 1.3.0     \u001b[32m✔\u001b[39m \u001b[34mstringr\u001b[39m 1.5.0\n",
      "\u001b[32m✔\u001b[39m \u001b[34mreadr  \u001b[39m 2.1.3     \u001b[32m✔\u001b[39m \u001b[34mforcats\u001b[39m 0.5.2\n",
      "── \u001b[1mConflicts\u001b[22m ────────────────────────────────────────── tidyverse_conflicts() ──\n",
      "\u001b[31m✖\u001b[39m \u001b[34mdplyr\u001b[39m::\u001b[32mfilter()\u001b[39m masks \u001b[34mstats\u001b[39m::filter()\n",
      "\u001b[31m✖\u001b[39m \u001b[34mdplyr\u001b[39m::\u001b[32mlag()\u001b[39m    masks \u001b[34mstats\u001b[39m::lag()\n",
      "\n",
      "Attaching package: ‘janitor’\n",
      "\n",
      "\n",
      "The following objects are masked from ‘package:stats’:\n",
      "\n",
      "    chisq.test, fisher.test\n",
      "\n",
      "\n",
      "── \u001b[1mAttaching packages\u001b[22m ────────────────────────────────────── tidymodels 1.0.0 ──\n",
      "\n",
      "\u001b[32m✔\u001b[39m \u001b[34mbroom       \u001b[39m 1.0.2     \u001b[32m✔\u001b[39m \u001b[34mrsample     \u001b[39m 1.1.1\n",
      "\u001b[32m✔\u001b[39m \u001b[34mdials       \u001b[39m 1.1.0     \u001b[32m✔\u001b[39m \u001b[34mtune        \u001b[39m 1.0.1\n",
      "\u001b[32m✔\u001b[39m \u001b[34minfer       \u001b[39m 1.0.4     \u001b[32m✔\u001b[39m \u001b[34mworkflows   \u001b[39m 1.1.2\n",
      "\u001b[32m✔\u001b[39m \u001b[34mmodeldata   \u001b[39m 1.0.1     \u001b[32m✔\u001b[39m \u001b[34mworkflowsets\u001b[39m 1.0.0\n",
      "\u001b[32m✔\u001b[39m \u001b[34mparsnip     \u001b[39m 1.0.3     \u001b[32m✔\u001b[39m \u001b[34myardstick   \u001b[39m 1.1.0\n",
      "\u001b[32m✔\u001b[39m \u001b[34mrecipes     \u001b[39m 1.0.4     \n",
      "\n",
      "── \u001b[1mConflicts\u001b[22m ───────────────────────────────────────── tidymodels_conflicts() ──\n",
      "\u001b[31m✖\u001b[39m \u001b[34mscales\u001b[39m::\u001b[32mdiscard()\u001b[39m masks \u001b[34mpurrr\u001b[39m::discard()\n",
      "\u001b[31m✖\u001b[39m \u001b[34mdplyr\u001b[39m::\u001b[32mfilter()\u001b[39m   masks \u001b[34mstats\u001b[39m::filter()\n",
      "\u001b[31m✖\u001b[39m \u001b[34mrecipes\u001b[39m::\u001b[32mfixed()\u001b[39m  masks \u001b[34mstringr\u001b[39m::fixed()\n",
      "\u001b[31m✖\u001b[39m \u001b[34mdplyr\u001b[39m::\u001b[32mlag()\u001b[39m      masks \u001b[34mstats\u001b[39m::lag()\n",
      "\u001b[31m✖\u001b[39m \u001b[34myardstick\u001b[39m::\u001b[32mspec()\u001b[39m masks \u001b[34mreadr\u001b[39m::spec()\n",
      "\u001b[31m✖\u001b[39m \u001b[34mrecipes\u001b[39m::\u001b[32mstep()\u001b[39m   masks \u001b[34mstats\u001b[39m::step()\n",
      "\u001b[34m•\u001b[39m Use \u001b[32mtidymodels_prefer()\u001b[39m to resolve common conflicts.\n",
      "\n"
     ]
    }
   ],
   "source": [
    "install.packages(\"janitor\")\n",
    "install.packages(\"cowplot\")\n",
    "library(tidyverse)\n",
    "library(janitor)\n",
    "library(repr)\n",
    "library(tidymodels)\n",
    "library(cowplot)"
   ]
  },
  {
   "cell_type": "markdown",
   "id": "f8e7fdb2-be36-45c2-bdeb-60314d325c78",
   "metadata": {},
   "source": [
    "#### 1. Demonstration that the data set `man.csv` can be read into R "
   ]
  },
  {
   "cell_type": "code",
   "execution_count": 10,
   "id": "d1785d3a-d489-4a5f-a3a9-20e2ab7bf3bc",
   "metadata": {
    "tags": []
   },
   "outputs": [
    {
     "name": "stderr",
     "output_type": "stream",
     "text": [
      "\u001b[1mRows: \u001b[22m\u001b[34m624\u001b[39m \u001b[1mColumns: \u001b[22m\u001b[34m6\u001b[39m\n",
      "\u001b[36m──\u001b[39m \u001b[1mColumn specification\u001b[22m \u001b[36m────────────────────────────────────────────────────────\u001b[39m\n",
      "\u001b[1mDelimiter:\u001b[22m \",\"\n",
      "\u001b[31mchr\u001b[39m (1): category\n",
      "\u001b[32mdbl\u001b[39m (5): year, height_average, height_standard deviation, body weight _avera...\n",
      "\n",
      "\u001b[36mℹ\u001b[39m Use `spec()` to retrieve the full column specification for this data.\n",
      "\u001b[36mℹ\u001b[39m Specify the column types or set `show_col_types = FALSE` to quiet this message.\n"
     ]
    },
    {
     "data": {
      "text/html": [
       "<table class=\"dataframe\">\n",
       "<caption>A tibble: 6 × 6</caption>\n",
       "<thead>\n",
       "\t<tr><th scope=col>year</th><th scope=col>category</th><th scope=col>height_average</th><th scope=col>height_standard deviation</th><th scope=col>body weight _average</th><th scope=col>body weight _standard deviation</th></tr>\n",
       "\t<tr><th scope=col>&lt;dbl&gt;</th><th scope=col>&lt;chr&gt;</th><th scope=col>&lt;dbl&gt;</th><th scope=col>&lt;dbl&gt;</th><th scope=col>&lt;dbl&gt;</th><th scope=col>&lt;dbl&gt;</th></tr>\n",
       "</thead>\n",
       "<tbody>\n",
       "\t<tr><td>5</td><td>national</td><td>111.0</td><td>4.87</td><td>19.3</td><td>2.79</td></tr>\n",
       "\t<tr><td>5</td><td>Hokkaido</td><td>111.3</td><td>4.81</td><td>19.3</td><td>2.83</td></tr>\n",
       "\t<tr><td>5</td><td>Aomori  </td><td>111.8</td><td>4.87</td><td>19.9</td><td>2.78</td></tr>\n",
       "\t<tr><td>5</td><td>Iwate   </td><td>111.0</td><td>5.08</td><td>19.6</td><td>3.02</td></tr>\n",
       "\t<tr><td>5</td><td>Miyagi  </td><td>111.3</td><td>4.90</td><td>19.7</td><td>3.04</td></tr>\n",
       "\t<tr><td>5</td><td>Akita   </td><td>112.3</td><td>5.08</td><td>19.9</td><td>3.16</td></tr>\n",
       "</tbody>\n",
       "</table>\n"
      ],
      "text/latex": [
       "A tibble: 6 × 6\n",
       "\\begin{tabular}{llllll}\n",
       " year & category & height\\_average & height\\_standard deviation & body weight \\_average & body weight \\_standard deviation\\\\\n",
       " <dbl> & <chr> & <dbl> & <dbl> & <dbl> & <dbl>\\\\\n",
       "\\hline\n",
       "\t 5 & national & 111.0 & 4.87 & 19.3 & 2.79\\\\\n",
       "\t 5 & Hokkaido & 111.3 & 4.81 & 19.3 & 2.83\\\\\n",
       "\t 5 & Aomori   & 111.8 & 4.87 & 19.9 & 2.78\\\\\n",
       "\t 5 & Iwate    & 111.0 & 5.08 & 19.6 & 3.02\\\\\n",
       "\t 5 & Miyagi   & 111.3 & 4.90 & 19.7 & 3.04\\\\\n",
       "\t 5 & Akita    & 112.3 & 5.08 & 19.9 & 3.16\\\\\n",
       "\\end{tabular}\n"
      ],
      "text/markdown": [
       "\n",
       "A tibble: 6 × 6\n",
       "\n",
       "| year &lt;dbl&gt; | category &lt;chr&gt; | height_average &lt;dbl&gt; | height_standard deviation &lt;dbl&gt; | body weight _average &lt;dbl&gt; | body weight _standard deviation &lt;dbl&gt; |\n",
       "|---|---|---|---|---|---|\n",
       "| 5 | national | 111.0 | 4.87 | 19.3 | 2.79 |\n",
       "| 5 | Hokkaido | 111.3 | 4.81 | 19.3 | 2.83 |\n",
       "| 5 | Aomori   | 111.8 | 4.87 | 19.9 | 2.78 |\n",
       "| 5 | Iwate    | 111.0 | 5.08 | 19.6 | 3.02 |\n",
       "| 5 | Miyagi   | 111.3 | 4.90 | 19.7 | 3.04 |\n",
       "| 5 | Akita    | 112.3 | 5.08 | 19.9 | 3.16 |\n",
       "\n"
      ],
      "text/plain": [
       "  year category height_average height_standard deviation body weight _average\n",
       "1 5    national 111.0          4.87                      19.3                \n",
       "2 5    Hokkaido 111.3          4.81                      19.3                \n",
       "3 5    Aomori   111.8          4.87                      19.9                \n",
       "4 5    Iwate    111.0          5.08                      19.6                \n",
       "5 5    Miyagi   111.3          4.90                      19.7                \n",
       "6 5    Akita    112.3          5.08                      19.9                \n",
       "  body weight _standard deviation\n",
       "1 2.79                           \n",
       "2 2.83                           \n",
       "3 2.78                           \n",
       "4 3.02                           \n",
       "5 3.04                           \n",
       "6 3.16                           "
      ]
     },
     "metadata": {},
     "output_type": "display_data"
    }
   ],
   "source": [
    "# the following way of reading data is allowed according to Anthony's announcement.\n",
    "man_data <- read_csv(\"man.csv\")\n",
    "head(man_data)"
   ]
  },
  {
   "cell_type": "markdown",
   "id": "b10512ed-62f1-4d6b-b61b-ce5840c49ebc",
   "metadata": {
    "tags": []
   },
   "source": [
    "### 2. Data wrangling and cleaning \n",
    "1. We see that some of the column names contained space in between words, we will clean the column names using `clean_names` to make column name only contain lower case letters and underscores.\n",
    "2. In the `category` column, which represents the region of each observation, we found that there is one category/region called \"national\", which is the average of the values for all regions in the category/region column. We remove all the observations with \"national\" in the `category` column.\n",
    "3. remove the unused columns (variables): `category`, `height_standard_deviation`, `body_weight _standard_deviation`. \n",
    "4. change the column (variable) `year` to `age`.\n",
    "\n",
    "The above steps have made sure the `clean_man_data` is currently in a tidy format. "
   ]
  },
  {
   "cell_type": "code",
   "execution_count": 11,
   "id": "fce0dca1-4620-43f7-9536-d342fd65035c",
   "metadata": {
    "tags": []
   },
   "outputs": [
    {
     "data": {
      "text/html": [
       "<table class=\"dataframe\">\n",
       "<caption>A tibble: 6 × 3</caption>\n",
       "<thead>\n",
       "\t<tr><th scope=col>age</th><th scope=col>height_average</th><th scope=col>body_weight_average</th></tr>\n",
       "\t<tr><th scope=col>&lt;dbl&gt;</th><th scope=col>&lt;dbl&gt;</th><th scope=col>&lt;dbl&gt;</th></tr>\n",
       "</thead>\n",
       "<tbody>\n",
       "\t<tr><td>5</td><td>111.3</td><td>19.3</td></tr>\n",
       "\t<tr><td>5</td><td>111.8</td><td>19.9</td></tr>\n",
       "\t<tr><td>5</td><td>111.0</td><td>19.6</td></tr>\n",
       "\t<tr><td>5</td><td>111.3</td><td>19.7</td></tr>\n",
       "\t<tr><td>5</td><td>112.3</td><td>19.9</td></tr>\n",
       "\t<tr><td>5</td><td>111.5</td><td>19.5</td></tr>\n",
       "</tbody>\n",
       "</table>\n"
      ],
      "text/latex": [
       "A tibble: 6 × 3\n",
       "\\begin{tabular}{lll}\n",
       " age & height\\_average & body\\_weight\\_average\\\\\n",
       " <dbl> & <dbl> & <dbl>\\\\\n",
       "\\hline\n",
       "\t 5 & 111.3 & 19.3\\\\\n",
       "\t 5 & 111.8 & 19.9\\\\\n",
       "\t 5 & 111.0 & 19.6\\\\\n",
       "\t 5 & 111.3 & 19.7\\\\\n",
       "\t 5 & 112.3 & 19.9\\\\\n",
       "\t 5 & 111.5 & 19.5\\\\\n",
       "\\end{tabular}\n"
      ],
      "text/markdown": [
       "\n",
       "A tibble: 6 × 3\n",
       "\n",
       "| age &lt;dbl&gt; | height_average &lt;dbl&gt; | body_weight_average &lt;dbl&gt; |\n",
       "|---|---|---|\n",
       "| 5 | 111.3 | 19.3 |\n",
       "| 5 | 111.8 | 19.9 |\n",
       "| 5 | 111.0 | 19.6 |\n",
       "| 5 | 111.3 | 19.7 |\n",
       "| 5 | 112.3 | 19.9 |\n",
       "| 5 | 111.5 | 19.5 |\n",
       "\n"
      ],
      "text/plain": [
       "  age height_average body_weight_average\n",
       "1 5   111.3          19.3               \n",
       "2 5   111.8          19.9               \n",
       "3 5   111.0          19.6               \n",
       "4 5   111.3          19.7               \n",
       "5 5   112.3          19.9               \n",
       "6 5   111.5          19.5               "
      ]
     },
     "metadata": {},
     "output_type": "display_data"
    }
   ],
   "source": [
    "clean_man_data <- man_data |>\n",
    "        clean_names() |>\n",
    "        filter(category != \"national\") |>\n",
    "        select(-category, -height_standard_deviation, -body_weight_standard_deviation) |>\n",
    "        rename(\"age\" = \"year\")\n",
    "# take a look to make sure it looks good\n",
    "head(clean_man_data)"
   ]
  },
  {
   "cell_type": "markdown",
   "id": "40ae05ab-7dac-4fae-86ce-f6fd384fdab8",
   "metadata": {},
   "source": [
    "#### 3. Initial split of our data set `clean_man_data` (to training and testing data) "
   ]
  },
  {
   "cell_type": "code",
   "execution_count": 12,
   "id": "3cbf306a-ee7c-4852-96e8-2771051f6561",
   "metadata": {
    "tags": []
   },
   "outputs": [
    {
     "data": {
      "text/html": [
       "<table class=\"dataframe\">\n",
       "<caption>A tibble: 6 × 3</caption>\n",
       "<thead>\n",
       "\t<tr><th scope=col>age</th><th scope=col>height_average</th><th scope=col>body_weight_average</th></tr>\n",
       "\t<tr><th scope=col>&lt;dbl&gt;</th><th scope=col>&lt;dbl&gt;</th><th scope=col>&lt;dbl&gt;</th></tr>\n",
       "</thead>\n",
       "<tbody>\n",
       "\t<tr><td> 7</td><td>123.3</td><td>25.8</td></tr>\n",
       "\t<tr><td>10</td><td>138.8</td><td>34.8</td></tr>\n",
       "\t<tr><td> 9</td><td>133.6</td><td>32.0</td></tr>\n",
       "\t<tr><td>11</td><td>146.1</td><td>40.0</td></tr>\n",
       "\t<tr><td> 7</td><td>122.3</td><td>24.3</td></tr>\n",
       "\t<tr><td> 6</td><td>116.6</td><td>21.3</td></tr>\n",
       "</tbody>\n",
       "</table>\n"
      ],
      "text/latex": [
       "A tibble: 6 × 3\n",
       "\\begin{tabular}{lll}\n",
       " age & height\\_average & body\\_weight\\_average\\\\\n",
       " <dbl> & <dbl> & <dbl>\\\\\n",
       "\\hline\n",
       "\t  7 & 123.3 & 25.8\\\\\n",
       "\t 10 & 138.8 & 34.8\\\\\n",
       "\t  9 & 133.6 & 32.0\\\\\n",
       "\t 11 & 146.1 & 40.0\\\\\n",
       "\t  7 & 122.3 & 24.3\\\\\n",
       "\t  6 & 116.6 & 21.3\\\\\n",
       "\\end{tabular}\n"
      ],
      "text/markdown": [
       "\n",
       "A tibble: 6 × 3\n",
       "\n",
       "| age &lt;dbl&gt; | height_average &lt;dbl&gt; | body_weight_average &lt;dbl&gt; |\n",
       "|---|---|---|\n",
       "|  7 | 123.3 | 25.8 |\n",
       "| 10 | 138.8 | 34.8 |\n",
       "|  9 | 133.6 | 32.0 |\n",
       "| 11 | 146.1 | 40.0 |\n",
       "|  7 | 122.3 | 24.3 |\n",
       "|  6 | 116.6 | 21.3 |\n",
       "\n"
      ],
      "text/plain": [
       "  age height_average body_weight_average\n",
       "1  7  123.3          25.8               \n",
       "2 10  138.8          34.8               \n",
       "3  9  133.6          32.0               \n",
       "4 11  146.1          40.0               \n",
       "5  7  122.3          24.3               \n",
       "6  6  116.6          21.3               "
      ]
     },
     "metadata": {},
     "output_type": "display_data"
    },
    {
     "data": {
      "text/html": [
       "<table class=\"dataframe\">\n",
       "<caption>A tibble: 6 × 3</caption>\n",
       "<thead>\n",
       "\t<tr><th scope=col>age</th><th scope=col>height_average</th><th scope=col>body_weight_average</th></tr>\n",
       "\t<tr><th scope=col>&lt;dbl&gt;</th><th scope=col>&lt;dbl&gt;</th><th scope=col>&lt;dbl&gt;</th></tr>\n",
       "</thead>\n",
       "<tbody>\n",
       "\t<tr><td>5</td><td>111.3</td><td>19.7</td></tr>\n",
       "\t<tr><td>5</td><td>111.3</td><td>19.6</td></tr>\n",
       "\t<tr><td>5</td><td>111.2</td><td>19.2</td></tr>\n",
       "\t<tr><td>5</td><td>111.4</td><td>19.3</td></tr>\n",
       "\t<tr><td>5</td><td>111.7</td><td>19.4</td></tr>\n",
       "\t<tr><td>5</td><td>110.8</td><td>19.3</td></tr>\n",
       "</tbody>\n",
       "</table>\n"
      ],
      "text/latex": [
       "A tibble: 6 × 3\n",
       "\\begin{tabular}{lll}\n",
       " age & height\\_average & body\\_weight\\_average\\\\\n",
       " <dbl> & <dbl> & <dbl>\\\\\n",
       "\\hline\n",
       "\t 5 & 111.3 & 19.7\\\\\n",
       "\t 5 & 111.3 & 19.6\\\\\n",
       "\t 5 & 111.2 & 19.2\\\\\n",
       "\t 5 & 111.4 & 19.3\\\\\n",
       "\t 5 & 111.7 & 19.4\\\\\n",
       "\t 5 & 110.8 & 19.3\\\\\n",
       "\\end{tabular}\n"
      ],
      "text/markdown": [
       "\n",
       "A tibble: 6 × 3\n",
       "\n",
       "| age &lt;dbl&gt; | height_average &lt;dbl&gt; | body_weight_average &lt;dbl&gt; |\n",
       "|---|---|---|\n",
       "| 5 | 111.3 | 19.7 |\n",
       "| 5 | 111.3 | 19.6 |\n",
       "| 5 | 111.2 | 19.2 |\n",
       "| 5 | 111.4 | 19.3 |\n",
       "| 5 | 111.7 | 19.4 |\n",
       "| 5 | 110.8 | 19.3 |\n",
       "\n"
      ],
      "text/plain": [
       "  age height_average body_weight_average\n",
       "1 5   111.3          19.7               \n",
       "2 5   111.3          19.6               \n",
       "3 5   111.2          19.2               \n",
       "4 5   111.4          19.3               \n",
       "5 5   111.7          19.4               \n",
       "6 5   110.8          19.3               "
      ]
     },
     "metadata": {},
     "output_type": "display_data"
    }
   ],
   "source": [
    "set.seed(9999) # set.seed to make sure it is reproducible \n",
    "\n",
    "man_split <- initial_split(clean_man_data, prop = 0.75, starta = age)\n",
    "man_train <- training(man_split)\n",
    "man_test <- testing(man_split)\n",
    "\n",
    "# take a look to make sure it looks good \n",
    "head(man_train)\n",
    "head(man_test)"
   ]
  },
  {
   "cell_type": "markdown",
   "id": "bb792068-dbbd-455a-9656-6132da39cb15",
   "metadata": {
    "tags": []
   },
   "source": [
    "### 4. Preliminary summary tables of the training data \n",
    "1. We want to know the number of observations (rows) for each age from 5-17 in training set by creating the dataframe `number_observation_by_age`.\n",
    "2. We want to get a summary of the predictors (weight and height). We create a dataframe that contains the means and standard deviations for the predictor variables called `summary_predictors`.\n",
    "3. We want to know if there is any observation that contains missing values using `complete.cases`. We calculate the number of rows containing missing values `missing_rows` and found that there is **no missing value** in our training set."
   ]
  },
  {
   "cell_type": "code",
   "execution_count": 13,
   "id": "035d8548-4aa2-484d-9b51-5d9a8295abed",
   "metadata": {
    "tags": []
   },
   "outputs": [],
   "source": [
    "number_obersvation_by_age  <- man_train |>\n",
    "                    group_by(age) |>\n",
    "                    summarize(count = n()) \n",
    "\n",
    "summary_predictors <- man_train |>\n",
    "                pivot_longer(cols = height_average:body_weight_average,\n",
    "                            names_to = \"predictors\", \n",
    "                            values_to = \"value\") |>\n",
    "                group_by(predictors) |>\n",
    "                summarize(mean = mean(value, na.rm = TRUE), \n",
    "                          SD = sd(value, na.rm = TRUE))\n",
    "missing_rows <- man_train |>\n",
    "                    filter(complete.cases(man_train) == FALSE) |>\n",
    "                    nrow() "
   ]
  },
  {
   "cell_type": "code",
   "execution_count": 14,
   "id": "50c9bf5d-e54c-4d6b-a189-2b5e084915e4",
   "metadata": {
    "tags": []
   },
   "outputs": [
    {
     "data": {
      "text/html": [
       "<table class=\"dataframe\">\n",
       "<caption>A tibble: 13 × 2</caption>\n",
       "<thead>\n",
       "\t<tr><th scope=col>age</th><th scope=col>count</th></tr>\n",
       "\t<tr><th scope=col>&lt;dbl&gt;</th><th scope=col>&lt;int&gt;</th></tr>\n",
       "</thead>\n",
       "<tbody>\n",
       "\t<tr><td> 5</td><td>35</td></tr>\n",
       "\t<tr><td> 6</td><td>36</td></tr>\n",
       "\t<tr><td> 7</td><td>38</td></tr>\n",
       "\t<tr><td> 8</td><td>34</td></tr>\n",
       "\t<tr><td> 9</td><td>38</td></tr>\n",
       "\t<tr><td>10</td><td>34</td></tr>\n",
       "\t<tr><td>11</td><td>34</td></tr>\n",
       "\t<tr><td>12</td><td>38</td></tr>\n",
       "\t<tr><td>13</td><td>37</td></tr>\n",
       "\t<tr><td>14</td><td>34</td></tr>\n",
       "\t<tr><td>15</td><td>30</td></tr>\n",
       "\t<tr><td>16</td><td>38</td></tr>\n",
       "\t<tr><td>17</td><td>32</td></tr>\n",
       "</tbody>\n",
       "</table>\n"
      ],
      "text/latex": [
       "A tibble: 13 × 2\n",
       "\\begin{tabular}{ll}\n",
       " age & count\\\\\n",
       " <dbl> & <int>\\\\\n",
       "\\hline\n",
       "\t  5 & 35\\\\\n",
       "\t  6 & 36\\\\\n",
       "\t  7 & 38\\\\\n",
       "\t  8 & 34\\\\\n",
       "\t  9 & 38\\\\\n",
       "\t 10 & 34\\\\\n",
       "\t 11 & 34\\\\\n",
       "\t 12 & 38\\\\\n",
       "\t 13 & 37\\\\\n",
       "\t 14 & 34\\\\\n",
       "\t 15 & 30\\\\\n",
       "\t 16 & 38\\\\\n",
       "\t 17 & 32\\\\\n",
       "\\end{tabular}\n"
      ],
      "text/markdown": [
       "\n",
       "A tibble: 13 × 2\n",
       "\n",
       "| age &lt;dbl&gt; | count &lt;int&gt; |\n",
       "|---|---|\n",
       "|  5 | 35 |\n",
       "|  6 | 36 |\n",
       "|  7 | 38 |\n",
       "|  8 | 34 |\n",
       "|  9 | 38 |\n",
       "| 10 | 34 |\n",
       "| 11 | 34 |\n",
       "| 12 | 38 |\n",
       "| 13 | 37 |\n",
       "| 14 | 34 |\n",
       "| 15 | 30 |\n",
       "| 16 | 38 |\n",
       "| 17 | 32 |\n",
       "\n"
      ],
      "text/plain": [
       "   age count\n",
       "1   5  35   \n",
       "2   6  36   \n",
       "3   7  38   \n",
       "4   8  34   \n",
       "5   9  38   \n",
       "6  10  34   \n",
       "7  11  34   \n",
       "8  12  38   \n",
       "9  13  37   \n",
       "10 14  34   \n",
       "11 15  30   \n",
       "12 16  38   \n",
       "13 17  32   "
      ]
     },
     "metadata": {},
     "output_type": "display_data"
    },
    {
     "data": {
      "text/html": [
       "<table class=\"dataframe\">\n",
       "<caption>A tibble: 2 × 3</caption>\n",
       "<thead>\n",
       "\t<tr><th scope=col>predictors</th><th scope=col>mean</th><th scope=col>SD</th></tr>\n",
       "\t<tr><th scope=col>&lt;chr&gt;</th><th scope=col>&lt;dbl&gt;</th><th scope=col>&lt;dbl&gt;</th></tr>\n",
       "</thead>\n",
       "<tbody>\n",
       "\t<tr><td>body_weight_average</td><td> 40.6238</td><td>14.89841</td></tr>\n",
       "\t<tr><td>height_average     </td><td>144.6352</td><td>20.42834</td></tr>\n",
       "</tbody>\n",
       "</table>\n"
      ],
      "text/latex": [
       "A tibble: 2 × 3\n",
       "\\begin{tabular}{lll}\n",
       " predictors & mean & SD\\\\\n",
       " <chr> & <dbl> & <dbl>\\\\\n",
       "\\hline\n",
       "\t body\\_weight\\_average &  40.6238 & 14.89841\\\\\n",
       "\t height\\_average      & 144.6352 & 20.42834\\\\\n",
       "\\end{tabular}\n"
      ],
      "text/markdown": [
       "\n",
       "A tibble: 2 × 3\n",
       "\n",
       "| predictors &lt;chr&gt; | mean &lt;dbl&gt; | SD &lt;dbl&gt; |\n",
       "|---|---|---|\n",
       "| body_weight_average |  40.6238 | 14.89841 |\n",
       "| height_average      | 144.6352 | 20.42834 |\n",
       "\n"
      ],
      "text/plain": [
       "  predictors          mean     SD      \n",
       "1 body_weight_average  40.6238 14.89841\n",
       "2 height_average      144.6352 20.42834"
      ]
     },
     "metadata": {},
     "output_type": "display_data"
    },
    {
     "data": {
      "text/html": [
       "0"
      ],
      "text/latex": [
       "0"
      ],
      "text/markdown": [
       "0"
      ],
      "text/plain": [
       "[1] 0"
      ]
     },
     "metadata": {},
     "output_type": "display_data"
    }
   ],
   "source": [
    "number_obersvation_by_age\n",
    "summary_predictors\n",
    "missing_rows # here the missing_rows is 0 "
   ]
  },
  {
   "cell_type": "markdown",
   "id": "61163ab7-4b35-47d5-ad11-c0e2ea839190",
   "metadata": {},
   "source": [
    "### 5. Preliminary visualization of the training data \n",
    "1. We would like to visualize the distribution of the two predictors to get more information instead of the means and standard deviations from tables above. We create two histograms `height_plot` and `body_weight_plot` side by side to get more information about each predictor compare the shapes of them.  \n",
    "2. Similar to the predictors, we would also like to confirm the distribution of the response variable `age` to double check the number of observation for each age is comparable. We create the histogram of `age`."
   ]
  },
  {
   "cell_type": "code",
   "execution_count": null,
   "id": "b8570462-82e0-4970-a8f8-27bf7308fb77",
   "metadata": {
    "tags": []
   },
   "outputs": [],
   "source": [
    "options(repr.plot.width = 10, repr.plot.height = 8)\n",
    "# histograms for predictor variables. \n",
    "height_plot <- man_train |>\n",
    "        ggplot(aes(x = height_average)) + \n",
    "            geom_histogram() + \n",
    "            labs(x = \"Average Height (cm)\", y = \"Count\") + \n",
    "            ggtitle(\"Height distribution\") + \n",
    "            theme(text = element_text(size = 12))\n",
    "\n",
    "\n",
    "body_weight_plot <- man_train |>\n",
    "        ggplot(aes(x = body_weight_average)) + \n",
    "            geom_histogram() + \n",
    "            labs(x = \"Body weight (kg)\", y = \"Count\") + \n",
    "            ggtitle(\"Body weight distribution\") + \n",
    "            theme(text = element_text(size = 12))\n",
    "\n",
    "training_plot <- plot_grid(height_plot, body_weight_plot, nrow = 1)\n",
    "training_plot\n",
    "\n",
    "# histogram for response variable \n",
    "height_plot <- man_train |>\n",
    "        ggplot(aes(x = age)) + \n",
    "            geom_histogram() + \n",
    "            labs(x = \"Age (years)\", y = \"Count\") + \n",
    "            ggtitle(\"Age distribution\") + \n",
    "            theme(text = element_text(size = 12))"
   ]
  },
  {
   "cell_type": "markdown",
   "id": "5ce56f07-c706-41ac-bf18-d830130e983f",
   "metadata": {},
   "source": [
    "# Methods"
   ]
  },
  {
   "cell_type": "markdown",
   "id": "5be72a9c-bb8a-430c-829d-f0a4385947fb",
   "metadata": {},
   "source": [
    "To conduct our analysis, we will read and clean our data, select the weight and height columns for prediction, perform cross-validation, and perform some form of regression to predict age. We will then visualize our results, likely using a scatterplot with a regression line superimposed."
   ]
  },
  {
   "cell_type": "markdown",
   "id": "86d1e0f3-1e81-4bf6-a57d-2f12e1e55a95",
   "metadata": {},
   "source": [
    "# Expected Outcomes and Significance"
   ]
  },
  {
   "cell_type": "markdown",
   "id": "6299424a-1a34-4347-895a-f6f01cac90a1",
   "metadata": {},
   "source": [
    "By using the height and weight given for a Japanese boy, we can predict the child's age within the given range.\n",
    "\n",
    "These findings could allow:\n",
    "- Pediatric Healthcare providers to assess a (Japanese male) child's development and compare it to the average growth patterns as seen in this data set.\n",
    "- Nutrition and dietary plans for this demographic. If a certain height to weight ratio in other countries produces an average age that differs from this data set.\n",
    "- Physical Education programs to be tailored to the growth development \n",
    "\n",
    "For future questions, would this prediction set be similar for Japanese girls? Could it accurately predict their ages?  Maybe the prepubescent ages might have similar data?\n"
   ]
  }
 ],
 "metadata": {
  "kernelspec": {
   "display_name": "R",
   "language": "R",
   "name": "ir"
  },
  "language_info": {
   "codemirror_mode": "r",
   "file_extension": ".r",
   "mimetype": "text/x-r-source",
   "name": "R",
   "pygments_lexer": "r",
   "version": "4.2.2"
  }
 },
 "nbformat": 4,
 "nbformat_minor": 5
}
