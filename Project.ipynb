{
 "cells": [
  {
   "cell_type": "code",
   "execution_count": 1,
   "id": "481aded2-85a2-4d35-9099-36382fed6bb5",
   "metadata": {
    "tags": []
   },
   "outputs": [
    {
     "ename": "ERROR",
     "evalue": "Error in parse(text = x, srcfile = src): <text>:1:5: unexpected symbol\n1: New Notebook\n        ^\n",
     "output_type": "error",
     "traceback": [
      "Error in parse(text = x, srcfile = src): <text>:1:5: unexpected symbol\n1: New Notebook\n        ^\nTraceback:\n"
     ]
    }
   ],
   "source": [
    "New Notebook"
   ]
  },
  {
   "cell_type": "markdown",
   "id": "8baf7146-9deb-49f7-b6cc-e5c9c37e71e2",
   "metadata": {},
   "source": [
    "# Height and Weight of Boys Ages 5-17 Across Japan"
   ]
  },
  {
   "cell_type": "markdown",
   "id": "ea449a19-a983-4a27-8e66-ad777c46d713",
   "metadata": {},
   "source": [
    "# Introduction"
   ]
  },
  {
   "cell_type": "markdown",
   "id": "ebc2483b-0520-46fb-8366-04bd48e70f63",
   "metadata": {},
   "source": [
    "Every year across Japan, measurement sessions are required by the government to be held at elementary schools in every region from ages 5-17, measuring each child's height and weight. **Using this data, we will be predicting the age of the child based on given height and weight in boys.** We will be splitting the dataset into a training and testing set to test the accuracy of the model of predicting the age from the testing data’s height and weight of boys 5-17 in Japan. "
   ]
  },
  {
   "cell_type": "markdown",
   "id": "9f73c2d7-f98b-4094-ab62-699f847a6cb5",
   "metadata": {
    "tags": []
   },
   "source": [
    "# Preliminary Exploratory Analysis"
   ]
  },
  {
   "cell_type": "code",
   "execution_count": 16,
   "id": "eaa24ef4-ec08-4e2f-bc6d-2efa1f808e36",
   "metadata": {
    "tags": []
   },
   "outputs": [
    {
     "name": "stderr",
     "output_type": "stream",
     "text": [
      "Updating HTML index of packages in '.Library'\n",
      "\n",
      "Making 'packages.html' ...\n",
      " done\n",
      "\n",
      "\n",
      "Attaching package: ‘janitor’\n",
      "\n",
      "\n",
      "The following objects are masked from ‘package:stats’:\n",
      "\n",
      "    chisq.test, fisher.test\n",
      "\n",
      "\n"
     ]
    }
   ],
   "source": [
    "install.packages(\"janitor\")\n",
    "library(tidyverse)\n",
    "library(janitor)"
   ]
  },
  {
   "cell_type": "markdown",
   "id": "f8e7fdb2-be36-45c2-bdeb-60314d325c78",
   "metadata": {},
   "source": [
    "A demonstration that the data set `man.csv` can be read into R "
   ]
  },
  {
   "cell_type": "code",
   "execution_count": 7,
   "id": "d1785d3a-d489-4a5f-a3a9-20e2ab7bf3bc",
   "metadata": {
    "tags": []
   },
   "outputs": [
    {
     "name": "stderr",
     "output_type": "stream",
     "text": [
      "\u001b[1mRows: \u001b[22m\u001b[34m624\u001b[39m \u001b[1mColumns: \u001b[22m\u001b[34m6\u001b[39m\n",
      "\u001b[36m──\u001b[39m \u001b[1mColumn specification\u001b[22m \u001b[36m────────────────────────────────────────────────────────\u001b[39m\n",
      "\u001b[1mDelimiter:\u001b[22m \",\"\n",
      "\u001b[31mchr\u001b[39m (1): category\n",
      "\u001b[32mdbl\u001b[39m (5): year, height_average, height_standard deviation, body weight _avera...\n",
      "\n",
      "\u001b[36mℹ\u001b[39m Use `spec()` to retrieve the full column specification for this data.\n",
      "\u001b[36mℹ\u001b[39m Specify the column types or set `show_col_types = FALSE` to quiet this message.\n"
     ]
    },
    {
     "data": {
      "text/html": [
       "<table class=\"dataframe\">\n",
       "<caption>A tibble: 6 × 6</caption>\n",
       "<thead>\n",
       "\t<tr><th scope=col>year</th><th scope=col>category</th><th scope=col>height_average</th><th scope=col>height_standard deviation</th><th scope=col>body weight _average</th><th scope=col>body weight _standard deviation</th></tr>\n",
       "\t<tr><th scope=col>&lt;dbl&gt;</th><th scope=col>&lt;chr&gt;</th><th scope=col>&lt;dbl&gt;</th><th scope=col>&lt;dbl&gt;</th><th scope=col>&lt;dbl&gt;</th><th scope=col>&lt;dbl&gt;</th></tr>\n",
       "</thead>\n",
       "<tbody>\n",
       "\t<tr><td>5</td><td>national</td><td>111.0</td><td>4.87</td><td>19.3</td><td>2.79</td></tr>\n",
       "\t<tr><td>5</td><td>Hokkaido</td><td>111.3</td><td>4.81</td><td>19.3</td><td>2.83</td></tr>\n",
       "\t<tr><td>5</td><td>Aomori  </td><td>111.8</td><td>4.87</td><td>19.9</td><td>2.78</td></tr>\n",
       "\t<tr><td>5</td><td>Iwate   </td><td>111.0</td><td>5.08</td><td>19.6</td><td>3.02</td></tr>\n",
       "\t<tr><td>5</td><td>Miyagi  </td><td>111.3</td><td>4.90</td><td>19.7</td><td>3.04</td></tr>\n",
       "\t<tr><td>5</td><td>Akita   </td><td>112.3</td><td>5.08</td><td>19.9</td><td>3.16</td></tr>\n",
       "</tbody>\n",
       "</table>\n"
      ],
      "text/latex": [
       "A tibble: 6 × 6\n",
       "\\begin{tabular}{llllll}\n",
       " year & category & height\\_average & height\\_standard deviation & body weight \\_average & body weight \\_standard deviation\\\\\n",
       " <dbl> & <chr> & <dbl> & <dbl> & <dbl> & <dbl>\\\\\n",
       "\\hline\n",
       "\t 5 & national & 111.0 & 4.87 & 19.3 & 2.79\\\\\n",
       "\t 5 & Hokkaido & 111.3 & 4.81 & 19.3 & 2.83\\\\\n",
       "\t 5 & Aomori   & 111.8 & 4.87 & 19.9 & 2.78\\\\\n",
       "\t 5 & Iwate    & 111.0 & 5.08 & 19.6 & 3.02\\\\\n",
       "\t 5 & Miyagi   & 111.3 & 4.90 & 19.7 & 3.04\\\\\n",
       "\t 5 & Akita    & 112.3 & 5.08 & 19.9 & 3.16\\\\\n",
       "\\end{tabular}\n"
      ],
      "text/markdown": [
       "\n",
       "A tibble: 6 × 6\n",
       "\n",
       "| year &lt;dbl&gt; | category &lt;chr&gt; | height_average &lt;dbl&gt; | height_standard deviation &lt;dbl&gt; | body weight _average &lt;dbl&gt; | body weight _standard deviation &lt;dbl&gt; |\n",
       "|---|---|---|---|---|---|\n",
       "| 5 | national | 111.0 | 4.87 | 19.3 | 2.79 |\n",
       "| 5 | Hokkaido | 111.3 | 4.81 | 19.3 | 2.83 |\n",
       "| 5 | Aomori   | 111.8 | 4.87 | 19.9 | 2.78 |\n",
       "| 5 | Iwate    | 111.0 | 5.08 | 19.6 | 3.02 |\n",
       "| 5 | Miyagi   | 111.3 | 4.90 | 19.7 | 3.04 |\n",
       "| 5 | Akita    | 112.3 | 5.08 | 19.9 | 3.16 |\n",
       "\n"
      ],
      "text/plain": [
       "  year category height_average height_standard deviation body weight _average\n",
       "1 5    national 111.0          4.87                      19.3                \n",
       "2 5    Hokkaido 111.3          4.81                      19.3                \n",
       "3 5    Aomori   111.8          4.87                      19.9                \n",
       "4 5    Iwate    111.0          5.08                      19.6                \n",
       "5 5    Miyagi   111.3          4.90                      19.7                \n",
       "6 5    Akita    112.3          5.08                      19.9                \n",
       "  body weight _standard deviation\n",
       "1 2.79                           \n",
       "2 2.83                           \n",
       "3 2.78                           \n",
       "4 3.02                           \n",
       "5 3.04                           \n",
       "6 3.16                           "
      ]
     },
     "metadata": {},
     "output_type": "display_data"
    }
   ],
   "source": [
    "man_data <- read_csv(\"man.csv\")\n",
    "head(man_data)"
   ]
  },
  {
   "cell_type": "markdown",
   "id": "b10512ed-62f1-4d6b-b61b-ce5840c49ebc",
   "metadata": {
    "tags": []
   },
   "source": [
    "### Data wrangling and cleaning \n",
    "1. clean the column names using `clean_names` to make column name only contain lower case letters and underscores.\n",
    "2. remove the unused columns (variables): `category`, `height_standard_deviation`, `body_weight _standard_deviation`.\n",
    "3. change the column (variable) `year` to `age`."
   ]
  },
  {
   "cell_type": "code",
   "execution_count": 19,
   "id": "fce0dca1-4620-43f7-9536-d342fd65035c",
   "metadata": {
    "tags": []
   },
   "outputs": [
    {
     "data": {
      "text/html": [
       "<table class=\"dataframe\">\n",
       "<caption>A tibble: 624 × 3</caption>\n",
       "<thead>\n",
       "\t<tr><th scope=col>age</th><th scope=col>height_average</th><th scope=col>body_weight_average</th></tr>\n",
       "\t<tr><th scope=col>&lt;dbl&gt;</th><th scope=col>&lt;dbl&gt;</th><th scope=col>&lt;dbl&gt;</th></tr>\n",
       "</thead>\n",
       "<tbody>\n",
       "\t<tr><td>5</td><td>111.0</td><td>19.3</td></tr>\n",
       "\t<tr><td>5</td><td>111.3</td><td>19.3</td></tr>\n",
       "\t<tr><td>5</td><td>111.8</td><td>19.9</td></tr>\n",
       "\t<tr><td>5</td><td>111.0</td><td>19.6</td></tr>\n",
       "\t<tr><td>5</td><td>111.3</td><td>19.7</td></tr>\n",
       "\t<tr><td>5</td><td>112.3</td><td>19.9</td></tr>\n",
       "\t<tr><td>5</td><td>111.5</td><td>19.5</td></tr>\n",
       "\t<tr><td>5</td><td>111.0</td><td>19.7</td></tr>\n",
       "\t<tr><td>5</td><td>110.8</td><td>19.4</td></tr>\n",
       "\t<tr><td>5</td><td>110.8</td><td>19.4</td></tr>\n",
       "\t<tr><td>5</td><td>111.3</td><td>19.6</td></tr>\n",
       "\t<tr><td>5</td><td>110.5</td><td>19.1</td></tr>\n",
       "\t<tr><td>5</td><td>111.1</td><td>19.3</td></tr>\n",
       "\t<tr><td>5</td><td>111.2</td><td>19.2</td></tr>\n",
       "\t<tr><td>5</td><td>110.8</td><td>19.4</td></tr>\n",
       "\t<tr><td>5</td><td>111.7</td><td>19.5</td></tr>\n",
       "\t<tr><td>5</td><td>111.4</td><td>19.3</td></tr>\n",
       "\t<tr><td>5</td><td>112.4</td><td>19.7</td></tr>\n",
       "\t<tr><td>5</td><td>111.7</td><td>19.4</td></tr>\n",
       "\t<tr><td>5</td><td>110.4</td><td>19.2</td></tr>\n",
       "\t<tr><td>5</td><td>111.1</td><td>19.0</td></tr>\n",
       "\t<tr><td>5</td><td>111.1</td><td>19.2</td></tr>\n",
       "\t<tr><td>5</td><td>110.8</td><td>19.1</td></tr>\n",
       "\t<tr><td>5</td><td>110.7</td><td>19.0</td></tr>\n",
       "\t<tr><td>5</td><td>110.8</td><td>19.3</td></tr>\n",
       "\t<tr><td>5</td><td>110.6</td><td>19.1</td></tr>\n",
       "\t<tr><td>5</td><td>111.6</td><td>19.3</td></tr>\n",
       "\t<tr><td>5</td><td>111.2</td><td>19.2</td></tr>\n",
       "\t<tr><td>5</td><td>111.6</td><td>19.5</td></tr>\n",
       "\t<tr><td>5</td><td>111.0</td><td>19.3</td></tr>\n",
       "\t<tr><td>⋮</td><td>⋮</td><td>⋮</td></tr>\n",
       "\t<tr><td>17</td><td>170.8</td><td>62.2</td></tr>\n",
       "\t<tr><td>17</td><td>170.9</td><td>63.6</td></tr>\n",
       "\t<tr><td>17</td><td>170.4</td><td>61.6</td></tr>\n",
       "\t<tr><td>17</td><td>170.2</td><td>62.1</td></tr>\n",
       "\t<tr><td>17</td><td>170.9</td><td>61.6</td></tr>\n",
       "\t<tr><td>17</td><td>170.4</td><td>60.6</td></tr>\n",
       "\t<tr><td>17</td><td>170.9</td><td>63.1</td></tr>\n",
       "\t<tr><td>17</td><td>171.0</td><td>61.5</td></tr>\n",
       "\t<tr><td>17</td><td>171.5</td><td>62.0</td></tr>\n",
       "\t<tr><td>17</td><td>170.7</td><td>62.5</td></tr>\n",
       "\t<tr><td>17</td><td>170.6</td><td>62.2</td></tr>\n",
       "\t<tr><td>17</td><td>171.1</td><td>61.4</td></tr>\n",
       "\t<tr><td>17</td><td>170.6</td><td>63.2</td></tr>\n",
       "\t<tr><td>17</td><td>171.2</td><td>62.4</td></tr>\n",
       "\t<tr><td>17</td><td>170.5</td><td>63.7</td></tr>\n",
       "\t<tr><td>17</td><td>170.4</td><td>61.5</td></tr>\n",
       "\t<tr><td>17</td><td>169.6</td><td>61.3</td></tr>\n",
       "\t<tr><td>17</td><td>170.0</td><td>61.5</td></tr>\n",
       "\t<tr><td>17</td><td>170.3</td><td>64.4</td></tr>\n",
       "\t<tr><td>17</td><td>170.4</td><td>63.1</td></tr>\n",
       "\t<tr><td>17</td><td>170.6</td><td>63.6</td></tr>\n",
       "\t<tr><td>17</td><td>169.7</td><td>61.8</td></tr>\n",
       "\t<tr><td>17</td><td>170.3</td><td>62.1</td></tr>\n",
       "\t<tr><td>17</td><td>170.8</td><td>62.2</td></tr>\n",
       "\t<tr><td>17</td><td>170.7</td><td>63.6</td></tr>\n",
       "\t<tr><td>17</td><td>170.6</td><td>62.5</td></tr>\n",
       "\t<tr><td>17</td><td>170.1</td><td>63.3</td></tr>\n",
       "\t<tr><td>17</td><td>170.1</td><td>63.5</td></tr>\n",
       "\t<tr><td>17</td><td>170.4</td><td>62.2</td></tr>\n",
       "\t<tr><td>17</td><td>169.5</td><td>62.8</td></tr>\n",
       "</tbody>\n",
       "</table>\n"
      ],
      "text/latex": [
       "A tibble: 624 × 3\n",
       "\\begin{tabular}{lll}\n",
       " age & height\\_average & body\\_weight\\_average\\\\\n",
       " <dbl> & <dbl> & <dbl>\\\\\n",
       "\\hline\n",
       "\t 5 & 111.0 & 19.3\\\\\n",
       "\t 5 & 111.3 & 19.3\\\\\n",
       "\t 5 & 111.8 & 19.9\\\\\n",
       "\t 5 & 111.0 & 19.6\\\\\n",
       "\t 5 & 111.3 & 19.7\\\\\n",
       "\t 5 & 112.3 & 19.9\\\\\n",
       "\t 5 & 111.5 & 19.5\\\\\n",
       "\t 5 & 111.0 & 19.7\\\\\n",
       "\t 5 & 110.8 & 19.4\\\\\n",
       "\t 5 & 110.8 & 19.4\\\\\n",
       "\t 5 & 111.3 & 19.6\\\\\n",
       "\t 5 & 110.5 & 19.1\\\\\n",
       "\t 5 & 111.1 & 19.3\\\\\n",
       "\t 5 & 111.2 & 19.2\\\\\n",
       "\t 5 & 110.8 & 19.4\\\\\n",
       "\t 5 & 111.7 & 19.5\\\\\n",
       "\t 5 & 111.4 & 19.3\\\\\n",
       "\t 5 & 112.4 & 19.7\\\\\n",
       "\t 5 & 111.7 & 19.4\\\\\n",
       "\t 5 & 110.4 & 19.2\\\\\n",
       "\t 5 & 111.1 & 19.0\\\\\n",
       "\t 5 & 111.1 & 19.2\\\\\n",
       "\t 5 & 110.8 & 19.1\\\\\n",
       "\t 5 & 110.7 & 19.0\\\\\n",
       "\t 5 & 110.8 & 19.3\\\\\n",
       "\t 5 & 110.6 & 19.1\\\\\n",
       "\t 5 & 111.6 & 19.3\\\\\n",
       "\t 5 & 111.2 & 19.2\\\\\n",
       "\t 5 & 111.6 & 19.5\\\\\n",
       "\t 5 & 111.0 & 19.3\\\\\n",
       "\t ⋮ & ⋮ & ⋮\\\\\n",
       "\t 17 & 170.8 & 62.2\\\\\n",
       "\t 17 & 170.9 & 63.6\\\\\n",
       "\t 17 & 170.4 & 61.6\\\\\n",
       "\t 17 & 170.2 & 62.1\\\\\n",
       "\t 17 & 170.9 & 61.6\\\\\n",
       "\t 17 & 170.4 & 60.6\\\\\n",
       "\t 17 & 170.9 & 63.1\\\\\n",
       "\t 17 & 171.0 & 61.5\\\\\n",
       "\t 17 & 171.5 & 62.0\\\\\n",
       "\t 17 & 170.7 & 62.5\\\\\n",
       "\t 17 & 170.6 & 62.2\\\\\n",
       "\t 17 & 171.1 & 61.4\\\\\n",
       "\t 17 & 170.6 & 63.2\\\\\n",
       "\t 17 & 171.2 & 62.4\\\\\n",
       "\t 17 & 170.5 & 63.7\\\\\n",
       "\t 17 & 170.4 & 61.5\\\\\n",
       "\t 17 & 169.6 & 61.3\\\\\n",
       "\t 17 & 170.0 & 61.5\\\\\n",
       "\t 17 & 170.3 & 64.4\\\\\n",
       "\t 17 & 170.4 & 63.1\\\\\n",
       "\t 17 & 170.6 & 63.6\\\\\n",
       "\t 17 & 169.7 & 61.8\\\\\n",
       "\t 17 & 170.3 & 62.1\\\\\n",
       "\t 17 & 170.8 & 62.2\\\\\n",
       "\t 17 & 170.7 & 63.6\\\\\n",
       "\t 17 & 170.6 & 62.5\\\\\n",
       "\t 17 & 170.1 & 63.3\\\\\n",
       "\t 17 & 170.1 & 63.5\\\\\n",
       "\t 17 & 170.4 & 62.2\\\\\n",
       "\t 17 & 169.5 & 62.8\\\\\n",
       "\\end{tabular}\n"
      ],
      "text/markdown": [
       "\n",
       "A tibble: 624 × 3\n",
       "\n",
       "| age &lt;dbl&gt; | height_average &lt;dbl&gt; | body_weight_average &lt;dbl&gt; |\n",
       "|---|---|---|\n",
       "| 5 | 111.0 | 19.3 |\n",
       "| 5 | 111.3 | 19.3 |\n",
       "| 5 | 111.8 | 19.9 |\n",
       "| 5 | 111.0 | 19.6 |\n",
       "| 5 | 111.3 | 19.7 |\n",
       "| 5 | 112.3 | 19.9 |\n",
       "| 5 | 111.5 | 19.5 |\n",
       "| 5 | 111.0 | 19.7 |\n",
       "| 5 | 110.8 | 19.4 |\n",
       "| 5 | 110.8 | 19.4 |\n",
       "| 5 | 111.3 | 19.6 |\n",
       "| 5 | 110.5 | 19.1 |\n",
       "| 5 | 111.1 | 19.3 |\n",
       "| 5 | 111.2 | 19.2 |\n",
       "| 5 | 110.8 | 19.4 |\n",
       "| 5 | 111.7 | 19.5 |\n",
       "| 5 | 111.4 | 19.3 |\n",
       "| 5 | 112.4 | 19.7 |\n",
       "| 5 | 111.7 | 19.4 |\n",
       "| 5 | 110.4 | 19.2 |\n",
       "| 5 | 111.1 | 19.0 |\n",
       "| 5 | 111.1 | 19.2 |\n",
       "| 5 | 110.8 | 19.1 |\n",
       "| 5 | 110.7 | 19.0 |\n",
       "| 5 | 110.8 | 19.3 |\n",
       "| 5 | 110.6 | 19.1 |\n",
       "| 5 | 111.6 | 19.3 |\n",
       "| 5 | 111.2 | 19.2 |\n",
       "| 5 | 111.6 | 19.5 |\n",
       "| 5 | 111.0 | 19.3 |\n",
       "| ⋮ | ⋮ | ⋮ |\n",
       "| 17 | 170.8 | 62.2 |\n",
       "| 17 | 170.9 | 63.6 |\n",
       "| 17 | 170.4 | 61.6 |\n",
       "| 17 | 170.2 | 62.1 |\n",
       "| 17 | 170.9 | 61.6 |\n",
       "| 17 | 170.4 | 60.6 |\n",
       "| 17 | 170.9 | 63.1 |\n",
       "| 17 | 171.0 | 61.5 |\n",
       "| 17 | 171.5 | 62.0 |\n",
       "| 17 | 170.7 | 62.5 |\n",
       "| 17 | 170.6 | 62.2 |\n",
       "| 17 | 171.1 | 61.4 |\n",
       "| 17 | 170.6 | 63.2 |\n",
       "| 17 | 171.2 | 62.4 |\n",
       "| 17 | 170.5 | 63.7 |\n",
       "| 17 | 170.4 | 61.5 |\n",
       "| 17 | 169.6 | 61.3 |\n",
       "| 17 | 170.0 | 61.5 |\n",
       "| 17 | 170.3 | 64.4 |\n",
       "| 17 | 170.4 | 63.1 |\n",
       "| 17 | 170.6 | 63.6 |\n",
       "| 17 | 169.7 | 61.8 |\n",
       "| 17 | 170.3 | 62.1 |\n",
       "| 17 | 170.8 | 62.2 |\n",
       "| 17 | 170.7 | 63.6 |\n",
       "| 17 | 170.6 | 62.5 |\n",
       "| 17 | 170.1 | 63.3 |\n",
       "| 17 | 170.1 | 63.5 |\n",
       "| 17 | 170.4 | 62.2 |\n",
       "| 17 | 169.5 | 62.8 |\n",
       "\n"
      ],
      "text/plain": [
       "    age height_average body_weight_average\n",
       "1   5   111.0          19.3               \n",
       "2   5   111.3          19.3               \n",
       "3   5   111.8          19.9               \n",
       "4   5   111.0          19.6               \n",
       "5   5   111.3          19.7               \n",
       "6   5   112.3          19.9               \n",
       "7   5   111.5          19.5               \n",
       "8   5   111.0          19.7               \n",
       "9   5   110.8          19.4               \n",
       "10  5   110.8          19.4               \n",
       "11  5   111.3          19.6               \n",
       "12  5   110.5          19.1               \n",
       "13  5   111.1          19.3               \n",
       "14  5   111.2          19.2               \n",
       "15  5   110.8          19.4               \n",
       "16  5   111.7          19.5               \n",
       "17  5   111.4          19.3               \n",
       "18  5   112.4          19.7               \n",
       "19  5   111.7          19.4               \n",
       "20  5   110.4          19.2               \n",
       "21  5   111.1          19.0               \n",
       "22  5   111.1          19.2               \n",
       "23  5   110.8          19.1               \n",
       "24  5   110.7          19.0               \n",
       "25  5   110.8          19.3               \n",
       "26  5   110.6          19.1               \n",
       "27  5   111.6          19.3               \n",
       "28  5   111.2          19.2               \n",
       "29  5   111.6          19.5               \n",
       "30  5   111.0          19.3               \n",
       "⋮   ⋮   ⋮              ⋮                  \n",
       "595 17  170.8          62.2               \n",
       "596 17  170.9          63.6               \n",
       "597 17  170.4          61.6               \n",
       "598 17  170.2          62.1               \n",
       "599 17  170.9          61.6               \n",
       "600 17  170.4          60.6               \n",
       "601 17  170.9          63.1               \n",
       "602 17  171.0          61.5               \n",
       "603 17  171.5          62.0               \n",
       "604 17  170.7          62.5               \n",
       "605 17  170.6          62.2               \n",
       "606 17  171.1          61.4               \n",
       "607 17  170.6          63.2               \n",
       "608 17  171.2          62.4               \n",
       "609 17  170.5          63.7               \n",
       "610 17  170.4          61.5               \n",
       "611 17  169.6          61.3               \n",
       "612 17  170.0          61.5               \n",
       "613 17  170.3          64.4               \n",
       "614 17  170.4          63.1               \n",
       "615 17  170.6          63.6               \n",
       "616 17  169.7          61.8               \n",
       "617 17  170.3          62.1               \n",
       "618 17  170.8          62.2               \n",
       "619 17  170.7          63.6               \n",
       "620 17  170.6          62.5               \n",
       "621 17  170.1          63.3               \n",
       "622 17  170.1          63.5               \n",
       "623 17  170.4          62.2               \n",
       "624 17  169.5          62.8               "
      ]
     },
     "metadata": {},
     "output_type": "display_data"
    }
   ],
   "source": [
    "clean_man_data <- man_data |>\n",
    "        clean_names() |>\n",
    "        select(-category, -height_standard_deviation, -body_weight_standard_deviation) |>\n",
    "        rename(\"age\" = \"year\")\n",
    "clean_man_data"
   ]
  },
  {
   "cell_type": "markdown",
   "id": "5ce56f07-c706-41ac-bf18-d830130e983f",
   "metadata": {},
   "source": [
    "# Methods"
   ]
  },
  {
   "cell_type": "markdown",
   "id": "5be72a9c-bb8a-430c-829d-f0a4385947fb",
   "metadata": {},
   "source": [
    "To conduct our analysis, we will read and clean our data, select the weight and height columns for prediction, perform cross-validation, and perform some form of regression to predict age. We will then visualize our results, likely using a scatterplot with a regression line superimposed."
   ]
  },
  {
   "cell_type": "markdown",
   "id": "86d1e0f3-1e81-4bf6-a57d-2f12e1e55a95",
   "metadata": {},
   "source": [
    "# Expected Outcomes and Significance"
   ]
  },
  {
   "cell_type": "markdown",
   "id": "6299424a-1a34-4347-895a-f6f01cac90a1",
   "metadata": {},
   "source": []
  }
 ],
 "metadata": {
  "kernelspec": {
   "display_name": "R",
   "language": "R",
   "name": "ir"
  },
  "language_info": {
   "codemirror_mode": "r",
   "file_extension": ".r",
   "mimetype": "text/x-r-source",
   "name": "R",
   "pygments_lexer": "r",
   "version": "4.2.2"
  }
 },
 "nbformat": 4,
 "nbformat_minor": 5
}
