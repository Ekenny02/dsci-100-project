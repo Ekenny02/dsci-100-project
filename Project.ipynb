{
 "cells": [
  {
   "cell_type": "code",
   "execution_count": 1,
   "id": "481aded2-85a2-4d35-9099-36382fed6bb5",
   "metadata": {
    "tags": []
   },
   "outputs": [
    {
     "ename": "ERROR",
     "evalue": "Error in parse(text = x, srcfile = src): <text>:1:5: unexpected symbol\n1: New Notebook\n        ^\n",
     "output_type": "error",
     "traceback": [
      "Error in parse(text = x, srcfile = src): <text>:1:5: unexpected symbol\n1: New Notebook\n        ^\nTraceback:\n"
     ]
    }
   ],
   "source": [
    "New Notebook"
   ]
  },
  {
   "cell_type": "code",
   "execution_count": null,
   "id": "c8f2c400-39d0-4069-ba8c-97c819bb0399",
   "metadata": {},
   "outputs": [],
   "source": []
  }
 ],
 "metadata": {
  "kernelspec": {
   "display_name": "R",
   "language": "R",
   "name": "ir"
  },
  "language_info": {
   "codemirror_mode": "r",
   "file_extension": ".r",
   "mimetype": "text/x-r-source",
   "name": "R",
   "pygments_lexer": "r",
   "version": "4.2.2"
  }
 },
 "nbformat": 4,
 "nbformat_minor": 5
}
