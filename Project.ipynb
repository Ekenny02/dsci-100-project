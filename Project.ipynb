{
 "cells": [
  {
   "cell_type": "markdown",
   "id": "8baf7146-9deb-49f7-b6cc-e5c9c37e71e2",
   "metadata": {},
   "source": [
    "# Height and Weight of Boys Ages 5-17 Across Japan"
   ]
  },
  {
   "cell_type": "markdown",
   "id": "ea449a19-a983-4a27-8e66-ad777c46d713",
   "metadata": {},
   "source": [
    "# Introduction"
   ]
  },
  {
   "cell_type": "markdown",
   "id": "ebc2483b-0520-46fb-8366-04bd48e70f63",
   "metadata": {},
   "source": [
    "Every year across Japan, measurement sessions are required by the government to be held at elementary schools in every region from ages 5-17, measuring each child's height and weight. **Using this data, we will be predicting the age of the child based on given height and weight in boys. We will be splitting the dataset into a training and testing set to test the accuracy or RMSPE of the model of predicting the age from the testing data’s height and weight of boys 5-17 in Japan.** "
   ]
  },
  {
   "cell_type": "markdown",
   "id": "9f73c2d7-f98b-4094-ab62-699f847a6cb5",
   "metadata": {
    "tags": []
   },
   "source": [
    "# Preliminary Exploratory Data Analysis"
   ]
  },
  {
   "cell_type": "code",
   "execution_count": 2,
   "id": "eaa24ef4-ec08-4e2f-bc6d-2efa1f808e36",
   "metadata": {
    "tags": []
   },
   "outputs": [
    {
     "name": "stderr",
     "output_type": "stream",
     "text": [
      "── \u001b[1mAttaching packages\u001b[22m ─────────────────────────────────────── tidyverse 1.3.2 ──\n",
      "\u001b[32m✔\u001b[39m \u001b[34mggplot2\u001b[39m 3.4.2     \u001b[32m✔\u001b[39m \u001b[34mpurrr  \u001b[39m 1.0.1\n",
      "\u001b[32m✔\u001b[39m \u001b[34mtibble \u001b[39m 3.2.1     \u001b[32m✔\u001b[39m \u001b[34mdplyr  \u001b[39m 1.1.1\n",
      "\u001b[32m✔\u001b[39m \u001b[34mtidyr  \u001b[39m 1.3.0     \u001b[32m✔\u001b[39m \u001b[34mstringr\u001b[39m 1.5.0\n",
      "\u001b[32m✔\u001b[39m \u001b[34mreadr  \u001b[39m 2.1.3     \u001b[32m✔\u001b[39m \u001b[34mforcats\u001b[39m 0.5.2\n",
      "── \u001b[1mConflicts\u001b[22m ────────────────────────────────────────── tidyverse_conflicts() ──\n",
      "\u001b[31m✖\u001b[39m \u001b[34mdplyr\u001b[39m::\u001b[32mfilter()\u001b[39m masks \u001b[34mstats\u001b[39m::filter()\n",
      "\u001b[31m✖\u001b[39m \u001b[34mdplyr\u001b[39m::\u001b[32mlag()\u001b[39m    masks \u001b[34mstats\u001b[39m::lag()\n"
     ]
    },
    {
     "ename": "ERROR",
     "evalue": "Error in library(janitor): there is no package called ‘janitor’\n",
     "output_type": "error",
     "traceback": [
      "Error in library(janitor): there is no package called ‘janitor’\nTraceback:\n",
      "1. library(janitor)"
     ]
    }
   ],
   "source": [
    "library(tidyverse)\n",
    "library(janitor)\n",
    "library(repr)\n",
    "library(tidymodels)\n",
    "library(cowplot)"
   ]
  },
  {
   "cell_type": "markdown",
   "id": "f8e7fdb2-be36-45c2-bdeb-60314d325c78",
   "metadata": {},
   "source": [
    "#### 1. Demonstration that the data set `man.csv` can be read into R "
   ]
  },
  {
   "cell_type": "code",
   "execution_count": null,
   "id": "d1785d3a-d489-4a5f-a3a9-20e2ab7bf3bc",
   "metadata": {
    "tags": []
   },
   "outputs": [],
   "source": [
    "# the following way of reading data is allowed according to Anthony's announcement.\n",
    "man_data <- read_csv(\"man.csv\")\n",
    "head(man_data)"
   ]
  },
  {
   "cell_type": "markdown",
   "id": "b10512ed-62f1-4d6b-b61b-ce5840c49ebc",
   "metadata": {
    "tags": []
   },
   "source": [
    "### 2. Data wrangling and cleaning \n",
    "\n",
    "1. We notice that some of the column names contain spaces between words. We will clean the column names using `clean_names` to make them consist of only lowercase letters and underscores.\n",
    "2. In the `category` column, representing the region of each observation, we have identified a category/region labeled \"national.\" This category is the average of the values for all regions in the `category/region` column. We will remove all observations with \"national\" in the `category` column.\n",
    "3. We will remove the unused columns (variables): `category`, `height_standard_deviation`, and `body_weight_standard_deviation`.\n",
    "4. We will rename the column (variable) `year` to `age` to align with our analysis and ensure consistency.\n",
    "\n",
    "\n",
    "The above steps have made sure the `clean_man_data` is currently in a tidy format. "
   ]
  },
  {
   "cell_type": "code",
   "execution_count": null,
   "id": "fce0dca1-4620-43f7-9536-d342fd65035c",
   "metadata": {
    "tags": []
   },
   "outputs": [],
   "source": [
    "clean_man_data <- man_data |>\n",
    "        clean_names() |>\n",
    "        filter(category != \"national\") |>\n",
    "        select(-category, -height_standard_deviation, -body_weight_standard_deviation) |>\n",
    "        rename(\"age\" = \"year\")\n",
    "# take a look to make sure it looks good\n",
    "head(clean_man_data)"
   ]
  },
  {
   "cell_type": "markdown",
   "id": "40ae05ab-7dac-4fae-86ce-f6fd384fdab8",
   "metadata": {},
   "source": [
    "#### 3. Initial split of our data set `clean_man_data` (to training and testing data) "
   ]
  },
  {
   "cell_type": "code",
   "execution_count": null,
   "id": "3cbf306a-ee7c-4852-96e8-2771051f6561",
   "metadata": {
    "tags": []
   },
   "outputs": [],
   "source": [
    "set.seed(9999) # set.seed to make sure it is reproducible \n",
    "\n",
    "man_split <- initial_split(clean_man_data, prop = 0.75, starta = age)\n",
    "man_train <- training(man_split)\n",
    "man_test <- testing(man_split)\n",
    "\n",
    "# take a look to make sure it looks good \n",
    "head(man_train)\n",
    "head(man_test)"
   ]
  },
  {
   "cell_type": "markdown",
   "id": "bb792068-dbbd-455a-9656-6132da39cb15",
   "metadata": {
    "tags": []
   },
   "source": [
    "### 4. Preliminary summary tables of the training data \n",
    "\n",
    "1. We want to determine the number of observations (rows) for each age in the training set by creating the dataframe `number_observation_by_age`.\n",
    "2. We aim to generate a summary of the predictors (weight and height). We create a dataframe that includes the means and standard deviations for the predictor variables, named `summary_predictors`.\n",
    "3. We want to check for any observations that contain missing values using `complete.cases`. We calculate the number of rows containing missing values, denoted as `missing_rows`, and have found that there are **no missing values** in our training set."
   ]
  },
  {
   "cell_type": "code",
   "execution_count": null,
   "id": "035d8548-4aa2-484d-9b51-5d9a8295abed",
   "metadata": {
    "tags": []
   },
   "outputs": [],
   "source": [
    "number_obersvation_by_age  <- man_train |>\n",
    "                    group_by(age) |>\n",
    "                    summarize(count = n()) \n",
    "\n",
    "summary_predictors <- man_train |>\n",
    "                pivot_longer(cols = height_average:body_weight_average,\n",
    "                            names_to = \"predictors\", \n",
    "                            values_to = \"value\") |>\n",
    "                group_by(predictors) |>\n",
    "                summarize(mean = mean(value, na.rm = TRUE), \n",
    "                          SD = sd(value, na.rm = TRUE))\n",
    "missing_rows <- man_train |>\n",
    "                    filter(complete.cases(man_train) == FALSE) |>\n",
    "                    nrow() "
   ]
  },
  {
   "cell_type": "code",
   "execution_count": null,
   "id": "50c9bf5d-e54c-4d6b-a189-2b5e084915e4",
   "metadata": {
    "tags": []
   },
   "outputs": [],
   "source": [
    "number_obersvation_by_age\n",
    "summary_predictors\n",
    "missing_rows # here the missing_rows is 0 "
   ]
  },
  {
   "cell_type": "markdown",
   "id": "61163ab7-4b35-47d5-ad11-c0e2ea839190",
   "metadata": {},
   "source": [
    "### 5. Preliminary visualization of the training data \n",
    "\n",
    "\n",
    "1. **Predictor Distributions:** We would like to visualize the distribution of the two predictors to gather more information, instead of relying solely on the means and standard deviations from tables above. We create two histograms `height_distribution_plot` and `body_weight_distribution_plot` side by side, referred to as `predictor_distribution_plot`, to better understand each predictor.\n",
    "\n",
    "2. **Age Distribution:** Similar to the predictors, we also want to examine the distribution of the response variable `age` to ensure comparability among age observations. We create a histogram named `age_plot`.\n",
    "\n",
    "3. **Relationship Analysis:** In preparation for KNN regression, we aim to explore the relationship between each predictor variable and the response variable. We generate two scatter plots, `height_scatter_plot` and `body_weight_scatter_plot`, displayed side by side as `predictor_scatter_plot`. These plots reveal that age tends to increase as either height or body weight increases, suggesting that height and weight could be used for age prediction.\n",
    "\n",
    "4. **Collinearity Assessment:** We create a scatter plot between the predictors `body_weight_average` and `height_average`, labeled as `between_predictors_plot`. This plot illustrates a high degree of collinearity, emphasizing that KNN regression is a more suitable choice for prediction compared to linear regression, which is susceptible to predictor collinearity.\n"
   ]
  },
  {
   "cell_type": "code",
   "execution_count": 1,
   "id": "b8570462-82e0-4970-a8f8-27bf7308fb77",
   "metadata": {
    "tags": []
   },
   "outputs": [
    {
     "ename": "ERROR",
     "evalue": "Error in ggplot(man_train, aes(x = height_average)): could not find function \"ggplot\"\n",
     "output_type": "error",
     "traceback": [
      "Error in ggplot(man_train, aes(x = height_average)): could not find function \"ggplot\"\nTraceback:\n"
     ]
    }
   ],
   "source": [
    "options(repr.plot.width = 10, repr.plot.height = 8)\n",
    "# histograms for predictor variables. \n",
    "height_distribution_plot <- man_train |>\n",
    "        ggplot(aes(x = height_average)) + \n",
    "            geom_histogram() + \n",
    "            labs(x = \"Height (cm)\", y = \"Number of Observation\") + \n",
    "            ggtitle(\"Height Distribution\") + \n",
    "            theme(text = element_text(size = 12))\n",
    "\n",
    "\n",
    "body_weight_distribution_plot <- man_train |>\n",
    "        ggplot(aes(x = body_weight_average)) + \n",
    "            geom_histogram() + \n",
    "            labs(x = \"Body Weight (kg)\", y = \"Number of Observation\") + \n",
    "            ggtitle(\"Body Weight Distribution\") + \n",
    "            theme(text = element_text(size = 12))\n",
    "\n",
    "predictor_distribution_plot <- plot_grid(height_distribution_plot, body_weight_distribution_plot, nrow = 1)\n",
    "predictor_distribution_plot\n",
    "\n",
    "# histogram for response variable \n",
    "age_plot <- man_train |>\n",
    "        ggplot(aes(x = age)) + \n",
    "            geom_histogram() + \n",
    "            labs(x = \"Age (year)\", y = \"Number of Observation\") + \n",
    "            ggtitle(\"Age Distribution\") + \n",
    "            theme(text = element_text(size = 12))\n",
    "age_plot # we see that the number of observation for each age is comparable \n",
    "\n",
    "# scatter plots for predictor variables\n",
    "height_scatter_plot <- man_train |>\n",
    "                ggplot(aes(x = height_average, y = age)) + \n",
    "                    geom_point() + \n",
    "                    labs(x = \"Height (cm)\", y = \"Age (year)\") + \n",
    "                    theme(text = element_text(size = 12)) +\n",
    "                    ggtitle(\"Relationship Between Height and Age\") \n",
    "body_weight_scatter_plot <- man_train |>\n",
    "                ggplot(aes(x = body_weight_average, y = age)) + \n",
    "                    geom_point() + \n",
    "                    labs(x = \"Body Weight (kg)\", y = \"Age (year)\") + \n",
    "                    theme(text = element_text(size = 12)) +\n",
    "                    ggtitle(\"Relationship Between Body Weight and Age\") \n",
    "predictor_scatter_plot <- plot_grid(height_scatter_plot, body_weight_scatter_plot, nrow = 1)\n",
    "predictor_scatter_plot # we see that there is a positive relationship between the predictors height and weight. \n",
    "\n",
    "# scatter plot between predictors \n",
    "between_predictors_plot <- man_train |>\n",
    "                    ggplot(aes(x = height_average, y = body_weight_average)) +\n",
    "                        geom_point() + \n",
    "                        labs(x = \"Height (cm)\", y = \"Body Weight (kg)\") + \n",
    "                        theme(text = element_text(size = 12)) +\n",
    "                        ggtitle(\"Relationship Between Height and Weight\")\n",
    "between_predictors_plot # we see that there is a large positive relationship between height and weight, which infers a high collinearity. "
   ]
  },
  {
   "cell_type": "markdown",
   "id": "5ce56f07-c706-41ac-bf18-d830130e983f",
   "metadata": {},
   "source": [
    "# Methods"
   ]
  },
  {
   "cell_type": "markdown",
   "id": "5be72a9c-bb8a-430c-829d-f0a4385947fb",
   "metadata": {},
   "source": [
    "To conduct our analysis, we will read and clean our data, select the weight and height columns for prediction, perform cross-validation, and perform some form of regression to predict age. We will then visualize our results, likely using a scatterplot with a regression line superimposed."
   ]
  },
  {
   "cell_type": "markdown",
   "id": "86d1e0f3-1e81-4bf6-a57d-2f12e1e55a95",
   "metadata": {},
   "source": [
    "# Expected Outcomes and Significance"
   ]
  },
  {
   "cell_type": "markdown",
   "id": "6299424a-1a34-4347-895a-f6f01cac90a1",
   "metadata": {},
   "source": [
    "By using the height and weight given for a Japanese boy, we can predict the child's age within the given range.\n",
    "\n",
    "These findings could allow:\n",
    "- Pediatric Healthcare providers to assess a (Japanese male) child's development and compare it to the average growth patterns as seen in this data set.\n",
    "- Nutrition and dietary plans for this demographic. If a certain height to weight ratio in other countries produces an average age that differs from this data set.\n",
    "- Physical Education programs to be tailored to the growth development \n",
    "\n",
    "For future questions, would this prediction set be similar for Japanese girls? Could it accurately predict their ages?  Maybe the prepubescent ages might have similar data?\n"
   ]
  }
 ],
 "metadata": {
  "kernelspec": {
   "display_name": "R",
   "language": "R",
   "name": "ir"
  },
  "language_info": {
   "codemirror_mode": "r",
   "file_extension": ".r",
   "mimetype": "text/x-r-source",
   "name": "R",
   "pygments_lexer": "r",
   "version": "4.2.2"
  }
 },
 "nbformat": 4,
 "nbformat_minor": 5
}
