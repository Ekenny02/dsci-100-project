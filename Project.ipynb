{
 "cells": [
  {
   "cell_type": "markdown",
   "id": "8baf7146-9deb-49f7-b6cc-e5c9c37e71e2",
   "metadata": {},
   "source": [
    "# Height and Weight of Boys Ages 5-17 Across Japan"
   ]
  },
  {
   "cell_type": "markdown",
   "id": "ea449a19-a983-4a27-8e66-ad777c46d713",
   "metadata": {},
   "source": [
    "# Introduction"
   ]
  },
  {
   "cell_type": "markdown",
   "id": "ebc2483b-0520-46fb-8366-04bd48e70f63",
   "metadata": {},
   "source": [
    "Every year across Japan, measurement sessions are required by the government to be held at elementary schools in every region from ages 5-17, measuring each child's height and weight. **Using this data, we will be predicting the age of the child based on given height and weight in boys.** We will be splitting the dataset into a training and testing set to test the accuracy of the model of predicting the age from the testing data’s height and weight of boys 5-17 in Japan. "
   ]
  },
  {
   "cell_type": "markdown",
   "id": "9f73c2d7-f98b-4094-ab62-699f847a6cb5",
   "metadata": {
    "tags": []
   },
   "source": [
    "# Preliminary Exploratory Analysis"
   ]
  },
  {
   "cell_type": "code",
   "execution_count": 7,
   "id": "eaa24ef4-ec08-4e2f-bc6d-2efa1f808e36",
   "metadata": {
    "tags": []
   },
   "outputs": [
    {
     "name": "stderr",
     "output_type": "stream",
     "text": [
      "Updating HTML index of packages in '.Library'\n",
      "\n",
      "Making 'packages.html' ...\n",
      " done\n",
      "\n",
      "── \u001b[1mAttaching packages\u001b[22m ────────────────────────────────────── tidymodels 1.0.0 ──\n",
      "\n",
      "\u001b[32m✔\u001b[39m \u001b[34mbroom       \u001b[39m 1.0.2     \u001b[32m✔\u001b[39m \u001b[34mrsample     \u001b[39m 1.1.1\n",
      "\u001b[32m✔\u001b[39m \u001b[34mdials       \u001b[39m 1.1.0     \u001b[32m✔\u001b[39m \u001b[34mtune        \u001b[39m 1.0.1\n",
      "\u001b[32m✔\u001b[39m \u001b[34minfer       \u001b[39m 1.0.4     \u001b[32m✔\u001b[39m \u001b[34mworkflows   \u001b[39m 1.1.2\n",
      "\u001b[32m✔\u001b[39m \u001b[34mmodeldata   \u001b[39m 1.0.1     \u001b[32m✔\u001b[39m \u001b[34mworkflowsets\u001b[39m 1.0.0\n",
      "\u001b[32m✔\u001b[39m \u001b[34mparsnip     \u001b[39m 1.0.3     \u001b[32m✔\u001b[39m \u001b[34myardstick   \u001b[39m 1.1.0\n",
      "\u001b[32m✔\u001b[39m \u001b[34mrecipes     \u001b[39m 1.0.4     \n",
      "\n",
      "── \u001b[1mConflicts\u001b[22m ───────────────────────────────────────── tidymodels_conflicts() ──\n",
      "\u001b[31m✖\u001b[39m \u001b[34mscales\u001b[39m::\u001b[32mdiscard()\u001b[39m masks \u001b[34mpurrr\u001b[39m::discard()\n",
      "\u001b[31m✖\u001b[39m \u001b[34mdplyr\u001b[39m::\u001b[32mfilter()\u001b[39m   masks \u001b[34mstats\u001b[39m::filter()\n",
      "\u001b[31m✖\u001b[39m \u001b[34mrecipes\u001b[39m::\u001b[32mfixed()\u001b[39m  masks \u001b[34mstringr\u001b[39m::fixed()\n",
      "\u001b[31m✖\u001b[39m \u001b[34mdplyr\u001b[39m::\u001b[32mlag()\u001b[39m      masks \u001b[34mstats\u001b[39m::lag()\n",
      "\u001b[31m✖\u001b[39m \u001b[34myardstick\u001b[39m::\u001b[32mspec()\u001b[39m masks \u001b[34mreadr\u001b[39m::spec()\n",
      "\u001b[31m✖\u001b[39m \u001b[34mrecipes\u001b[39m::\u001b[32mstep()\u001b[39m   masks \u001b[34mstats\u001b[39m::step()\n",
      "\u001b[34m•\u001b[39m Search for functions across packages at \u001b[32mhttps://www.tidymodels.org/find/\u001b[39m\n",
      "\n"
     ]
    }
   ],
   "source": [
    "install.packages(\"janitor\")\n",
    "library(tidyverse)\n",
    "library(janitor)\n",
    "library(repr)\n",
    "library(tidymodels)"
   ]
  },
  {
   "cell_type": "markdown",
   "id": "f8e7fdb2-be36-45c2-bdeb-60314d325c78",
   "metadata": {},
   "source": [
    "#### 1. Demonstration that the data set `man.csv` can be read into R "
   ]
  },
  {
   "cell_type": "code",
   "execution_count": 3,
   "id": "d1785d3a-d489-4a5f-a3a9-20e2ab7bf3bc",
   "metadata": {
    "tags": []
   },
   "outputs": [
    {
     "name": "stderr",
     "output_type": "stream",
     "text": [
      "\u001b[1mRows: \u001b[22m\u001b[34m624\u001b[39m \u001b[1mColumns: \u001b[22m\u001b[34m6\u001b[39m\n",
      "\u001b[36m──\u001b[39m \u001b[1mColumn specification\u001b[22m \u001b[36m────────────────────────────────────────────────────────\u001b[39m\n",
      "\u001b[1mDelimiter:\u001b[22m \",\"\n",
      "\u001b[31mchr\u001b[39m (1): category\n",
      "\u001b[32mdbl\u001b[39m (5): year, height_average, height_standard deviation, body weight _avera...\n",
      "\n",
      "\u001b[36mℹ\u001b[39m Use `spec()` to retrieve the full column specification for this data.\n",
      "\u001b[36mℹ\u001b[39m Specify the column types or set `show_col_types = FALSE` to quiet this message.\n"
     ]
    },
    {
     "data": {
      "text/html": [
       "<table class=\"dataframe\">\n",
       "<caption>A tibble: 6 × 6</caption>\n",
       "<thead>\n",
       "\t<tr><th scope=col>year</th><th scope=col>category</th><th scope=col>height_average</th><th scope=col>height_standard deviation</th><th scope=col>body weight _average</th><th scope=col>body weight _standard deviation</th></tr>\n",
       "\t<tr><th scope=col>&lt;dbl&gt;</th><th scope=col>&lt;chr&gt;</th><th scope=col>&lt;dbl&gt;</th><th scope=col>&lt;dbl&gt;</th><th scope=col>&lt;dbl&gt;</th><th scope=col>&lt;dbl&gt;</th></tr>\n",
       "</thead>\n",
       "<tbody>\n",
       "\t<tr><td>5</td><td>national</td><td>111.0</td><td>4.87</td><td>19.3</td><td>2.79</td></tr>\n",
       "\t<tr><td>5</td><td>Hokkaido</td><td>111.3</td><td>4.81</td><td>19.3</td><td>2.83</td></tr>\n",
       "\t<tr><td>5</td><td>Aomori  </td><td>111.8</td><td>4.87</td><td>19.9</td><td>2.78</td></tr>\n",
       "\t<tr><td>5</td><td>Iwate   </td><td>111.0</td><td>5.08</td><td>19.6</td><td>3.02</td></tr>\n",
       "\t<tr><td>5</td><td>Miyagi  </td><td>111.3</td><td>4.90</td><td>19.7</td><td>3.04</td></tr>\n",
       "\t<tr><td>5</td><td>Akita   </td><td>112.3</td><td>5.08</td><td>19.9</td><td>3.16</td></tr>\n",
       "</tbody>\n",
       "</table>\n"
      ],
      "text/latex": [
       "A tibble: 6 × 6\n",
       "\\begin{tabular}{llllll}\n",
       " year & category & height\\_average & height\\_standard deviation & body weight \\_average & body weight \\_standard deviation\\\\\n",
       " <dbl> & <chr> & <dbl> & <dbl> & <dbl> & <dbl>\\\\\n",
       "\\hline\n",
       "\t 5 & national & 111.0 & 4.87 & 19.3 & 2.79\\\\\n",
       "\t 5 & Hokkaido & 111.3 & 4.81 & 19.3 & 2.83\\\\\n",
       "\t 5 & Aomori   & 111.8 & 4.87 & 19.9 & 2.78\\\\\n",
       "\t 5 & Iwate    & 111.0 & 5.08 & 19.6 & 3.02\\\\\n",
       "\t 5 & Miyagi   & 111.3 & 4.90 & 19.7 & 3.04\\\\\n",
       "\t 5 & Akita    & 112.3 & 5.08 & 19.9 & 3.16\\\\\n",
       "\\end{tabular}\n"
      ],
      "text/markdown": [
       "\n",
       "A tibble: 6 × 6\n",
       "\n",
       "| year &lt;dbl&gt; | category &lt;chr&gt; | height_average &lt;dbl&gt; | height_standard deviation &lt;dbl&gt; | body weight _average &lt;dbl&gt; | body weight _standard deviation &lt;dbl&gt; |\n",
       "|---|---|---|---|---|---|\n",
       "| 5 | national | 111.0 | 4.87 | 19.3 | 2.79 |\n",
       "| 5 | Hokkaido | 111.3 | 4.81 | 19.3 | 2.83 |\n",
       "| 5 | Aomori   | 111.8 | 4.87 | 19.9 | 2.78 |\n",
       "| 5 | Iwate    | 111.0 | 5.08 | 19.6 | 3.02 |\n",
       "| 5 | Miyagi   | 111.3 | 4.90 | 19.7 | 3.04 |\n",
       "| 5 | Akita    | 112.3 | 5.08 | 19.9 | 3.16 |\n",
       "\n"
      ],
      "text/plain": [
       "  year category height_average height_standard deviation body weight _average\n",
       "1 5    national 111.0          4.87                      19.3                \n",
       "2 5    Hokkaido 111.3          4.81                      19.3                \n",
       "3 5    Aomori   111.8          4.87                      19.9                \n",
       "4 5    Iwate    111.0          5.08                      19.6                \n",
       "5 5    Miyagi   111.3          4.90                      19.7                \n",
       "6 5    Akita    112.3          5.08                      19.9                \n",
       "  body weight _standard deviation\n",
       "1 2.79                           \n",
       "2 2.83                           \n",
       "3 2.78                           \n",
       "4 3.02                           \n",
       "5 3.04                           \n",
       "6 3.16                           "
      ]
     },
     "metadata": {},
     "output_type": "display_data"
    }
   ],
   "source": [
    "man_data <- read_csv(\"man.csv\")\n",
    "head(man_data)"
   ]
  },
  {
   "cell_type": "markdown",
   "id": "b10512ed-62f1-4d6b-b61b-ce5840c49ebc",
   "metadata": {
    "tags": []
   },
   "source": [
    "### 2. Data wrangling and cleaning \n",
    "1. clean the column names using `clean_names` to make column name only contain lower case letters and underscores.\n",
    "2. remove the unused columns (variables): `category`, `height_standard_deviation`, `body_weight _standard_deviation`.\n",
    "3. change the column (variable) `year` to `age`.\n",
    "\n",
    "The above steps have made sure the clean_man_data is currently in a tidy format. "
   ]
  },
  {
   "cell_type": "code",
   "execution_count": 5,
   "id": "fce0dca1-4620-43f7-9536-d342fd65035c",
   "metadata": {
    "tags": []
   },
   "outputs": [
    {
     "data": {
      "text/html": [
       "<table class=\"dataframe\">\n",
       "<caption>A tibble: 6 × 3</caption>\n",
       "<thead>\n",
       "\t<tr><th scope=col>age</th><th scope=col>height_average</th><th scope=col>body_weight_average</th></tr>\n",
       "\t<tr><th scope=col>&lt;dbl&gt;</th><th scope=col>&lt;dbl&gt;</th><th scope=col>&lt;dbl&gt;</th></tr>\n",
       "</thead>\n",
       "<tbody>\n",
       "\t<tr><td>5</td><td>111.0</td><td>19.3</td></tr>\n",
       "\t<tr><td>5</td><td>111.3</td><td>19.3</td></tr>\n",
       "\t<tr><td>5</td><td>111.8</td><td>19.9</td></tr>\n",
       "\t<tr><td>5</td><td>111.0</td><td>19.6</td></tr>\n",
       "\t<tr><td>5</td><td>111.3</td><td>19.7</td></tr>\n",
       "\t<tr><td>5</td><td>112.3</td><td>19.9</td></tr>\n",
       "</tbody>\n",
       "</table>\n"
      ],
      "text/latex": [
       "A tibble: 6 × 3\n",
       "\\begin{tabular}{lll}\n",
       " age & height\\_average & body\\_weight\\_average\\\\\n",
       " <dbl> & <dbl> & <dbl>\\\\\n",
       "\\hline\n",
       "\t 5 & 111.0 & 19.3\\\\\n",
       "\t 5 & 111.3 & 19.3\\\\\n",
       "\t 5 & 111.8 & 19.9\\\\\n",
       "\t 5 & 111.0 & 19.6\\\\\n",
       "\t 5 & 111.3 & 19.7\\\\\n",
       "\t 5 & 112.3 & 19.9\\\\\n",
       "\\end{tabular}\n"
      ],
      "text/markdown": [
       "\n",
       "A tibble: 6 × 3\n",
       "\n",
       "| age &lt;dbl&gt; | height_average &lt;dbl&gt; | body_weight_average &lt;dbl&gt; |\n",
       "|---|---|---|\n",
       "| 5 | 111.0 | 19.3 |\n",
       "| 5 | 111.3 | 19.3 |\n",
       "| 5 | 111.8 | 19.9 |\n",
       "| 5 | 111.0 | 19.6 |\n",
       "| 5 | 111.3 | 19.7 |\n",
       "| 5 | 112.3 | 19.9 |\n",
       "\n"
      ],
      "text/plain": [
       "  age height_average body_weight_average\n",
       "1 5   111.0          19.3               \n",
       "2 5   111.3          19.3               \n",
       "3 5   111.8          19.9               \n",
       "4 5   111.0          19.6               \n",
       "5 5   111.3          19.7               \n",
       "6 5   112.3          19.9               "
      ]
     },
     "metadata": {},
     "output_type": "display_data"
    }
   ],
   "source": [
    "clean_man_data <- man_data |>\n",
    "        clean_names() |>\n",
    "        select(-category, -height_standard_deviation, -body_weight_standard_deviation) |>\n",
    "        rename(\"age\" = \"year\")\n",
    "head(clean_man_data)"
   ]
  },
  {
   "cell_type": "markdown",
   "id": "40ae05ab-7dac-4fae-86ce-f6fd384fdab8",
   "metadata": {},
   "source": [
    "#### 3. Initial split of our data set `clean_man_data` (to training and testing data) "
   ]
  },
  {
   "cell_type": "code",
   "execution_count": 52,
   "id": "3cbf306a-ee7c-4852-96e8-2771051f6561",
   "metadata": {
    "tags": []
   },
   "outputs": [
    {
     "data": {
      "text/html": [
       "<table class=\"dataframe\">\n",
       "<caption>A tibble: 6 × 3</caption>\n",
       "<thead>\n",
       "\t<tr><th scope=col>age</th><th scope=col>height_average</th><th scope=col>body_weight_average</th></tr>\n",
       "\t<tr><th scope=col>&lt;dbl&gt;</th><th scope=col>&lt;dbl&gt;</th><th scope=col>&lt;dbl&gt;</th></tr>\n",
       "</thead>\n",
       "<tbody>\n",
       "\t<tr><td>11</td><td>147.1</td><td>41.9</td></tr>\n",
       "\t<tr><td>12</td><td>153.8</td><td>46.7</td></tr>\n",
       "\t<tr><td> 7</td><td>122.9</td><td>24.7</td></tr>\n",
       "\t<tr><td>11</td><td>145.8</td><td>41.0</td></tr>\n",
       "\t<tr><td>14</td><td>164.2</td><td>54.2</td></tr>\n",
       "\t<tr><td>15</td><td>167.9</td><td>57.5</td></tr>\n",
       "</tbody>\n",
       "</table>\n"
      ],
      "text/latex": [
       "A tibble: 6 × 3\n",
       "\\begin{tabular}{lll}\n",
       " age & height\\_average & body\\_weight\\_average\\\\\n",
       " <dbl> & <dbl> & <dbl>\\\\\n",
       "\\hline\n",
       "\t 11 & 147.1 & 41.9\\\\\n",
       "\t 12 & 153.8 & 46.7\\\\\n",
       "\t  7 & 122.9 & 24.7\\\\\n",
       "\t 11 & 145.8 & 41.0\\\\\n",
       "\t 14 & 164.2 & 54.2\\\\\n",
       "\t 15 & 167.9 & 57.5\\\\\n",
       "\\end{tabular}\n"
      ],
      "text/markdown": [
       "\n",
       "A tibble: 6 × 3\n",
       "\n",
       "| age &lt;dbl&gt; | height_average &lt;dbl&gt; | body_weight_average &lt;dbl&gt; |\n",
       "|---|---|---|\n",
       "| 11 | 147.1 | 41.9 |\n",
       "| 12 | 153.8 | 46.7 |\n",
       "|  7 | 122.9 | 24.7 |\n",
       "| 11 | 145.8 | 41.0 |\n",
       "| 14 | 164.2 | 54.2 |\n",
       "| 15 | 167.9 | 57.5 |\n",
       "\n"
      ],
      "text/plain": [
       "  age height_average body_weight_average\n",
       "1 11  147.1          41.9               \n",
       "2 12  153.8          46.7               \n",
       "3  7  122.9          24.7               \n",
       "4 11  145.8          41.0               \n",
       "5 14  164.2          54.2               \n",
       "6 15  167.9          57.5               "
      ]
     },
     "metadata": {},
     "output_type": "display_data"
    },
    {
     "data": {
      "text/html": [
       "<table class=\"dataframe\">\n",
       "<caption>A tibble: 6 × 3</caption>\n",
       "<thead>\n",
       "\t<tr><th scope=col>age</th><th scope=col>height_average</th><th scope=col>body_weight_average</th></tr>\n",
       "\t<tr><th scope=col>&lt;dbl&gt;</th><th scope=col>&lt;dbl&gt;</th><th scope=col>&lt;dbl&gt;</th></tr>\n",
       "</thead>\n",
       "<tbody>\n",
       "\t<tr><td>5</td><td>111.5</td><td>19.5</td></tr>\n",
       "\t<tr><td>5</td><td>111.0</td><td>19.7</td></tr>\n",
       "\t<tr><td>5</td><td>111.7</td><td>19.5</td></tr>\n",
       "\t<tr><td>5</td><td>111.7</td><td>19.4</td></tr>\n",
       "\t<tr><td>5</td><td>110.4</td><td>19.2</td></tr>\n",
       "\t<tr><td>5</td><td>110.7</td><td>19.0</td></tr>\n",
       "</tbody>\n",
       "</table>\n"
      ],
      "text/latex": [
       "A tibble: 6 × 3\n",
       "\\begin{tabular}{lll}\n",
       " age & height\\_average & body\\_weight\\_average\\\\\n",
       " <dbl> & <dbl> & <dbl>\\\\\n",
       "\\hline\n",
       "\t 5 & 111.5 & 19.5\\\\\n",
       "\t 5 & 111.0 & 19.7\\\\\n",
       "\t 5 & 111.7 & 19.5\\\\\n",
       "\t 5 & 111.7 & 19.4\\\\\n",
       "\t 5 & 110.4 & 19.2\\\\\n",
       "\t 5 & 110.7 & 19.0\\\\\n",
       "\\end{tabular}\n"
      ],
      "text/markdown": [
       "\n",
       "A tibble: 6 × 3\n",
       "\n",
       "| age &lt;dbl&gt; | height_average &lt;dbl&gt; | body_weight_average &lt;dbl&gt; |\n",
       "|---|---|---|\n",
       "| 5 | 111.5 | 19.5 |\n",
       "| 5 | 111.0 | 19.7 |\n",
       "| 5 | 111.7 | 19.5 |\n",
       "| 5 | 111.7 | 19.4 |\n",
       "| 5 | 110.4 | 19.2 |\n",
       "| 5 | 110.7 | 19.0 |\n",
       "\n"
      ],
      "text/plain": [
       "  age height_average body_weight_average\n",
       "1 5   111.5          19.5               \n",
       "2 5   111.0          19.7               \n",
       "3 5   111.7          19.5               \n",
       "4 5   111.7          19.4               \n",
       "5 5   110.4          19.2               \n",
       "6 5   110.7          19.0               "
      ]
     },
     "metadata": {},
     "output_type": "display_data"
    }
   ],
   "source": [
    "man_split <- initial_split(clean_man_data, prop = 0.75, starta = age)\n",
    "man_train <- training(man_split)\n",
    "man_test <- testing(man_split)\n",
    "\n",
    "# take a look to make sure it looks good \n",
    "head(man_train)\n",
    "head(man_test)"
   ]
  },
  {
   "cell_type": "markdown",
   "id": "bb792068-dbbd-455a-9656-6132da39cb15",
   "metadata": {
    "tags": []
   },
   "source": [
    "### 4. Preliminary summary tables of the training data \n",
    "1. Summarize the number of observations (rows) for each age in the dataframe `number_observation_by_age` using `group_by` and `summarize`.\n",
    "2. Report the means and standard deviations for each predictor variables weight and height in the dataframe `summary_predictors`.\n",
    "3. Calculate the number of rows that have missing values using `complete.cases`. We found that there is **no missing value** in our training set."
   ]
  },
  {
   "cell_type": "code",
   "execution_count": 53,
   "id": "035d8548-4aa2-484d-9b51-5d9a8295abed",
   "metadata": {
    "tags": []
   },
   "outputs": [],
   "source": [
    "number_obersvation_by_age  <- man_train |>\n",
    "                    group_by(age) |>\n",
    "                    summarize(count = n()) \n",
    "\n",
    "summary_predictors <- man_train |>\n",
    "                pivot_longer(cols = height_average:body_weight_average,\n",
    "                            names_to = \"predictors\", \n",
    "                            values_to = \"value\") |>\n",
    "                group_by(predictors) |>\n",
    "                summarize(mean = mean(value, na.rm = TRUE), \n",
    "                          SD = sd(value, na.rm = TRUE))\n",
    "missing_rows <- man_train |>\n",
    "                    filter(complete.cases(man_train) == FALSE) |>\n",
    "                    nrow() "
   ]
  },
  {
   "cell_type": "code",
   "execution_count": 54,
   "id": "50c9bf5d-e54c-4d6b-a189-2b5e084915e4",
   "metadata": {
    "tags": []
   },
   "outputs": [
    {
     "data": {
      "text/html": [
       "<table class=\"dataframe\">\n",
       "<caption>A tibble: 13 × 2</caption>\n",
       "<thead>\n",
       "\t<tr><th scope=col>age</th><th scope=col>count</th></tr>\n",
       "\t<tr><th scope=col>&lt;dbl&gt;</th><th scope=col>&lt;int&gt;</th></tr>\n",
       "</thead>\n",
       "<tbody>\n",
       "\t<tr><td> 5</td><td>29</td></tr>\n",
       "\t<tr><td> 6</td><td>39</td></tr>\n",
       "\t<tr><td> 7</td><td>34</td></tr>\n",
       "\t<tr><td> 8</td><td>37</td></tr>\n",
       "\t<tr><td> 9</td><td>36</td></tr>\n",
       "\t<tr><td>10</td><td>36</td></tr>\n",
       "\t<tr><td>11</td><td>35</td></tr>\n",
       "\t<tr><td>12</td><td>37</td></tr>\n",
       "\t<tr><td>13</td><td>33</td></tr>\n",
       "\t<tr><td>14</td><td>42</td></tr>\n",
       "\t<tr><td>15</td><td>34</td></tr>\n",
       "\t<tr><td>16</td><td>39</td></tr>\n",
       "\t<tr><td>17</td><td>37</td></tr>\n",
       "</tbody>\n",
       "</table>\n"
      ],
      "text/latex": [
       "A tibble: 13 × 2\n",
       "\\begin{tabular}{ll}\n",
       " age & count\\\\\n",
       " <dbl> & <int>\\\\\n",
       "\\hline\n",
       "\t  5 & 29\\\\\n",
       "\t  6 & 39\\\\\n",
       "\t  7 & 34\\\\\n",
       "\t  8 & 37\\\\\n",
       "\t  9 & 36\\\\\n",
       "\t 10 & 36\\\\\n",
       "\t 11 & 35\\\\\n",
       "\t 12 & 37\\\\\n",
       "\t 13 & 33\\\\\n",
       "\t 14 & 42\\\\\n",
       "\t 15 & 34\\\\\n",
       "\t 16 & 39\\\\\n",
       "\t 17 & 37\\\\\n",
       "\\end{tabular}\n"
      ],
      "text/markdown": [
       "\n",
       "A tibble: 13 × 2\n",
       "\n",
       "| age &lt;dbl&gt; | count &lt;int&gt; |\n",
       "|---|---|\n",
       "|  5 | 29 |\n",
       "|  6 | 39 |\n",
       "|  7 | 34 |\n",
       "|  8 | 37 |\n",
       "|  9 | 36 |\n",
       "| 10 | 36 |\n",
       "| 11 | 35 |\n",
       "| 12 | 37 |\n",
       "| 13 | 33 |\n",
       "| 14 | 42 |\n",
       "| 15 | 34 |\n",
       "| 16 | 39 |\n",
       "| 17 | 37 |\n",
       "\n"
      ],
      "text/plain": [
       "   age count\n",
       "1   5  29   \n",
       "2   6  39   \n",
       "3   7  34   \n",
       "4   8  37   \n",
       "5   9  36   \n",
       "6  10  36   \n",
       "7  11  35   \n",
       "8  12  37   \n",
       "9  13  33   \n",
       "10 14  42   \n",
       "11 15  34   \n",
       "12 16  39   \n",
       "13 17  37   "
      ]
     },
     "metadata": {},
     "output_type": "display_data"
    },
    {
     "data": {
      "text/html": [
       "<table class=\"dataframe\">\n",
       "<caption>A tibble: 2 × 3</caption>\n",
       "<thead>\n",
       "\t<tr><th scope=col>predictors</th><th scope=col>mean</th><th scope=col>SD</th></tr>\n",
       "\t<tr><th scope=col>&lt;chr&gt;</th><th scope=col>&lt;dbl&gt;</th><th scope=col>&lt;dbl&gt;</th></tr>\n",
       "</thead>\n",
       "<tbody>\n",
       "\t<tr><td>body_weight_average</td><td> 41.43825</td><td>14.94241</td></tr>\n",
       "\t<tr><td>height_average     </td><td>145.74573</td><td>20.32604</td></tr>\n",
       "</tbody>\n",
       "</table>\n"
      ],
      "text/latex": [
       "A tibble: 2 × 3\n",
       "\\begin{tabular}{lll}\n",
       " predictors & mean & SD\\\\\n",
       " <chr> & <dbl> & <dbl>\\\\\n",
       "\\hline\n",
       "\t body\\_weight\\_average &  41.43825 & 14.94241\\\\\n",
       "\t height\\_average      & 145.74573 & 20.32604\\\\\n",
       "\\end{tabular}\n"
      ],
      "text/markdown": [
       "\n",
       "A tibble: 2 × 3\n",
       "\n",
       "| predictors &lt;chr&gt; | mean &lt;dbl&gt; | SD &lt;dbl&gt; |\n",
       "|---|---|---|\n",
       "| body_weight_average |  41.43825 | 14.94241 |\n",
       "| height_average      | 145.74573 | 20.32604 |\n",
       "\n"
      ],
      "text/plain": [
       "  predictors          mean      SD      \n",
       "1 body_weight_average  41.43825 14.94241\n",
       "2 height_average      145.74573 20.32604"
      ]
     },
     "metadata": {},
     "output_type": "display_data"
    },
    {
     "data": {
      "text/html": [
       "0"
      ],
      "text/latex": [
       "0"
      ],
      "text/markdown": [
       "0"
      ],
      "text/plain": [
       "[1] 0"
      ]
     },
     "metadata": {},
     "output_type": "display_data"
    }
   ],
   "source": [
    "number_obersvation_by_age\n",
    "summary_predictors\n",
    "missing_rows # here the missing_rows is 0 "
   ]
  },
  {
   "cell_type": "markdown",
   "id": "5ce56f07-c706-41ac-bf18-d830130e983f",
   "metadata": {},
   "source": [
    "# Methods"
   ]
  },
  {
   "cell_type": "markdown",
   "id": "5be72a9c-bb8a-430c-829d-f0a4385947fb",
   "metadata": {},
   "source": [
    "To conduct our analysis, we will read and clean our data, select the weight and height columns for prediction, perform cross-validation, and perform some form of regression to predict age. We will then visualize our results, likely using a scatterplot with a regression line superimposed."
   ]
  },
  {
   "cell_type": "markdown",
   "id": "86d1e0f3-1e81-4bf6-a57d-2f12e1e55a95",
   "metadata": {},
   "source": [
    "# Expected Outcomes and Significance"
   ]
  },
  {
   "cell_type": "markdown",
   "id": "6299424a-1a34-4347-895a-f6f01cac90a1",
   "metadata": {},
   "source": [
    "By using the height and weight given for a Japanese boy, we can predict the child's age within the given range.\n",
    "\n",
    "These findings could allow:\n",
    "- Pediatric Healthcare providers to assess a (Japanese male) child's development and compare it to the average growth patterns as seen in this data set.\n",
    "- Nutrition and dietary plans for this demographic. If a certain height to weight ratio in other countries produces an average age that differs from this data set.\n",
    "- Physical Education programs to be tailored to the growth development \n",
    "\n",
    "For future questions, would this prediction set be similar for Japanese girls? Could it accurately predict their ages?  Maybe the prepubescent ages might have similar data?\n"
   ]
  }
 ],
 "metadata": {
  "kernelspec": {
   "display_name": "R",
   "language": "R",
   "name": "ir"
  },
  "language_info": {
   "codemirror_mode": "r",
   "file_extension": ".r",
   "mimetype": "text/x-r-source",
   "name": "R",
   "pygments_lexer": "r",
   "version": "4.2.2"
  }
 },
 "nbformat": 4,
 "nbformat_minor": 5
}
