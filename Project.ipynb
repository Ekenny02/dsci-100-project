{
 "cells": [
  {
   "cell_type": "code",
   "execution_count": 1,
   "id": "481aded2-85a2-4d35-9099-36382fed6bb5",
   "metadata": {
    "tags": []
   },
   "outputs": [
    {
     "ename": "ERROR",
     "evalue": "Error in parse(text = x, srcfile = src): <text>:1:5: unexpected symbol\n1: New Notebook\n        ^\n",
     "output_type": "error",
     "traceback": [
      "Error in parse(text = x, srcfile = src): <text>:1:5: unexpected symbol\n1: New Notebook\n        ^\nTraceback:\n"
     ]
    }
   ],
   "source": [
    "New Notebook"
   ]
  },
  {
   "cell_type": "markdown",
   "id": "8baf7146-9deb-49f7-b6cc-e5c9c37e71e2",
   "metadata": {},
   "source": [
    "# Japanese Region Based on Height and Weight in Males"
   ]
  },
  {
   "cell_type": "markdown",
   "id": "ea449a19-a983-4a27-8e66-ad777c46d713",
   "metadata": {},
   "source": [
    "# Introduction"
   ]
  },
  {
   "cell_type": "markdown",
   "id": "ebc2483b-0520-46fb-8366-04bd48e70f63",
   "metadata": {},
   "source": []
  },
  {
   "cell_type": "markdown",
   "id": "9f73c2d7-f98b-4094-ab62-699f847a6cb5",
   "metadata": {},
   "source": [
    "# Preliminary Exploratory Analysis"
   ]
  },
  {
   "cell_type": "code",
   "execution_count": 4,
   "id": "eaa24ef4-ec08-4e2f-bc6d-2efa1f808e36",
   "metadata": {
    "tags": []
   },
   "outputs": [],
   "source": [
    "library(tidyverse)"
   ]
  },
  {
   "cell_type": "markdown",
   "id": "f8e7fdb2-be36-45c2-bdeb-60314d325c78",
   "metadata": {},
   "source": [
    "A demonstration that the data set `man.csv` can be read into R "
   ]
  },
  {
   "cell_type": "code",
   "execution_count": 7,
   "id": "d1785d3a-d489-4a5f-a3a9-20e2ab7bf3bc",
   "metadata": {
    "tags": []
   },
   "outputs": [
    {
     "name": "stderr",
     "output_type": "stream",
     "text": [
      "\u001b[1mRows: \u001b[22m\u001b[34m624\u001b[39m \u001b[1mColumns: \u001b[22m\u001b[34m6\u001b[39m\n",
      "\u001b[36m──\u001b[39m \u001b[1mColumn specification\u001b[22m \u001b[36m────────────────────────────────────────────────────────\u001b[39m\n",
      "\u001b[1mDelimiter:\u001b[22m \",\"\n",
      "\u001b[31mchr\u001b[39m (1): category\n",
      "\u001b[32mdbl\u001b[39m (5): year, height_average, height_standard deviation, body weight _avera...\n",
      "\n",
      "\u001b[36mℹ\u001b[39m Use `spec()` to retrieve the full column specification for this data.\n",
      "\u001b[36mℹ\u001b[39m Specify the column types or set `show_col_types = FALSE` to quiet this message.\n"
     ]
    },
    {
     "data": {
      "text/html": [
       "<table class=\"dataframe\">\n",
       "<caption>A tibble: 6 × 6</caption>\n",
       "<thead>\n",
       "\t<tr><th scope=col>year</th><th scope=col>category</th><th scope=col>height_average</th><th scope=col>height_standard deviation</th><th scope=col>body weight _average</th><th scope=col>body weight _standard deviation</th></tr>\n",
       "\t<tr><th scope=col>&lt;dbl&gt;</th><th scope=col>&lt;chr&gt;</th><th scope=col>&lt;dbl&gt;</th><th scope=col>&lt;dbl&gt;</th><th scope=col>&lt;dbl&gt;</th><th scope=col>&lt;dbl&gt;</th></tr>\n",
       "</thead>\n",
       "<tbody>\n",
       "\t<tr><td>5</td><td>national</td><td>111.0</td><td>4.87</td><td>19.3</td><td>2.79</td></tr>\n",
       "\t<tr><td>5</td><td>Hokkaido</td><td>111.3</td><td>4.81</td><td>19.3</td><td>2.83</td></tr>\n",
       "\t<tr><td>5</td><td>Aomori  </td><td>111.8</td><td>4.87</td><td>19.9</td><td>2.78</td></tr>\n",
       "\t<tr><td>5</td><td>Iwate   </td><td>111.0</td><td>5.08</td><td>19.6</td><td>3.02</td></tr>\n",
       "\t<tr><td>5</td><td>Miyagi  </td><td>111.3</td><td>4.90</td><td>19.7</td><td>3.04</td></tr>\n",
       "\t<tr><td>5</td><td>Akita   </td><td>112.3</td><td>5.08</td><td>19.9</td><td>3.16</td></tr>\n",
       "</tbody>\n",
       "</table>\n"
      ],
      "text/latex": [
       "A tibble: 6 × 6\n",
       "\\begin{tabular}{llllll}\n",
       " year & category & height\\_average & height\\_standard deviation & body weight \\_average & body weight \\_standard deviation\\\\\n",
       " <dbl> & <chr> & <dbl> & <dbl> & <dbl> & <dbl>\\\\\n",
       "\\hline\n",
       "\t 5 & national & 111.0 & 4.87 & 19.3 & 2.79\\\\\n",
       "\t 5 & Hokkaido & 111.3 & 4.81 & 19.3 & 2.83\\\\\n",
       "\t 5 & Aomori   & 111.8 & 4.87 & 19.9 & 2.78\\\\\n",
       "\t 5 & Iwate    & 111.0 & 5.08 & 19.6 & 3.02\\\\\n",
       "\t 5 & Miyagi   & 111.3 & 4.90 & 19.7 & 3.04\\\\\n",
       "\t 5 & Akita    & 112.3 & 5.08 & 19.9 & 3.16\\\\\n",
       "\\end{tabular}\n"
      ],
      "text/markdown": [
       "\n",
       "A tibble: 6 × 6\n",
       "\n",
       "| year &lt;dbl&gt; | category &lt;chr&gt; | height_average &lt;dbl&gt; | height_standard deviation &lt;dbl&gt; | body weight _average &lt;dbl&gt; | body weight _standard deviation &lt;dbl&gt; |\n",
       "|---|---|---|---|---|---|\n",
       "| 5 | national | 111.0 | 4.87 | 19.3 | 2.79 |\n",
       "| 5 | Hokkaido | 111.3 | 4.81 | 19.3 | 2.83 |\n",
       "| 5 | Aomori   | 111.8 | 4.87 | 19.9 | 2.78 |\n",
       "| 5 | Iwate    | 111.0 | 5.08 | 19.6 | 3.02 |\n",
       "| 5 | Miyagi   | 111.3 | 4.90 | 19.7 | 3.04 |\n",
       "| 5 | Akita    | 112.3 | 5.08 | 19.9 | 3.16 |\n",
       "\n"
      ],
      "text/plain": [
       "  year category height_average height_standard deviation body weight _average\n",
       "1 5    national 111.0          4.87                      19.3                \n",
       "2 5    Hokkaido 111.3          4.81                      19.3                \n",
       "3 5    Aomori   111.8          4.87                      19.9                \n",
       "4 5    Iwate    111.0          5.08                      19.6                \n",
       "5 5    Miyagi   111.3          4.90                      19.7                \n",
       "6 5    Akita    112.3          5.08                      19.9                \n",
       "  body weight _standard deviation\n",
       "1 2.79                           \n",
       "2 2.83                           \n",
       "3 2.78                           \n",
       "4 3.02                           \n",
       "5 3.04                           \n",
       "6 3.16                           "
      ]
     },
     "metadata": {},
     "output_type": "display_data"
    }
   ],
   "source": [
    "man_data <- read_csv(\"man.csv\")\n",
    "head(man_data)"
   ]
  },
  {
   "cell_type": "markdown",
   "id": "b10512ed-62f1-4d6b-b61b-ce5840c49ebc",
   "metadata": {},
   "source": [
    "Removed the unused "
   ]
  },
  {
   "cell_type": "code",
   "execution_count": 12,
   "id": "fce0dca1-4620-43f7-9536-d342fd65035c",
   "metadata": {
    "tags": []
   },
   "outputs": [
    {
     "ename": "ERROR",
     "evalue": "Error in UseMethod(\"count\"): no applicable method for 'count' applied to an object of class \"character\"\n",
     "output_type": "error",
     "traceback": [
      "Error in UseMethod(\"count\"): no applicable method for 'count' applied to an object of class \"character\"\nTraceback:\n",
      "1. count(unique(man_data$category))"
     ]
    }
   ],
   "source": []
  },
  {
   "cell_type": "markdown",
   "id": "5ce56f07-c706-41ac-bf18-d830130e983f",
   "metadata": {},
   "source": [
    "# Methods"
   ]
  },
  {
   "cell_type": "markdown",
   "id": "5be72a9c-bb8a-430c-829d-f0a4385947fb",
   "metadata": {},
   "source": []
  },
  {
   "cell_type": "markdown",
   "id": "86d1e0f3-1e81-4bf6-a57d-2f12e1e55a95",
   "metadata": {},
   "source": [
    "# Expected Outcomes and Significance"
   ]
  },
  {
   "cell_type": "markdown",
   "id": "6299424a-1a34-4347-895a-f6f01cac90a1",
   "metadata": {},
   "source": []
  }
 ],
 "metadata": {
  "kernelspec": {
   "display_name": "R",
   "language": "R",
   "name": "ir"
  },
  "language_info": {
   "codemirror_mode": "r",
   "file_extension": ".r",
   "mimetype": "text/x-r-source",
   "name": "R",
   "pygments_lexer": "r",
   "version": "4.2.2"
  }
 },
 "nbformat": 4,
 "nbformat_minor": 5
}
